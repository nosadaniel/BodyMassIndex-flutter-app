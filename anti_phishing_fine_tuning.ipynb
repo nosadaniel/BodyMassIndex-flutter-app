{
  "nbformat": 4,
  "nbformat_minor": 0,
  "metadata": {
    "colab": {
      "provenance": [],
      "mount_file_id": "13oghrH7RAtCYLHZ1t5lPwIHd04zx5h_j",
      "authorship_tag": "ABX9TyNojcWTDT/p+BIsp/fp78GP",
      "include_colab_link": true
    },
    "kernelspec": {
      "name": "python3",
      "display_name": "Python 3"
    },
    "language_info": {
      "name": "python"
    }
  },
  "cells": [
    {
      "cell_type": "markdown",
      "metadata": {
        "id": "view-in-github",
        "colab_type": "text"
      },
      "source": [
        "<a href=\"https://colab.research.google.com/github/nosadaniel/BodyMassIndex-flutter-app/blob/master/anti_phishing_fine_tuning.ipynb\" target=\"_parent\"><img src=\"https://colab.research.google.com/assets/colab-badge.svg\" alt=\"Open In Colab\"/></a>"
      ]
    },
    {
      "cell_type": "code",
      "execution_count": 2,
      "metadata": {
        "id": "DrsOiEzXp9ap",
        "colab": {
          "base_uri": "https://localhost:8080/"
        },
        "outputId": "1d83717d-6fe5-479a-dc9f-7fcbc5ad7274"
      },
      "outputs": [
        {
          "output_type": "stream",
          "name": "stdout",
          "text": [
            "\u001b[2K     \u001b[90m━━━━━━━━━━━━━━━━━━━━━━━━━━━━━━━━━━━━━━━━\u001b[0m \u001b[32m43.7/43.7 kB\u001b[0m \u001b[31m1.3 MB/s\u001b[0m eta \u001b[36m0:00:00\u001b[0m\n",
            "\u001b[2K   \u001b[90m━━━━━━━━━━━━━━━━━━━━━━━━━━━━━━━━━━━━━━━━\u001b[0m \u001b[32m143.8/143.8 kB\u001b[0m \u001b[31m1.7 MB/s\u001b[0m eta \u001b[36m0:00:00\u001b[0m\n",
            "\u001b[2K   \u001b[90m━━━━━━━━━━━━━━━━━━━━━━━━━━━━━━━━━━━━━━━━\u001b[0m \u001b[32m367.9/367.9 kB\u001b[0m \u001b[31m4.6 MB/s\u001b[0m eta \u001b[36m0:00:00\u001b[0m\n",
            "\u001b[2K   \u001b[90m━━━━━━━━━━━━━━━━━━━━━━━━━━━━━━━━━━━━━━━━\u001b[0m \u001b[32m441.6/441.6 kB\u001b[0m \u001b[31m15.4 MB/s\u001b[0m eta \u001b[36m0:00:00\u001b[0m\n",
            "\u001b[2K   \u001b[90m━━━━━━━━━━━━━━━━━━━━━━━━━━━━━━━━━━━━━━━━\u001b[0m \u001b[32m47.8/47.8 kB\u001b[0m \u001b[31m3.4 MB/s\u001b[0m eta \u001b[36m0:00:00\u001b[0m\n",
            "\u001b[2K   \u001b[90m━━━━━━━━━━━━━━━━━━━━━━━━━━━━━━━━━━━━━━━━\u001b[0m \u001b[32m2.5/2.5 MB\u001b[0m \u001b[31m23.4 MB/s\u001b[0m eta \u001b[36m0:00:00\u001b[0m\n",
            "\u001b[2K   \u001b[90m━━━━━━━━━━━━━━━━━━━━━━━━━━━━━━━━━━━━━━━━\u001b[0m \u001b[32m1.4/1.4 MB\u001b[0m \u001b[31m46.2 MB/s\u001b[0m eta \u001b[36m0:00:00\u001b[0m\n",
            "\u001b[2K   \u001b[90m━━━━━━━━━━━━━━━━━━━━━━━━━━━━━━━━━━━━━━━━\u001b[0m \u001b[32m43.8/43.8 kB\u001b[0m \u001b[31m3.1 MB/s\u001b[0m eta \u001b[36m0:00:00\u001b[0m\n",
            "\u001b[2K   \u001b[90m━━━━━━━━━━━━━━━━━━━━━━━━━━━━━━━━━━━━━━━━\u001b[0m \u001b[32m50.2/50.2 kB\u001b[0m \u001b[31m3.2 MB/s\u001b[0m eta \u001b[36m0:00:00\u001b[0m\n",
            "\u001b[2K   \u001b[90m━━━━━━━━━━━━━━━━━━━━━━━━━━━━━━━━━━━━━━━━\u001b[0m \u001b[32m45.2/45.2 kB\u001b[0m \u001b[31m3.2 MB/s\u001b[0m eta \u001b[36m0:00:00\u001b[0m\n",
            "\u001b[2K   \u001b[90m━━━━━━━━━━━━━━━━━━━━━━━━━━━━━━━━━━━━━━━━\u001b[0m \u001b[32m50.9/50.9 kB\u001b[0m \u001b[31m3.5 MB/s\u001b[0m eta \u001b[36m0:00:00\u001b[0m\n",
            "\u001b[2K   \u001b[90m━━━━━━━━━━━━━━━━━━━━━━━━━━━━━━━━━━━━━━━━\u001b[0m \u001b[32m216.5/216.5 kB\u001b[0m \u001b[31m14.2 MB/s\u001b[0m eta \u001b[36m0:00:00\u001b[0m\n",
            "\u001b[?25h\u001b[31mERROR: pip's dependency resolver does not currently take into account all the packages that are installed. This behaviour is the source of the following dependency conflicts.\n",
            "google-generativeai 0.8.5 requires google-ai-generativelanguage==0.6.15, but you have google-ai-generativelanguage 0.6.18 which is incompatible.\u001b[0m\u001b[31m\n",
            "\u001b[0mRequirement already satisfied: requests in /usr/local/lib/python3.11/dist-packages (2.32.3)\n",
            "Collecting json-fix\n",
            "  Downloading json_fix-1.0.0-py3-none-any.whl.metadata (3.4 kB)\n",
            "Requirement already satisfied: beautifulsoup4 in /usr/local/lib/python3.11/dist-packages (4.13.4)\n",
            "Requirement already satisfied: charset-normalizer<4,>=2 in /usr/local/lib/python3.11/dist-packages (from requests) (3.4.2)\n",
            "Requirement already satisfied: idna<4,>=2.5 in /usr/local/lib/python3.11/dist-packages (from requests) (3.10)\n",
            "Requirement already satisfied: urllib3<3,>=1.21.1 in /usr/local/lib/python3.11/dist-packages (from requests) (2.4.0)\n",
            "Requirement already satisfied: certifi>=2017.4.17 in /usr/local/lib/python3.11/dist-packages (from requests) (2025.7.14)\n",
            "Requirement already satisfied: soupsieve>1.2 in /usr/local/lib/python3.11/dist-packages (from beautifulsoup4) (2.7)\n",
            "Requirement already satisfied: typing-extensions>=4.0.0 in /usr/local/lib/python3.11/dist-packages (from beautifulsoup4) (4.14.1)\n",
            "Downloading json_fix-1.0.0-py3-none-any.whl (3.8 kB)\n",
            "Installing collected packages: json-fix\n",
            "Successfully installed json-fix-1.0.0\n",
            "\u001b[2K   \u001b[90m━━━━━━━━━━━━━━━━━━━━━━━━━━━━━━━━━━━━━━━━\u001b[0m \u001b[32m494.8/494.8 kB\u001b[0m \u001b[31m2.4 MB/s\u001b[0m eta \u001b[36m0:00:00\u001b[0m\n",
            "\u001b[2K   \u001b[90m━━━━━━━━━━━━━━━━━━━━━━━━━━━━━━━━━━━━━━━━\u001b[0m \u001b[32m193.6/193.6 kB\u001b[0m \u001b[31m11.2 MB/s\u001b[0m eta \u001b[36m0:00:00\u001b[0m\n",
            "\u001b[?25h\u001b[31mERROR: pip's dependency resolver does not currently take into account all the packages that are installed. This behaviour is the source of the following dependency conflicts.\n",
            "gcsfs 2025.3.2 requires fsspec==2025.3.2, but you have fsspec 2025.3.0 which is incompatible.\n",
            "torch 2.6.0+cu124 requires nvidia-cublas-cu12==12.4.5.8; platform_system == \"Linux\" and platform_machine == \"x86_64\", but you have nvidia-cublas-cu12 12.5.3.2 which is incompatible.\n",
            "torch 2.6.0+cu124 requires nvidia-cuda-cupti-cu12==12.4.127; platform_system == \"Linux\" and platform_machine == \"x86_64\", but you have nvidia-cuda-cupti-cu12 12.5.82 which is incompatible.\n",
            "torch 2.6.0+cu124 requires nvidia-cuda-nvrtc-cu12==12.4.127; platform_system == \"Linux\" and platform_machine == \"x86_64\", but you have nvidia-cuda-nvrtc-cu12 12.5.82 which is incompatible.\n",
            "torch 2.6.0+cu124 requires nvidia-cuda-runtime-cu12==12.4.127; platform_system == \"Linux\" and platform_machine == \"x86_64\", but you have nvidia-cuda-runtime-cu12 12.5.82 which is incompatible.\n",
            "torch 2.6.0+cu124 requires nvidia-cudnn-cu12==9.1.0.70; platform_system == \"Linux\" and platform_machine == \"x86_64\", but you have nvidia-cudnn-cu12 9.3.0.75 which is incompatible.\n",
            "torch 2.6.0+cu124 requires nvidia-cufft-cu12==11.2.1.3; platform_system == \"Linux\" and platform_machine == \"x86_64\", but you have nvidia-cufft-cu12 11.2.3.61 which is incompatible.\n",
            "torch 2.6.0+cu124 requires nvidia-curand-cu12==10.3.5.147; platform_system == \"Linux\" and platform_machine == \"x86_64\", but you have nvidia-curand-cu12 10.3.6.82 which is incompatible.\n",
            "torch 2.6.0+cu124 requires nvidia-cusolver-cu12==11.6.1.9; platform_system == \"Linux\" and platform_machine == \"x86_64\", but you have nvidia-cusolver-cu12 11.6.3.83 which is incompatible.\n",
            "torch 2.6.0+cu124 requires nvidia-cusparse-cu12==12.3.1.170; platform_system == \"Linux\" and platform_machine == \"x86_64\", but you have nvidia-cusparse-cu12 12.5.1.3 which is incompatible.\n",
            "torch 2.6.0+cu124 requires nvidia-nvjitlink-cu12==12.4.127; platform_system == \"Linux\" and platform_machine == \"x86_64\", but you have nvidia-nvjitlink-cu12 12.5.82 which is incompatible.\u001b[0m\u001b[31m\n",
            "\u001b[2K     \u001b[90m━━━━━━━━━━━━━━━━━━━━━━━━━━━━━━━━━━━━━━━\u001b[0m \u001b[32m44.7/44.7 kB\u001b[0m \u001b[31m354.7 kB/s\u001b[0m eta \u001b[36m0:00:00\u001b[0m\n",
            "\u001b[2K   \u001b[90m━━━━━━━━━━━━━━━━━━━━━━━━━━━━━━━━━━━━━━━━\u001b[0m \u001b[32m155.9/155.9 kB\u001b[0m \u001b[31m1.2 MB/s\u001b[0m eta \u001b[36m0:00:00\u001b[0m\n",
            "\u001b[?25h"
          ]
        }
      ],
      "source": [
        "# Install core LangChain/LangGraph/LangSmith, LLM support, and utilities\n",
        "!pip install -qU langgraph langchain langsmith langchain_core langchain_google_genai langchain_community langchain_ollama langchain_mistralai\n",
        "# Install data analysis and visualization libraries\n",
        "!pip install -q matplotlib seaborn plotly scikit-learn pandas numpy\n",
        "\n",
        "# Install some additional libraries for data processing and visualization\n",
        "!pip install requests json-fix beautifulsoup4\n",
        "\n",
        "# instal datasets\n",
        "!pip install -qU datasets\n",
        "\n",
        "#install the URl checking tool\n",
        "!pip install -qU sec-mcp"
      ]
    },
    {
      "cell_type": "code",
      "source": [
        "# update the sec-mcp blacklist database\n",
        "!sec-mcp update\n",
        "\n",
        "#check sec-mcp status(optional)\n",
        "!sec-mcp status"
      ],
      "metadata": {
        "colab": {
          "base_uri": "https://localhost:8080/"
        },
        "id": "gYoY7hPzmGU4",
        "outputId": "e428a4f5-a922-42c5-ac4e-a81ceaad2082"
      },
      "execution_count": null,
      "outputs": [
        {
          "output_type": "stream",
          "name": "stdout",
          "text": [
            "2025-07-17 04:59:12,605 - httpx - INFO - HTTP Request: GET https://www.spamhaus.org/drop/drop.txt \"HTTP/1.1 200 OK\"\n",
            "2025-07-17 04:59:12,613 - sec_mcp.update_blacklist - INFO - First 5 parsed entries for SpamhausDROP: [(None, '1.10.16.0/20', '2025-07-17 04:59:12', 8, 'SpamhausDROP'), (None, '1.19.0.0/16', '2025-07-17 04:59:12', 8, 'SpamhausDROP'), (None, '1.32.128.0/18', '2025-07-17 04:59:12', 8, 'SpamhausDROP'), (None, '2.56.192.0/22', '2025-07-17 04:59:12', 8, 'SpamhausDROP'), (None, '2.57.122.0/24', '2025-07-17 04:59:12', 8, 'SpamhausDROP')]\n",
            "2025-07-17 04:59:21,739 - sec_mcp.update_blacklist - INFO - Updated SpamhausDROP: 0 URLs, 0 domains, 1544 IPs.\n",
            "2025-07-17 04:59:21,741 - httpx - INFO - HTTP Request: GET https://raw.githubusercontent.com/openphish/public_feed/refs/heads/main/feed.txt \"HTTP/1.1 200 OK\"\n",
            "2025-07-17 04:59:21,744 - httpx - INFO - HTTP Request: GET https://data.phishtank.com/data/online-valid.csv \"HTTP/1.1 302 Found\"\n",
            "2025-07-17 04:59:21,753 - sec_mcp.update_blacklist - INFO - First 5 parsed entries for OpenPhish: [('https://ledger-ledgerlive.us/ConnectLedger/ledgderlive/', None, '2025-07-17 04:59:21', 8, 'OpenPhish'), ('http://saldodanafreeeee.duckdns.org/', None, '2025-07-17 04:59:21', 8, 'OpenPhish'), ('https://deepstratum.com/plala.webjp/Sites/index.html', None, '2025-07-17 04:59:21', 8, 'OpenPhish'), ('https://outlook-live-authworkspace-organizationsigninge39f93meea.com/', None, '2025-07-17 04:59:21', 8, 'OpenPhish'), ('http://bafybeigmhqjxwboaucbgnrv7avsl66zkpzrxoojof2j6igh7jczusryb4q.ipfs.dweb.link/', None, '2025-07-17 04:59:21', 8, 'OpenPhish')]\n",
            "2025-07-17 04:59:23,754 - sec_mcp.update_blacklist - INFO - Updated OpenPhish: 234 URLs, 65 domains, 0 IPs.\n",
            "2025-07-17 04:59:23,920 - httpx - INFO - HTTP Request: GET http://cinsscore.com/list/ci-badguys.txt \"HTTP/1.1 200 OK\"\n",
            "2025-07-17 04:59:24,004 - httpx - INFO - HTTP Request: GET https://feodotracker.abuse.ch/downloads/ipblocklist_recommended.txt \"HTTP/1.1 200 OK\"\n",
            "2025-07-17 04:59:24,005 - sec_mcp.update_blacklist - WARNING - No valid entries found for FeodoTracker during update.\n",
            "2025-07-17 04:59:24,005 - sec_mcp.update_blacklist - INFO - Updated FeodoTracker: 0 URLs, 0 domains, 0 IPs.\n",
            "2025-07-17 04:59:24,020 - httpx - INFO - HTTP Request: GET https://urlhaus.abuse.ch/downloads/text/ \"HTTP/1.1 200 OK\"\n",
            "2025-07-17 04:59:24,144 - httpx - INFO - HTTP Request: GET https://www.dshield.org/block.txt \"HTTP/1.1 200 OK\"\n",
            "2025-07-17 04:59:24,145 - sec_mcp.update_blacklist - INFO - First 5 parsed entries for Dshield: [(None, '79.124.62.0', '2025-07-17 04:59:24', 8, 'Dshield'), (None, '87.121.84.0', '2025-07-17 04:59:24', 8, 'Dshield'), (None, '154.212.141.0', '2025-07-17 04:59:24', 8, 'Dshield'), (None, '64.62.156.0', '2025-07-17 04:59:24', 8, 'Dshield'), (None, '104.234.115.0', '2025-07-17 04:59:24', 8, 'Dshield')]\n",
            "2025-07-17 04:59:24,284 - sec_mcp.update_blacklist - INFO - Updated Dshield: 0 URLs, 0 domains, 20 IPs.\n",
            "2025-07-17 04:59:24,285 - httpx - INFO - HTTP Request: GET https://phishstats.info/phish_score.csv \"HTTP/1.1 404 Not Found\"\n",
            "2025-07-17 04:59:24,286 - sec_mcp.update_blacklist - ERROR - Failed to update PhishStats: Client error '404 Not Found' for url 'https://phishstats.info/phish_score.csv'\n",
            "For more information check: https://developer.mozilla.org/en-US/docs/Web/HTTP/Status/404\n",
            "2025-07-17 04:59:24,446 - sec_mcp.update_blacklist - INFO - CINSSCORE first 5 parsed entries: [{'ip': '1.13.246.30', 'date': '2025-07-17 04:59:24', 'score': 8}, {'ip': '1.15.118.23', 'date': '2025-07-17 04:59:24', 'score': 8}, {'ip': '1.15.173.165', 'date': '2025-07-17 04:59:24', 'score': 8}, {'ip': '1.20.102.56', 'date': '2025-07-17 04:59:24', 'score': 8}, {'ip': '1.202.82.212', 'date': '2025-07-17 04:59:24', 'score': 8}]\n",
            "2025-07-17 04:59:24,449 - sec_mcp.update_blacklist - INFO - First 5 parsed entries for CINSSCORE: [(None, '1.13.246.30', '2025-07-17 04:59:24', 8, 'CINSSCORE'), (None, '1.15.118.23', '2025-07-17 04:59:24', 8, 'CINSSCORE'), (None, '1.15.173.165', '2025-07-17 04:59:24', 8, 'CINSSCORE'), (None, '1.20.102.56', '2025-07-17 04:59:24', 8, 'CINSSCORE'), (None, '1.202.82.212', '2025-07-17 04:59:24', 8, 'CINSSCORE')]\n",
            "2025-07-17 05:01:03,689 - sec_mcp.update_blacklist - INFO - Updated CINSSCORE: 0 URLs, 0 domains, 15000 IPs.\n",
            "2025-07-17 05:01:03,694 - httpx - INFO - HTTP Request: GET https://rules.emergingthreats.net/blockrules/compromised-ips.txt \"HTTP/1.1 200 OK\"\n",
            "2025-07-17 05:01:03,695 - httpx - INFO - HTTP Request: GET https://lists.blocklist.de/lists/all.txt \"HTTP/1.1 200 OK\"\n",
            "2025-07-17 05:01:03,697 - httpx - INFO - HTTP Request: GET https://cdn.phishtank.com/datadumps/verified_online.csv?Expires=1752728363&Signature=t~lq-18LnsGrE1vCPWzOiFCYespShMciZnxeWETYVk3~5AN1eBZKApUDeVBUVHU~TsKjU0~LCYzLWF49LjNucplF9mtGAZSLWpHKOyuKn0zNaVs7Wv6GI0PcTDcRlsOTQqscbN-o6ia93IbLZVdkTTQ-8hYSjvZCY3MDt4K5y~pq3sKy2AMKU-f2KfYaNWsMRj4pLXvDQbXY7hgZV4Yd~aQfJm3l6p1g8AwllFTu5g3TjpvFgwl9nzSHeKUXNagff-f6wlZkmo-7~X7rUYbO1gDskTwrkDwJ6Mu6LdQ65TlO200kN4KddfESbAKJQqba2nUrrf2tpmEKvY9fRhg3oQ__&Key-Pair-Id=APKAILB45UG3RB4CSOJA \"HTTP/1.1 404 Not Found\"\n",
            "2025-07-17 05:01:03,702 - sec_mcp.update_blacklist - ERROR - Failed to update PhishTank: Client error '404 Not Found' for url 'https://cdn.phishtank.com/datadumps/verified_online.csv?Expires=1752728363&Signature=t~lq-18LnsGrE1vCPWzOiFCYespShMciZnxeWETYVk3~5AN1eBZKApUDeVBUVHU~TsKjU0~LCYzLWF49LjNucplF9mtGAZSLWpHKOyuKn0zNaVs7Wv6GI0PcTDcRlsOTQqscbN-o6ia93IbLZVdkTTQ-8hYSjvZCY3MDt4K5y~pq3sKy2AMKU-f2KfYaNWsMRj4pLXvDQbXY7hgZV4Yd~aQfJm3l6p1g8AwllFTu5g3TjpvFgwl9nzSHeKUXNagff-f6wlZkmo-7~X7rUYbO1gDskTwrkDwJ6Mu6LdQ65TlO200kN4KddfESbAKJQqba2nUrrf2tpmEKvY9fRhg3oQ__&Key-Pair-Id=APKAILB45UG3RB4CSOJA'\n",
            "For more information check: https://developer.mozilla.org/en-US/docs/Web/HTTP/Status/404\n",
            "2025-07-17 05:01:03,802 - sec_mcp.update_blacklist - INFO - BlocklistDE first 5 parsed entries: [{'ip': '1.12.228.33', 'url': None, 'date': '2025-07-17 05:01:03', 'score': 8}, {'ip': '1.13.92.75', 'url': None, 'date': '2025-07-17 05:01:03', 'score': 8}, {'ip': '1.14.12.141', 'url': None, 'date': '2025-07-17 05:01:03', 'score': 8}, {'ip': '1.14.14.169', 'url': None, 'date': '2025-07-17 05:01:03', 'score': 8}, {'ip': '1.14.73.93', 'url': None, 'date': '2025-07-17 05:01:03', 'score': 8}]\n",
            "2025-07-17 05:01:03,808 - sec_mcp.update_blacklist - INFO - First 5 parsed entries for BlocklistDE: [(None, '1.12.228.33', '2025-07-17 05:01:03', 8, 'BlocklistDE'), (None, '1.13.92.75', '2025-07-17 05:01:03', 8, 'BlocklistDE'), (None, '1.14.12.141', '2025-07-17 05:01:03', 8, 'BlocklistDE'), (None, '1.14.14.169', '2025-07-17 05:01:03', 8, 'BlocklistDE'), (None, '1.14.73.93', '2025-07-17 05:01:03', 8, 'BlocklistDE')]\n"
          ]
        }
      ]
    },
    {
      "cell_type": "markdown",
      "source": [
        "Get api keys"
      ],
      "metadata": {
        "id": "JUBOuUHPzCrb"
      }
    },
    {
      "cell_type": "code",
      "source": [
        "from google.colab import userdata\n",
        "google_api_key = userdata.get('GOOGLE_API_KEY')\n",
        "langsmith_endpoint = userdata.get('LANGSMITH_ENDPOINT')\n",
        "langsmith_api_key = userdata.get('LANGSMITH_API_KEY')\n",
        "langsmith_tracing = userdata.get('LANGSMITH_TRACING')\n",
        "langsmith_project = userdata.get('LANGSMITH_PROJECT')\n",
        "mistral_api_key = userdata.get('MISTRAL_API_KEY')\n"
      ],
      "metadata": {
        "id": "8crHJ2gGsuc7"
      },
      "execution_count": null,
      "outputs": []
    },
    {
      "cell_type": "code",
      "source": [
        "# getting secrets from userdata and setting it into the global environment\n",
        "import os\n",
        "\n",
        "# Assuming the variables are retrieved in a previous cell (e.g., 8crHJ2gGsuc7)\n",
        "# from google.colab import userdata\n",
        "# langsmith_api_key = userdata.get('LANGSMITH_API_KEY')\n",
        "# langsmith_tracing = userdata.get('LANGSMITH_TRACING') # Should be a string like \"true\" or \"false\"\n",
        "# langsmith_project = userdata.get('LANGSMITH_PROJECT')\n",
        "# langsmith_endpoint = userdata.get('LANGSMITH_ENDPOINT') # Optional, if not using default\n",
        "\n",
        "if 'google_api_key' in globals() and google_api_key.low() == 'true':\n",
        "    os.environ[\"GOOGLE_API_KEY\"] = google_api_key\n",
        "    print(\"Google API key set.\")\n",
        "\n",
        "if 'mistral_api_key' in globals() and mistral_api_key:\n",
        "    os.environ[\"MISTRAL_API_KEY\"] = mistral_api_key\n",
        "    print(\"Mistral API key set.\")\n",
        "# Set LangSmith environment variables\n",
        "if 'langsmith_tracing' in globals() and langsmith_tracing.lower() == 'true':\n",
        "    os.environ[\"LANGCHAIN_TRACING\"] = \"true\"\n",
        "    print(\"LangSmith tracing enabled.\")\n",
        "else:\n",
        "    os.environ[\"LANGCHAIN_TRACING\"] = \"false\"\n",
        "    print(\"LangSmith tracing disabled.\")\n",
        "\n",
        "if 'langsmith_api_key' in globals() and langsmith_api_key:\n",
        "    os.environ[\"LANGCHAIN_API_KEY\"] = langsmith_api_key\n",
        "    print(\"LangSmith API key set.\")\n",
        "else:\n",
        "    print(\"LangSmith API key not found or empty. Tracing may not work.\")\n",
        "\n",
        "\n",
        "if 'langsmith_project' in globals() and langsmith_project:\n",
        "    os.environ[\"LANGCHAIN_PROJECT\"] = langsmith_project\n",
        "    print(f\"LangSmith project set to: {langsmith_project}\")\n",
        "else:\n",
        "     print(\"LangSmith project name not found or empty. Using default project.\")\n",
        "\n",
        "\n",
        "if 'langsmith_endpoint' in globals() and langsmith_endpoint:\n",
        "    os.environ[\"LANGCHAIN_ENDPOINT\"] = langsmith_endpoint\n",
        "    print(f\"LangSmith endpoint set to: {langsmith_endpoint}\")\n",
        "# else: Using default LangSmith endpoint"
      ],
      "metadata": {
        "colab": {
          "base_uri": "https://localhost:8080/"
        },
        "id": "Rq1Pr3PMNlG4",
        "outputId": "63861c65-7022-4b48-c44a-5932159d4f9e"
      },
      "execution_count": 110,
      "outputs": [
        {
          "output_type": "stream",
          "name": "stdout",
          "text": [
            "LangSmith tracing enabled.\n",
            "LangSmith API key set.\n",
            "LangSmith project set to: Anti_phishing_fine_tuning\n",
            "LangSmith endpoint set to: https://api.smith.langchain.com\n"
          ]
        }
      ]
    },
    {
      "cell_type": "code",
      "source": [
        "from langchain_google_genai import ChatGoogleGenerativeAI\n",
        "from langchain_ollama import ChatOllama\n",
        "from langchain_mistralai import ChatMistralAI\n",
        "def get_llm(llm_provider_name):\n",
        "  try:\n",
        "    llm = None\n",
        "    if llm_provider_name == 'gemini':\n",
        "      llm = ChatGoogleGenerativeAI(\n",
        "        model=\"gemini-1.5-flash\", temperature=0.0, google_api_key=google_api_key)\n",
        "    if llm_provider_name == \"ollama\":\n",
        "      llm = ChatOllama(\n",
        "        model=\"llama3.2:3b\", temperature=0.0, base_url=\"http://127.0.0.1:11434\")\n",
        "    if llm_provider_name == \"mistral\":\n",
        "      llm = ChatMistralAI(\n",
        "        model=\"mistral-large-latest\", temperature=0, max_retries=2)\n",
        "    if llm is None:\n",
        "      raise Exception(\"Invalid LLM provider name\")\n",
        "    return llm\n",
        "  except Exception as e:\n",
        "    print(f\"Error getting LLM: {e}\")\n",
        "    raise e\n",
        "\n",
        "# example\n",
        "llm = get_llm('gemini')\n",
        "if llm is not None:\n",
        "  print(f\"LLM: {llm}\")\n",
        "  messages = [\n",
        "                (\"system\", \"Translate the user sentence to French.\"),\n",
        "                (\"human\", \"I love programming.\"),\n",
        "            ]\n",
        "  result = llm.invoke(messages)\n",
        "\n",
        "  print(result)\n",
        ""
      ],
      "metadata": {
        "colab": {
          "base_uri": "https://localhost:8080/"
        },
        "id": "kGCy_3wZ1a5F",
        "outputId": "b77c1893-9500-4655-c339-36914a1aba79"
      },
      "execution_count": 111,
      "outputs": [
        {
          "output_type": "stream",
          "name": "stdout",
          "text": [
            "LLM: model='models/gemini-1.5-flash' google_api_key=SecretStr('**********') temperature=0.0 client=<google.ai.generativelanguage_v1beta.services.generative_service.client.GenerativeServiceClient object at 0x7f58638a2150> default_metadata=() model_kwargs={}\n",
            "content=\"J'adore programmer.\" additional_kwargs={} response_metadata={'prompt_feedback': {'block_reason': 0, 'safety_ratings': []}, 'finish_reason': 'STOP', 'model_name': 'gemini-1.5-flash', 'safety_ratings': []} id='run--fa664789-bdef-473d-9419-8964dab08536-0' usage_metadata={'input_tokens': 11, 'output_tokens': 6, 'total_tokens': 17, 'input_token_details': {'cache_read': 0}}\n"
          ]
        }
      ]
    },
    {
      "cell_type": "markdown",
      "source": [
        "show available dataset"
      ],
      "metadata": {
        "id": "FHHFHBW6wiiF"
      }
    },
    {
      "cell_type": "code",
      "source": [
        "from pathlib import Path\n",
        "from typing import List\n",
        "def get_all_available_datasets()->List[str]:\n",
        "  # Define path to the dataset directory\n",
        "  dataset_dir = Path('drive/MyDrive/dataset/email_phishing')\n",
        "  #list available datasets\n",
        "  available_datasets = [file for file in dataset_dir.glob('*.csv')]\n",
        "  return available_datasets\n",
        "\n",
        "available_datasets = get_all_available_datasets()\n",
        "for dataset in available_datasets:\n",
        "    print(f\"Available dataset: {dataset}\")"
      ],
      "metadata": {
        "colab": {
          "base_uri": "https://localhost:8080/"
        },
        "id": "gclvcErEwl7g",
        "outputId": "82a280d4-f8d5-4f7f-b779-45c96682abbb"
      },
      "execution_count": 112,
      "outputs": [
        {
          "output_type": "stream",
          "name": "stdout",
          "text": [
            "Available dataset: drive/MyDrive/dataset/email_phishing/Nazario.csv\n",
            "Available dataset: drive/MyDrive/dataset/email_phishing/SpamAssasin.csv\n",
            "Available dataset: drive/MyDrive/dataset/email_phishing/CEAS_08.csv\n",
            "Available dataset: drive/MyDrive/dataset/email_phishing/Nigerian_Fraud.csv\n"
          ]
        }
      ]
    },
    {
      "cell_type": "markdown",
      "source": [
        "Load dataset"
      ],
      "metadata": {
        "id": "c-9MLt1LzJja"
      }
    },
    {
      "cell_type": "code",
      "source": [
        "from datasets import load_dataset\n",
        "\n",
        "def load_local_dataset(type:str, path:str):\n",
        "  try:\n",
        "    dataset = load_dataset(type, data_files=path,split='train')\n",
        "  except Exception as e:\n",
        "    print(f\"Error loading dataset: {e}\")\n",
        "    return None\n",
        "  return dataset\n",
        "\n",
        "\n",
        "#load dataset from google drive\n",
        "dataset_file_names = get_all_available_datasets()\n",
        "nigeria_phishing_dataset = dataset_file_names[3]\n",
        "dataset = load_local_dataset('csv',f'{nigeria_phishing_dataset}')\n",
        "if dataset is not None:\n",
        "  selected_dataset = dataset.select(range(10))\n",
        "  print(selected_dataset)"
      ],
      "metadata": {
        "colab": {
          "base_uri": "https://localhost:8080/"
        },
        "id": "qQ2kvHMy0A3E",
        "outputId": "729894d9-da85-4fec-ef2a-117c135c233a"
      },
      "execution_count": 113,
      "outputs": [
        {
          "output_type": "stream",
          "name": "stdout",
          "text": [
            "Dataset({\n",
            "    features: ['sender', 'receiver', 'date', 'subject', 'body', 'urls', 'label'],\n",
            "    num_rows: 10\n",
            "})\n"
          ]
        }
      ]
    },
    {
      "cell_type": "markdown",
      "source": [
        "# Some Helpers Functions"
      ],
      "metadata": {
        "id": "iNIhwNJV6vO4"
      }
    },
    {
      "cell_type": "code",
      "source": [
        "import re\n",
        "\n",
        "def extract_email_username(email_string) -> tuple[str | None, str | None ]:\n",
        "  \"\"\"\n",
        "  Extracts email and username (name part before the email) from a string.\n",
        "\n",
        "  Args:\n",
        "    email_string: The input string.\n",
        "\n",
        "  Returns:\n",
        "    A tuple containing the email and username (name), or (None, None) if not found.\n",
        "  \"\"\"\n",
        "  # Add a check for None input\n",
        "  if email_string is None:\n",
        "    return None, None\n",
        "\n",
        "  # Regex to capture the name part before the email in angle brackets\n",
        "  match = re.search(r'^(.*?)\\s*<([\\w\\.\\-]+@[\\w\\.\\-]+)>', email_string)\n",
        "  if match:\n",
        "    name = match.group(1).strip() # Extract the name part and remove leading/trailing whitespace\n",
        "    email = match.group(2) # Extract the email part\n",
        "    return email, name\n",
        "  # If the above pattern doesn't match, try to extract just an email without a name part\n",
        "  email_match = re.search(r'<([\\w\\.\\-]+@[\\w\\.\\-]+)>', email_string)\n",
        "  if email_match:\n",
        "      email = email_match.group(1)\n",
        "      return email, None # Return email and None for username if no name is found\n",
        "  # If neither pattern matches, return None for both\n",
        "  return None, None\n",
        "\n",
        "#example\n",
        "for data in selected_dataset:\n",
        "  email,username = extract_email_username(data['sender'])\n",
        "  if email and username:\n",
        "    print(email,username)\n",
        "  elif email:\n",
        "    print(email, \"No username found\")\n",
        "  else:\n",
        "    print(data['sender'], \"No email or username found\")"
      ],
      "metadata": {
        "colab": {
          "base_uri": "https://localhost:8080/"
        },
        "collapsed": true,
        "id": "JcqN6EQr4EXH",
        "outputId": "00934e05-48b8-45aa-f59b-47d2cf7c5526"
      },
      "execution_count": 114,
      "outputs": [
        {
          "output_type": "stream",
          "name": "stdout",
          "text": [
            "james_ngola2002@maktoob.com MR. JAMES NGOLA.\n",
            "bensul2004nng@spinfinder.com Mr. Ben Suleman\n",
            "obong_715@epatra.com PRINCE OBONG ELEME\n",
            "obong_715@epatra.com PRINCE OBONG ELEME\n",
            "m_abacha03@www.com Maryam Abacha\n",
            "davidkuta@postmark.net Kuta David\n",
            "tunde_dosumu@lycos.com Barrister tunde dosumu\n",
            "william2244drallo@maktoob.com William Drallo\n",
            "abdul_817@rediffmail.com MR USMAN ABDUL\n",
            "barrister_td@lycos.com Tunde Dosumu\n"
          ]
        }
      ]
    },
    {
      "cell_type": "code",
      "source": [
        "\n",
        "def extract_url_from_body(message_body: str,is_url:int) -> str | None:\n",
        "  \"\"\"\n",
        "  Extracts a URL from a string only when is_url is true.\n",
        "\n",
        "  Args:\n",
        "    message_body: The input string.\n",
        "\n",
        "  Returns:\n",
        "    The extracted URL, or None if not found.\n",
        "  \"\"\"\n",
        "  if (is_url == 1):\n",
        "      url_match = re.search(r'http[s]?://(?:[a-zA-Z]|[0-9]|[$-_@.&+]|[!*\\\\(\\\\),]|(?:%[0-9a-fA-F][0-9a-fA-F]))+', message_body)\n",
        "      if url_match:\n",
        "          return url_match.group(0)\n",
        "  return None\n",
        "\n",
        "#example\n",
        "for data in selected_dataset:\n",
        "  url = extract_url_from_body(data['body'],data['urls'])\n",
        "  if url:\n",
        "    print(url)\n"
      ],
      "metadata": {
        "colab": {
          "base_uri": "https://localhost:8080/"
        },
        "id": "I0CEgnyu5iIU",
        "outputId": "182a998a-acb5-47bf-c1c8-5d253382abf7"
      },
      "execution_count": 115,
      "outputs": [
        {
          "output_type": "stream",
          "name": "stdout",
          "text": [
            "http://login.mail.lycos.com/brandPage.shtml?pageId=plus&ref=lmtplus\n",
            "http://login.mail.lycos.com/brandPage.shtml?pageId=plus&ref=lmtplus\n"
          ]
        }
      ]
    },
    {
      "cell_type": "code",
      "source": [
        "import re\n",
        "from typing import List # Import List for type hinting\n",
        "\n",
        "def extract_email_from_body(message_body: str) -> List[str]:\n",
        "  \"\"\"\n",
        "  Extracts all unique email addresses from a message body using a comprehensive regex.\n",
        "\n",
        "  Args:\n",
        "    message_body: The input string (message body).\n",
        "\n",
        "  Returns:\n",
        "    A list of unique extracted email addresses. Returns an empty list if none are found.\n",
        "  \"\"\"\n",
        "  # Add a check for None input\n",
        "  if message_body is None:\n",
        "      return []\n",
        "\n",
        "  # More comprehensive regex for email extraction using findall\n",
        "  email_list = re.findall(r'\\b[A-Za-z0-9._%+-]+@[A-Za-z0-9.-]+\\.[A-Z|a-z]{2,}\\b', message_body)\n",
        "\n",
        "  # Remove duplicates by converting to a set and back to a list\n",
        "  unique_emails = list(set(email_list))\n",
        "\n",
        "  return unique_emails\n",
        "\n",
        "# Example usage with the selected_dataset\n",
        "for data in selected_dataset:\n",
        "  emails = extract_email_from_body(data['body'])\n",
        "  if emails:\n",
        "    print(f\"Unique Emails extracted: {emails}\")"
      ],
      "metadata": {
        "colab": {
          "base_uri": "https://localhost:8080/"
        },
        "collapsed": true,
        "id": "LrSkyt6P94nS",
        "outputId": "f1b766b9-e20c-447e-cb7a-c692f326856f"
      },
      "execution_count": 116,
      "outputs": [
        {
          "output_type": "stream",
          "name": "stdout",
          "text": [
            "Unique Emails extracted: ['james_ngola2002@maktoob.com']\n",
            "Unique Emails extracted: ['obong_715@epatra.com']\n",
            "Unique Emails extracted: ['obong_715@epatra.com']\n",
            "Unique Emails extracted: ['tony_m@lawyer.com']\n",
            "Unique Emails extracted: ['davidkuta2002@yahoo.com']\n",
            "Unique Emails extracted: ['barrister_tunde@lawyer.com']\n",
            "Unique Emails extracted: ['william2244@maktoob.com', 'william22drallo@yahoo.com']\n",
            "Unique Emails extracted: ['barrister_tunde@lawyer.com']\n"
          ]
        }
      ]
    },
    {
      "cell_type": "code",
      "source": [
        "def is_phishing(label:int)->bool:\n",
        "  if(label == 1):\n",
        "    return True\n",
        "  return False\n",
        "\n",
        "#example\n",
        "for data in selected_dataset:\n",
        "  is_phishing_email = is_phishing(data['label'])\n",
        "  print(f\"is_phishing: {is_phishing_email}\")"
      ],
      "metadata": {
        "colab": {
          "base_uri": "https://localhost:8080/"
        },
        "id": "OrV6ELG1DWdu",
        "outputId": "eb3c6346-9005-477e-f0d0-1011bd465038"
      },
      "execution_count": 117,
      "outputs": [
        {
          "output_type": "stream",
          "name": "stdout",
          "text": [
            "is_phishing: True\n",
            "is_phishing: True\n",
            "is_phishing: True\n",
            "is_phishing: True\n",
            "is_phishing: True\n",
            "is_phishing: True\n",
            "is_phishing: True\n",
            "is_phishing: True\n",
            "is_phishing: True\n",
            "is_phishing: True\n"
          ]
        }
      ]
    },
    {
      "cell_type": "markdown",
      "source": [
        "Define a structure data for the email database"
      ],
      "metadata": {
        "id": "pblN9HdlMwNK"
      }
    },
    {
      "cell_type": "code",
      "source": [
        "#define class model\n",
        "from typing import List, Optional\n",
        "from pydantic import BaseModel\n",
        "class EmailDataSet(BaseModel):\n",
        "  sender_name: str\n",
        "  sender_email: str | None\n",
        "  receiver_email: str\n",
        "  date: str\n",
        "  subject: str\n",
        "  body: str\n",
        "  urls: List[str]\n",
        "  extra_emails: List[str]\n",
        "  is_phishing: bool\n",
        "\n",
        "\n",
        "class UrlCheckResult(BaseModel):\n",
        "  url: str\n",
        "  is_malicious: bool\n",
        "  confidence: float # 0.0 to 1.0\n",
        "  details: Optional[str] # Explanation from sec-mcp\n",
        "\n",
        "class EmailAndUrlData(BaseModel):\n",
        "  email_data: EmailDataSet\n",
        "  url_checker_results: List[UrlCheckResult]"
      ],
      "metadata": {
        "id": "glCkdotRD1x5"
      },
      "execution_count": 118,
      "outputs": []
    },
    {
      "cell_type": "markdown",
      "source": [
        "format the dataset and return a list of structured email data\n"
      ],
      "metadata": {
        "id": "yiDLPdw13IgW"
      }
    },
    {
      "cell_type": "code",
      "source": [
        "from typing import List\n",
        "from datasets import Dataset\n",
        "\n",
        "def format_dataset(dataset: Dataset) -> List[EmailDataSet]:\n",
        "  emails_data: List[EmailDataSet] = [] # Initialize as an empty list\n",
        "  try:\n",
        "      for data in dataset:\n",
        "        urls = []  # Initialize for each email\n",
        "        # emails_in_body = [] # Initialize for each email - This will now be assigned the list directly\n",
        "\n",
        "        # Use .get() with a default value for potentially missing or None fields\n",
        "        # Use \"\" for strings, [] for lists, 0 for integers, False for booleans etc.\n",
        "        sender_val = data.get('sender', '')\n",
        "        sender_email, sender_name = extract_email_username(sender_val) # Pass the potentially default value to the helper\n",
        "\n",
        "        receiver_email_val = data.get(\"receiver\", \"\") # Get value with default\n",
        "        date_received_val = data.get(\"date\", \"\") # Get value with default\n",
        "        subject_val = data.get(\"subject\", \"\") # Get value with default\n",
        "        body_val = data.get(\"body\", \"\") # Get value with default\n",
        "        urls_flag_val = data.get('urls', 0) # Default to 0 for urls flag\n",
        "        label_val = data.get('label', 0) # Default to 0 for label\n",
        "\n",
        "\n",
        "        url_inside_body = extract_url_from_body(body_val, urls_flag_val) # Use the potentially defaulted body_val and urls_flag_val\n",
        "\n",
        "        is_phish = is_phishing(label_val) # Use the potentially defaulted label_val\n",
        "\n",
        "\n",
        "        if url_inside_body:\n",
        "          urls.append(url_inside_body)\n",
        "\n",
        "        # Use the updated extract_email_from_body function\n",
        "        emails_in_body = extract_email_from_body(body_val) # Use the potentially defaulted body_val\n",
        "        # No need to append to emails_in_body here as extract_email_from_body already returns a list\n",
        "\n",
        "        email_data_item = EmailDataSet( # Use a different variable name to avoid confusion\n",
        "          sender_name=sender_name if sender_name is not None else \"\", # Ensure sender_name is string or \"\"\n",
        "          sender_email=sender_email if sender_email is not None else \"\", # Ensure sender_email is string or \"\"\n",
        "          receiver_email=receiver_email_val if receiver_email_val is not None else \"\", # Explicitly check and default\n",
        "          date=date_received_val if date_received_val is not None else \"\", # Explicitly check and default\n",
        "          subject=subject_val if subject_val is not None else \"\", # Explicitly check and default\n",
        "          body=body_val if body_val is not None else \"\", # Explicitly check and default\n",
        "          urls=urls, # urls list will be handled correctly even if body was None\n",
        "          extra_emails=emails_in_body, # Assign the list of unique emails directly, handled by extract_email_from_body's None check\n",
        "          is_phishing=is_phish\n",
        "        )\n",
        "        emails_data.append(email_data_item)\n",
        "\n",
        "      return emails_data\n",
        "  except Exception as e:\n",
        "    error = f\"Error formatting dataset: {e}\"\n",
        "    print(error)\n",
        "    return []\n",
        "\n",
        "\n",
        "# examples\n",
        "formatted_dataset = format_dataset(selected_dataset)\n",
        "for data in formatted_dataset:\n",
        "  if(data.urls):\n",
        "    print(f\"only email with urls => {data.urls}\")\n"
      ],
      "metadata": {
        "colab": {
          "base_uri": "https://localhost:8080/"
        },
        "collapsed": true,
        "id": "4BQHiKVd3ZXY",
        "outputId": "6717b243-b616-4fe0-d48f-61efa4d4284e"
      },
      "execution_count": 119,
      "outputs": [
        {
          "output_type": "stream",
          "name": "stdout",
          "text": [
            "only email with urls => ['http://login.mail.lycos.com/brandPage.shtml?pageId=plus&ref=lmtplus']\n",
            "only email with urls => ['http://login.mail.lycos.com/brandPage.shtml?pageId=plus&ref=lmtplus']\n"
          ]
        }
      ]
    },
    {
      "cell_type": "markdown",
      "source": [
        "Function to check if urls are malicious"
      ],
      "metadata": {
        "id": "LDDNUdKxGXLT"
      }
    },
    {
      "cell_type": "code",
      "source": [
        "from operator import is_\n",
        "from sec_mcp import SecMCP\n",
        "# initialize SecMCP once\n",
        "sec_mcp_checker = SecMCP()\n",
        "def check_malicious_urls(urls: List[str]) -> List[UrlCheckResult]:\n",
        "  \"\"\"check a list of URLs against security blacklist using the sec_mcp\n",
        "    library. Return a list of check results, one for each URL.\n",
        "  \"\"\"\n",
        "  if not urls: # Corrected condition to check if the list is empty\n",
        "    return []\n",
        "\n",
        "  #print(f\"checking {len(urls)} URLs: {urls}\")\n",
        "  results = []\n",
        "  try:\n",
        "    # use batch checking for efficiency\n",
        "    batch_results = sec_mcp_checker.check_batch(urls)\n",
        "    for i, url in enumerate(urls):\n",
        "      #\n",
        "      if i < len(batch_results):\n",
        "        check_result = batch_results[i]\n",
        "        is_malicious = check_result.blacklisted\n",
        "        confidence = 1.0 if is_malicious else 0.5\n",
        "        details = check_result.explanation\n",
        "        results.append({\n",
        "          'url': url,\n",
        "          'is_malicious': is_malicious,\n",
        "          'confidence': confidence,\n",
        "          'details': details\n",
        "        })\n",
        "      else: # Handle potential mismatch in results length (unlikely but safe)\n",
        "          results.append({\n",
        "            'url': url,\n",
        "            'is_malicious': False,\n",
        "            'confidence': 0.0,\n",
        "            'details': \"Check result unavalable\"\n",
        "          })\n",
        "    return results\n",
        "  except Exception as e:\n",
        "    # Return default safe results on error\n",
        "    error_results = [{\n",
        "      'url': url,\n",
        "      'is_malicious': False,\n",
        "      'confidence': 0.0,\n",
        "      'details': f\"Error checking URL: {str(e)}\"\n",
        "    } for url in urls]\n",
        "    print(f\"Error checking URL: {error_results}\")\n",
        "    return error_results\n",
        "\n",
        "# Example Test:\n",
        "formatted_dataset = format_dataset(selected_dataset)\n",
        "# Flatten the list of lists of URLs into a single list of URLs\n",
        "urls_to_check = [url for data in formatted_dataset for url in data.urls]\n",
        "check_urls_result = check_malicious_urls(urls_to_check)\n",
        "for result in check_urls_result:\n",
        "\n",
        "  print(f\"url_checker => {result}\")\n",
        "# or do this\n",
        "#for data in formatted_dataset:\n",
        " # if data.urls:\n",
        "  #  urls_results = check_malicious_urls(data.urls)\n",
        "   # print(f\"urls results: {urls_results}\")"
      ],
      "metadata": {
        "colab": {
          "base_uri": "https://localhost:8080/"
        },
        "id": "ivbC1bjNNYIL",
        "outputId": "767e1933-20ce-4a25-cbe2-1b83507704cb"
      },
      "execution_count": 120,
      "outputs": [
        {
          "output_type": "stream",
          "name": "stdout",
          "text": [
            "url_checker => {'url': 'http://login.mail.lycos.com/brandPage.shtml?pageId=plus&ref=lmtplus', 'is_malicious': False, 'confidence': 0.5, 'details': 'Not blacklisted'}\n",
            "url_checker => {'url': 'http://login.mail.lycos.com/brandPage.shtml?pageId=plus&ref=lmtplus', 'is_malicious': False, 'confidence': 0.5, 'details': 'Not blacklisted'}\n"
          ]
        }
      ]
    },
    {
      "cell_type": "markdown",
      "source": [
        "Get Results"
      ],
      "metadata": {
        "id": "9BoUHIAPXC_E"
      }
    },
    {
      "cell_type": "code",
      "source": [
        "def full_email_data(dataset) ->List[EmailAndUrlData]:\n",
        "  try:\n",
        "    results =  []\n",
        "    formatted_dataset = format_dataset(dataset)\n",
        "    # Flatten the list of lists of URLs into a single list of URLs\n",
        "    for data in formatted_dataset:\n",
        "      if data.urls:\n",
        "        #check for malicious url\n",
        "        check_urls_result = check_malicious_urls(data.urls)\n",
        "        result_url = EmailAndUrlData(\n",
        "            email_data=data,\n",
        "            url_checker_results=check_urls_result\n",
        "          )\n",
        "        results.append(result_url)\n",
        "      else:\n",
        "        result = EmailAndUrlData(\n",
        "            email_data=data,\n",
        "            url_checker_results=[]\n",
        "          )\n",
        "        results.append(result)\n",
        "    return results\n",
        "  except Exception as e:\n",
        "    print(f\"Error getting results: {e}\")\n",
        "    return []\n",
        "\n",
        "#example\n",
        "results = full_email_data(selected_dataset)\n",
        "for result in results:\n",
        "    print(f\"email_data: {result.email_data}\")\n",
        "    print(f\"url_checker_result: {result.url_checker_results}\")\n",
        "\n",
        "\n",
        "\n"
      ],
      "metadata": {
        "colab": {
          "base_uri": "https://localhost:8080/"
        },
        "id": "lpj2oEg9GWF-",
        "outputId": "321cf3c7-41c3-4787-a932-e69dfb12fa63"
      },
      "execution_count": 121,
      "outputs": [
        {
          "output_type": "stream",
          "name": "stdout",
          "text": [
            "email_data: sender_name='MR. JAMES NGOLA.' sender_email='james_ngola2002@maktoob.com' receiver_email='webmaster@aclweb.org' date='Thu, 31 Oct 2002 02:38:20 +0000' subject='URGENT BUSINESS ASSISTANCE AND PARTNERSHIP' body='FROM:MR. JAMES NGOLA.\\nCONFIDENTIAL TEL: 233-27-587908.\\nE-MAIL: (james_ngola2002@maktoob.com).\\n\\nURGENT BUSINESS ASSISTANCE AND PARTNERSHIP.\\n\\n\\nDEAR FRIEND,\\n\\nI AM ( DR.) JAMES NGOLA, THE PERSONAL ASSISTANCE TO THE LATE CONGOLESE (PRESIDENT LAURENT KABILA) WHO WAS ASSASSINATED BY HIS BODY GUARD ON 16TH JAN. 2001.\\n\\n\\nTHE INCIDENT OCCURRED IN OUR PRESENCE WHILE WE WERE HOLDING MEETING WITH HIS EXCELLENCY OVER THE FINANCIAL RETURNS FROM THE DIAMOND SALES IN THE AREAS CONTROLLED BY (D.R.C.) DEMOCRATIC REPUBLIC OF CONGO FORCES AND THEIR FOREIGN ALLIES ANGOLA AND ZIMBABWE, HAVING RECEIVED THE PREVIOUS DAY (USD$100M) ONE HUNDRED MILLION UNITED STATES DOLLARS, CASH IN THREE DIPLOMATIC BOXES ROUTED THROUGH ZIMBABWE.\\n\\nMY PURPOSE OF WRITING YOU THIS LETTER IS TO SOLICIT FOR YOUR ASSISTANCE AS TO BE A COVER TO THE FUND AND ALSO COLLABORATION IN MOVING THE SAID FUND INTO YOUR BANK ACCOUNT THE SUM OF (USD$25M) TWENTY FIVE MILLION UNITED STATES DOLLARS ONLY, WHICH I DEPOSITED WITH A SECURITY COMPANY IN GHANA, IN A DIPLOMATIC BOX AS GOLDS WORTH (USD$25M) TWENTY FIVE MILLION UNITED STATES DOLLARS ONLY FOR SAFE KEEPING IN A SECURITY VAULT FOR ANY FURTHER INVESTMENT PERHAPS IN YOUR COUNTRY. \\n\\nYOU WERE INTRODUCED TO ME BY A RELIABLE FRIEND OF MINE WHO IS A TRAVELLER,AND ALSO A MEMBER OF CHAMBER OF COMMERCE AS A RELIABLE AND TRUSTWORTHY PERSON WHOM I CAN RELY ON AS FOREIGN PARTNER, EVEN THOUGH THE NATURE OF THE TRANSACTION WAS NOT REVEALED TO HIM FOR SECURITY REASONS.\\n\\n\\nTHE (USD$25M) WAS PART OF A PROCEEDS FROM DIAMOND TRADE MEANT FOR THE LATE PRESIDENT LAURENT KABILA WHICH WAS DELIVERED THROUGH ZIMBABWE IN DIPLOMATIC BOXES. THE BOXES WERE KEPT UNDER MY CUSTODY BEFORE THE SAD EVENT THAT TOOK THE LIFE OF (MR. PRESIDENT).THE CONFUSION THAT ENSUED AFTER THE ASSASSINATION AND THE SPORADIC SHOOTING AMONG THE FACTIONS, I HAVE TO RUN AWAY FROM THE COUNTRY FOR MY DEAR LIFE AS I AM NOT A SOLDIER BUT A CIVIL SERVANT I CROSSED RIVER CONGO TO OTHER SIDE OF CONGO LIBREVILLE FROM THERE I MOVED TO THE THIRD COUNTRY GHANA WHERE I AM PRESENTLY TAKING REFUGE. \\n\\nAS A MATTER OF FACT, WHAT I URGENTLY NEEDED FROM YOU IS YOUR ASSISTANCE IN MOVING THIS MONEY INTO YOUR ACCOUNT IN YOUR COUNTRY FOR INVESTMENT WITHOUT RAISING EYEBROW. FOR YOUR ASSISTANCE I WILL GIVE YOU 20% OF THE TOTAL SUM AS YOUR OWN SHARE WHEN THE MONEY GETS TO YOUR ACCOUNT, WHILE 75% WILL BE FOR ME, OF WHICH WITH YOUR KIND ADVICE I HOPE TO INVEST IN PROFITABLE VENTURE IN YOUR COUNTRY IN OTHER TO SETTLE DOWN FOR MEANINGFUL LIFE, AS I AM TIRED OF LIVING IN A WAR ENVIRONMENT. \\n\\nTHE REMAINING 5% WILL BE USED TO OFFSET ANY COST INCURRED IN THE CAUSE OF MOVING THE MONEY TO YOUR ACCOUNT. IF THE PROPOSAL IS ACCEPTABLE TO YOU PLEASE CONTACT ME IMMEDIATELY THROUGH THE ABOVE TELEPHONE AND E-MAIL, TO ENABLE ME ARRANGE FACE TO FACE MEETING WITH YOU IN GHANA FOR THE CLEARANCE OF THE FUNDS BEFORE TRANSFRING IT TO YOUR BANK ACCOUNT AS SEEING IS BELIEVING. \\n\\nFINALLY, IT IS IMPORTANT ALSO THAT I LET YOU UNDERSTAND THAT THERE IS NO RISK INVOLVED WHATSOEVER AS THE MONEY HAD NO RECORD IN KINSHASA FOR IT WAS MEANT FOR THE PERSONAL USE OF (MR. PRESIDEND ) BEFORE THE NEFARIOUS INCIDENT OCCURRED, AND ALSO I HAVE ALL THE NECESSARY DOCUMENTS AS REGARDS TO THE FUNDS INCLUDING THE (CERTIFICATE OF DEPOSIT), AS I AM THE DEPOSITOR OF THE CONSIGNMENT.\\n\\n\\nLOOKING FORWARD TO YOUR URGENT RESPONSE.\\n\\nYOUR SINCERELY,\\n\\nMR. JAMES NGOLA. \\n\\n\\n\\n\\n\\n\\n\\n\\n\\n\\n' urls=[] extra_emails=['james_ngola2002@maktoob.com'] is_phishing=True\n",
            "url_checker_result: []\n",
            "email_data: sender_name='Mr. Ben Suleman' sender_email='bensul2004nng@spinfinder.com' receiver_email='R@M' date='Thu, 31 Oct 2002 05:10:00 -0000' subject='URGENT ASSISTANCE /RELATIONSHIP (P)' body='Dear Friend,\\n\\nI am Mr. Ben Suleman a custom officer and work as Assistant controller of the Customs and Excise department Of the Federal Ministry of Internal Affairs stationed at the Murtala Mohammed International Airport, Ikeja, Lagos-Nigeria.\\n\\nAfter the sudden death of the former Head of state of Nigeria General Sanni Abacha on June 8th 1998 his aides and immediate members of his family were arrested while trying to escape from Nigeria in a Chartered jet to Saudi Arabia with 6 trunk boxes Marked \"Diplomatic Baggage\". Acting on a tip-off as they attempted to board the Air Craft,my officials carried out a thorough search on the air craft and discovered that the 6 trunk boxes contained foreign currencies amounting to US$197,570,000.00(One Hundred and  Ninety-Seven Million Five Hundred Seventy Thousand United States Dollars).\\n\\nI declared only (5) five boxes to the government and withheld one (1) in my custody containing the sum of (US$30,000,000.00) Thirty Million United States Dollars Only, which has been disguised to prevent their being discovered during transportation process.Due to several media reports on the late head of state about all the money him and his co-government officials stole from our government treasury amounting\\nto US$55 Billion Dollars (ref:ngrguardiannews.com) of July 2nd 1999. Even the London times of July 1998 reported that General Abacha has over US$3.Billion dollars in one account overseas. We decided to conceal this one (1)box till the situation is calm and quite on the issue. The box was thus deposited with a security company here in Nigeria and tagged as \"Precious Stones and Jewellry\" in other that its\\ncontent will not be discovered. Now that all is calm, we (myself and two of my colleagues in the operations team) are now ready to move this box out of the country through a diplomatic arrangement which is the safest means. \\n\\nHowever as government officials the Civil Service Code of Conduct does not allow us by law to operate any foreign account or own foreign investment and the amount of money that can be found in our account\\ncannot be more than our salary on the average, thus our handicapp and our need for your assistance to help collect and keep safely in your account this money.\\n\\nTherefore we want you to assist us in moving this money out of Nigeria. We shall definitely compensate you handsomely for the assistance. We can do this by instructing the Security Company here in Nigeria to\\nmove the consignment to their affiliate branch office outside Nigeria through diplomatic means and the consignment will be termed as Precious Stones and Jewelleries\" which you bought during your visit to Nigeria and is being transfered to your country from here for safe keeping. Then we can arrange to meet at the destination country to take the delivery of the consignment. You will thereafter open an account there and lodge the Money there and gradually instruct remittance to your Country. \\n\\nThis business is 100% risk free for you so please treat this matter with utmost confidentiality .If you indicate your interest to assist us please just e-mail me for more Explanation on how we plan to execute the transaction.\\n\\nExpecting your response urgently.\\n\\nBest regards,\\n\\nMr. Ben Suleman\\n\\n' urls=[] extra_emails=[] is_phishing=True\n",
            "url_checker_result: []\n",
            "email_data: sender_name='PRINCE OBONG ELEME' sender_email='obong_715@epatra.com' receiver_email='webmaster@aclweb.org' date='Thu, 31 Oct 2002 22:17:55 +0100' subject='GOOD DAY TO YOU' body='FROM HIS ROYAL MAJESTY (HRM) CROWN RULER OF ELEME KINGDOM \\nCHIEF DANIEL ELEME, PHD, EZE 1 OF ELEME.E-MAIL \\nADDRESS:obong_715@epatra.com  \\n\\nATTENTION:PRESIDENT,CEO Sir/ Madam. \\n\\nThis letter might surprise you because we have met\\nneither in person nor by correspondence. But I believe\\nit is one day that you got to know somebody either in\\nphysical or through correspondence. \\n\\nI got your contact through discreet inquiry from the\\nchambers of commerce and industry of your country on\\nthe net, you and your organization were revealed as\\nbeing quite astute in private entrepreneurship, one\\nhas no doubt in your ability to handle a financialbusiness transaction. \\n\\nHowever, I am the first son of His Royal\\nmajesty,Obong.D. Eleme , and the traditional Ruler of\\nEleme Province in the oil producing area of River\\nState of Nigeria. I am making this contact to you in\\nrespect of US$60,000,000.00 (Sixty Million United\\nState Dollars), which I inherited, from my latefather. \\n\\nThis money was accumulated from royalties paid to my\\nfather as compensation by the oil firms located in our\\narea as a result of oil presence on our land, which\\nhamper agriculture, which is our major source oflivelihood. \\n\\nUnfortunately my father died from protracted\\ndiabetes.But before his death he called my attention\\nand informed me that he lodged some funds on a two\\nboxes with a security firm with an open beneficiary\\nstatus. The lodgment security code number was also\\nrevealed to me, he then advised me to look for a\\nreliable business partner abroad, that will assist me\\nin investing the money in a lucrative business as a\\nresult of economic instability in Nigeria. So this is\\nthe main reason why I am contacting you for us to move\\nthis money from the security firm to any Country of\\nyour choice for investment purpose. \\n\\nSo I will like you to be the ultimate beneficiary, so\\nthat the funds can be moved in your name and\\nparticulars to any Country of your choice where it\\nwill be claimed and invested. Hence my father have had\\nintimated the security firm personnel that the\\nbeneficiary of the box is his foreign partner whose\\nparticulars will be forwarded to the firm when due. \\n\\nBut I will guide you Accordingly. As soon as the funds\\nreach, I will then come over to meet you in person, so\\nthat we can discuss physically on investment\\npotentials. Based on this assistance my Family and I\\nhave unanimously decided to give you 30% of the total\\nmoney, 5% for Charity home, 10% for expenses, which\\nmay arise during this transaction, Fax and phone bills\\ninclusive. The balance of 55% you will invest andmanaged for my Family. \\n\\nI hereby guarantee you that this is not government\\nmoney, it is not drug money and it is not money from\\narms deal. Though you have to maintain high degree of\\nconfidentiality on this matter. I will give more\\ndetails about the proceedings of this transaction as\\nsoon as I receive your favorable reply. \\n\\nPlease reply to my Email Address:obong_715@epatra.com\\nI hope this will be the beginning of a prosperous\\nrelationship between my family and your family. \\n\\nNevertheless if you are for any reason not interested,\\nkindly inform me immediately so that I will look foranother contact. \\n\\nI am waiting for your quick response. \\n\\nYours faithfully, \\n\\nPrince Obong Abbot \\n\\n\\n' urls=[] extra_emails=['obong_715@epatra.com'] is_phishing=True\n",
            "url_checker_result: []\n",
            "email_data: sender_name='PRINCE OBONG ELEME' sender_email='obong_715@epatra.com' receiver_email='webmaster@aclweb.org' date='Thu, 31 Oct 2002 22:44:20 -0000' subject='GOOD DAY TO YOU' body='FROM HIS ROYAL MAJESTY (HRM) CROWN RULER OF ELEME KINGDOM \\nCHIEF DANIEL ELEME, PHD, EZE 1 OF ELEME.E-MAIL \\nADDRESS:obong_715@epatra.com  \\n\\nATTENTION:PRESIDENT,CEO Sir/ Madam. \\n\\nThis letter might surprise you because we have met\\nneither in person nor by correspondence. But I believe\\nit is one day that you got to know somebody either in\\nphysical or through correspondence. \\n\\nI got your contact through discreet inquiry from the\\nchambers of commerce and industry of your country on\\nthe net, you and your organization were revealed as\\nbeing quite astute in private entrepreneurship, one\\nhas no doubt in your ability to handle a financialbusiness transaction. \\n\\nHowever, I am the first son of His Royal\\nmajesty,Obong.D. Eleme , and the traditional Ruler of\\nEleme Province in the oil producing area of River\\nState of Nigeria. I am making this contact to you in\\nrespect of US$60,000,000.00 (Sixty Million United\\nState Dollars), which I inherited, from my latefather. \\n\\nThis money was accumulated from royalties paid to my\\nfather as compensation by the oil firms located in our\\narea as a result of oil presence on our land, which\\nhamper agriculture, which is our major source oflivelihood. \\n\\nUnfortunately my father died from protracted\\ndiabetes.But before his death he called my attention\\nand informed me that he lodged some funds on a two\\nboxes with a security firm with an open beneficiary\\nstatus. The lodgment security code number was also\\nrevealed to me, he then advised me to look for a\\nreliable business partner abroad, that will assist me\\nin investing the money in a lucrative business as a\\nresult of economic instability in Nigeria. So this is\\nthe main reason why I am contacting you for us to move\\nthis money from the security firm to any Country of\\nyour choice for investment purpose. \\n\\nSo I will like you to be the ultimate beneficiary, so\\nthat the funds can be moved in your name and\\nparticulars to any Country of your choice where it\\nwill be claimed and invested. Hence my father have had\\nintimated the security firm personnel that the\\nbeneficiary of the box is his foreign partner whose\\nparticulars will be forwarded to the firm when due. \\n\\nBut I will guide you Accordingly. As soon as the funds\\nreach, I will then come over to meet you in person, so\\nthat we can discuss physically on investment\\npotentials. Based on this assistance my Family and I\\nhave unanimously decided to give you 30% of the total\\nmoney, 5% for Charity home, 10% for expenses, which\\nmay arise during this transaction, Fax and phone bills\\ninclusive. The balance of 55% you will invest andmanaged for my Family. \\n\\nI hereby guarantee you that this is not government\\nmoney, it is not drug money and it is not money from\\narms deal. Though you have to maintain high degree of\\nconfidentiality on this matter. I will give more\\ndetails about the proceedings of this transaction as\\nsoon as I receive your favorable reply. \\n\\nPlease reply to my Email Address:obong_715@epatra.com\\nI hope this will be the beginning of a prosperous\\nrelationship between my family and your family. \\n\\nNevertheless if you are for any reason not interested,\\nkindly inform me immediately so that I will look foranother contact. \\n\\nI am waiting for your quick response. \\n\\nYours faithfully, \\n\\nPrince Obong Eleme\\n\\n' urls=[] extra_emails=['obong_715@epatra.com'] is_phishing=True\n",
            "url_checker_result: []\n",
            "email_data: sender_name='Maryam Abacha' sender_email='m_abacha03@www.com' receiver_email='R@M' date='Fri, 01 Nov 2002 01:45:04 +0100' subject='I Need Your Assistance.' body='Dear sir, \\n \\nIt is with a heart full of hope that I write to seek your help in respect of the context below. I am Mrs. Maryam Abacha the former first lady of the former Military Head of State of Nigeria General Sani Abacha whose sudden death occurred on 8th of June 1998 as a result of cardiac arrest (heart attack) while on the seat of power. \\nI have no doubt about your capability and good-will to assist me in receiving into your custody (for safety) the sum of US$25 Million willed and deposited in my favour by my late husband in a security and deposit company. Though my contact to you for this assistance is not anchored on any personal ecommendation, I pray your understanding, good will and sincere assistance to respond to this message with honest intensions and concern. \\nThis money is currently deposited here with a security company as miscellaneous awaiting collection and according to the agreement entered into at the time of deposit between my late husband and the Security Company at the time of deposit; the collection centre is in Ghana. As it is legally required, the administration of my late husband\\'s properties is under the authority of the family\\'s lawyer Tony Musa. \\n \\nMy Dear JK, since the demise of my husband, the present regime has been probing my late husband\\'s wealth and properties, the London Newsweek of 13th march 2000 referred. The investigating team led by Enrico Monfrini, the lawyer acting on behalf of the Nigerian government has so far submitted their report and presently, some liquid cash and assets, movable and immovable, have been frozen and seized both locally here and internationally and my last hope is rested on the immediate security of this fund in your custody. Also, Johnnie Cochran, the lawyer who defended OJ Simpson, has been brought in by the Abacha entourage to help them retain the disputed funds. Fortunately, our family lawyer had secretly protected the \"Personal will\" of my husband from the notice of the investigators and have strictly advised that the willed money be urgently moved into an overseas account of Trusted Foreign family friend without delay. For security reasons and f!\\nurther advise,! no relations or fr! \\niends of ours should be used; as this is a measure of security. The government had earlier placed foreign travel embargo on all our family members and seized all known local and International outfits of our business empire. \\nThe situation has been so terrible that we are virtually living on the assistance of well-wishers. In view of this plight, I expect you to be trustworthy and kind enough to respond to this \"SOS\" call to save my children and I from a hopeless future. \\nI hereby agree to compensate your sincere and candid effort, immensely, which will be discussed between you, the Attorney and I. On your immediate response, the Attorney will travel to Ghana where both of you will meet, and thereafter proceed to the deposit company for the claims. \\nThe documentations include, most importantly, Power of Attorney and Certificate of Deposit amongst few others. These documents will be sent to you by Fax, as you would have to present them for proper claims. \\nPlease, be rest assured that this transaction is completely safe and legal but must be kept strictly to yourself even after the funds have been secured into our custody. This is so because any leakage of information could ruin the whole transaction. \\nPlease all contacts must be made through my lawyer on his email: tony_m@lawyer.com This has to be so as he has been mandated to handle this matter and I have fully briefed him (my Attorney) on my contact to you. Due to my present circumstance, I have handed everything over to him to co - ordinate and finalize with you and I will communicate you as at when necessary. Please for the safety of this transaction, reply stating your phone and fax numbers to enable them contact you directly without running the risk of mail interception. \\nI look forward to your quick response. \\nBest Wishes, \\nMrs. Maryam Abacha \\n \\n\\n\\n' urls=[] extra_emails=['tony_m@lawyer.com'] is_phishing=True\n",
            "url_checker_result: []\n",
            "email_data: sender_name='Kuta David' sender_email='davidkuta@postmark.net' receiver_email='davidkuta@yahoo.com' date='Sat, 02 Nov 2002 06:23:11 +0000' subject='Partnership' body=\"ATTENTION:                                    \\nPRESIDENT/MANAGING DIRECTOR \\n   \\nDear Sir/Madam, \\n   \\nRequest for Urgent Business Relationship \\n   \\nWe are Top Officials of the Federal Government of \\nNigeria Contract Review Panel who are interested in \\nimportation of goods into our country and \\ninvesting abroad with funds which are presently \\ntrapped in Nigeria. \\nIn order to commence this business we solicit your \\nassistance, knowledge and expertise to enable us \\nrecieve the said trapped  funds abroad, for the \\nsubsequent purchase and inventory of the goods to be \\nImported and the investment abroad. \\n   \\nThe source of this fund is as follows: During the \\nprevious military regimes in our country, government \\nofficials set up companies and awarded themselves \\ncontracts which were grossly over-invoiced in \\nvarious ministries. The new civilian government now \\nsetup  a contract review panel which i and my \\ncolleagues are members and we have identified a lot of \\ninflated sum, due to our position  as civil servants \\nand members of this panel, we cannot aquire this money \\nin our names. \\nI have therefore, been delegated as a matter of trust \\nby my colleagues of the panel to look for an oversea \\npartner into whose account the sum of us$31,000 000,00 \\n(thirty-one million united states dollars) will be \\nPaid by telegraphic transfer. Hence we are writting \\nyou this letter. \\n\\nWe have agreed to share the money thus: \\n1.  70% for us (the officials) \\n2.  20% for the foreign patner(you) \\n3.  10% to be used in settling taxation and local and \\nForeign expenses. \\n\\nIt is this 70% that we wish to commence the \\nimportation business and the investment abroad. Please \\nnote that this transaction is 100% safe and we hope \\nthat the funds can arrive your account in latest \\nten(10) banking days from the date of reciept of the \\nfollowing information.A suitable company name and bank \\naccount(company or personel) into which the funds can \\nbe paid. \\n   \\nThe above information will enable us write letters \\nof claim and job  description respectively. This way \\nwe will use your company's name to apply for payments \\nand re-award the contract to your company name. \\n   \\nWe are looking foward to doing business with you and \\nsolicit your confidentiality  in this transaction. \\n   \\nPlease acknowledge reciept of this letter using this \\ne-mail address. \\ndavidkuta2002@yahoo.com \\nI await your urgent response. \\n\\nNOTE: ALL CORRESPONDENCE SHOULD BE  CONFIDENTIAL. \\n\\n   \\nBest Regards, \\nDavid Kuta \\n\\n\\n\" urls=[] extra_emails=['davidkuta2002@yahoo.com'] is_phishing=True\n",
            "url_checker_result: []\n",
            "email_data: sender_name='Barrister tunde dosumu' sender_email='tunde_dosumu@lycos.com' receiver_email='' date='' subject='Urgent Attention' body='Dear Sir,\\n\\nI am Barrister Tunde Dosumu (SAN) solicitor at law. I am the personal attorney to Mr. Eton Simon, a national of your country, who used to work with Shell Petroleum Development Company (SPDC)here in Nigeria. Here in after shall be referred to  me as my client.  On the 21st of April 2000, my client, his wife And  their three children were involved in a car accident along Sagbama Express Road. All occupants of the  vehicle unfortunately lost there lives.  Since then I  have made several enquiries to your embassy to locate  any of my clients extended relatives this has also  proved unsuccessful. \\n\\nAfter these several unsuccessful attempts, I decided  to track his last name over the Internet, to locate  any member of his family hence I contacted you.  I  have contacted you to assist in repatrating the money  and property left behind by my client before they get confisicated or declared unserviceable by the bank  where this huge deposits were lodged, particularly, the CITI TRUST BANK where the deceased had an  account valued at about US$14.7million dollars . The bank has issued me a notice to provide the next of kin or have the account confisicated within the next ten official\\nworking days. \\n\\nSince I have been unsuccesfull in locating the the relatives for over 2 years now I seek your consent to present you as the next of kin of the deceased since\\nyou have the same last name  so that the proceeds of this account valued at US$14.7 million dollars can be paid to you and then you and me can share the money. I have all necessary legal documents that can be used to back up any claim we may make.\\n\\nAll I require is your honest co-operation  to enable us see this dealthrough. I  guarantee that this will be executed under legitimate arrangement that will protect you from any breach of the law.Please get in touch with me via my private email address of barrister_tunde@lawyer.com to enable us discuss further. Or, call me on 234-80-33-432-485\\n\\nBest regards,\\n\\n\\nBarrister Tunde Dosumu (SAN).\\n\\n\\n__________________________________________________________\\nOutgrown your current e-mail service? Get 25MB Storage, POP3 Access,\\nAdvanced Spam protection with LYCOS MAIL PLUS.\\nhttp://login.mail.lycos.com/brandPage.shtml?pageId=plus&ref=lmtplus\\n\\n' urls=['http://login.mail.lycos.com/brandPage.shtml?pageId=plus&ref=lmtplus'] extra_emails=['barrister_tunde@lawyer.com'] is_phishing=True\n",
            "url_checker_result: [UrlCheckResult(url='http://login.mail.lycos.com/brandPage.shtml?pageId=plus&ref=lmtplus', is_malicious=False, confidence=0.5, details='Not blacklisted')]\n",
            "email_data: sender_name='William Drallo' sender_email='william2244drallo@maktoob.com' receiver_email='webmaster@aclweb.org' date='Sun, 03 Nov 2002 23:56:20 +0000' subject='URGENT BUSINESS PRPOSAL' body='FROM: WILLIAM DRALLO.\\nCONFIDENTIAL TEL: 233-24-204567.\\n\\nI ascetained your contact through a reliable source,In\\nmy search for a foreign partner to assist me in my\\nbusiness. \\nI am William Drallo, the son of  late former Minister\\nOf Mines and Natural Resource during the time of Major\\nKoromah, the former Military Head of State of the\\nRepublic of  Sierra Leone, who was massacred by\\npresident Tijani Kabba force in their struggle to\\nreinstate him back to power.\\n\\nI and my brother are refugee here in Accra,Ghana since\\nthe death of our father, because of  the  condition of\\nhis death.Before the death of my  father some months\\nago he disclosed to me some money and gold he had\\ndeposited in a security company here in ghana. \\n\\nThe total amount of money which happened to\\nbe$28.3000.000.oo,US Dollars.And gold at 200Kg of\\n22Karat all in a security vault in ghana.\\n\\nThe document regarding this consignment was handed\\nover to me by my father before his death, I carefully\\nsearch and found the security Company where I\\nconfirmed that the consignment were deposited for safe\\nkeeping in their securit vault in ghana.\\n\\nThe content were deposited as a family valuable, By\\nvirtue of right as the son of my late father, the\\nsecurity company has accepted to release the\\nconsignment factually.\\n\\nI am seeking your assistance because my father has\\ndeclared the record with the security company stating\\nthat his foreign parrtner shall be the authorised\\nperson to make claim on this consignment becaues of\\nhis position in government on which no name was given\\nby my father as his foreign partner.\\n\\nTo this effect, I request to make the beneficiary of\\nhis consignment in your name as foreign partner to\\nclaim this consignment. For your assistance,I am ready\\nto give you 10%from the total sum.  This is a risk\\nfree transaction\\nas my father deposited this valuable as a personal\\nbelonging.\\nIn this situation every process to completely move\\nthis  valuable may not exceed (7) working days, if\\nyour co-operation to assist is sort.please include\\nyour phone and fax number for easy communication I\\nshall be very\\ngrateful to hear from you, all documents concerning\\nthis are intact with me, please kindly reach me as\\nsoon as possible in email address\\nwilliam22drallo@yahoo.com or william2244@maktoob.com\\n\\nBEST REGARDS\\n\\nWilliam Drallo\\n\\n\\n' urls=[] extra_emails=['william2244@maktoob.com', 'william22drallo@yahoo.com'] is_phishing=True\n",
            "url_checker_result: []\n",
            "email_data: sender_name='MR USMAN ABDUL' sender_email='abdul_817@rediffmail.com' receiver_email='R@M' date='Mon, 04 Nov 2002 23:41:26 -0000' subject='THANK YOU' body=\"CHALLENGE SECURITIES LTD.\\nLAGOS, NIGERIA\\n\\n\\n\\nATTENTION:MADAM/SIR\\n\\nI am MR.USMAN ABACHA , the Director of Operations\\nCHALLENGE SECURITIES LTD,LAGOS NIGERIA. Here in\\nNIGERIA Our firm is a security company of high repute\\nwith years of outstanding service to the people of\\nAfrica.\\n\\nI have resolved to contact you through this medium\\nbased on business proposal that will be of mutual\\nbenefit to both of us. I got your particulars through\\na consultant company base on my research for a\\ntrustworthy and established person that understands\\ninvestment ethic for entering into a life time\\nprofitable joint partnership investment and also\\nco-operation with confidence and trust that you will\\nkeep the contents secret and divulged to any third\\nparty.\\n\\nTo be explicit and straight to the point. Some time\\nearly 1997, a reputable client of ours deposited a\\nconsignment in our company's vault for safe keeping.\\nAnd since then our client has failed to come forward\\nto claim his consignment, which has accumulated a\\nconsiderable amount of money in demurrage.\\n\\nConsequently, in our bide to contact this client to\\nredeem the demurrage which his consignment had\\naccumulated we discovered that our client was the\\nformer president of the Federal Republic of Zaire, who\\ndied of illness after he was de-throwed in the same\\nyear the consignment was entrusted into our care.\\n\\nSince the death of our client President Mobutou\\nSeseseko, none of his benefactors has come forward to\\nclaim the consignment with us, which means that non of\\nhis relatives or aids had any knowledge of this\\nconsignment. Hence out of curiosity I decided to\\nsecretly open the two boxes that our client deposited\\nin our vault. And to my surprise I discovered that the\\ntwo boxes that were registered as treasurer by our\\nclient actually contained a considerable amount of\\nmoney in United States Dollars amounting to about\\nUS$30 million Dollar. Since this development I have\\nbeen nursing plans secretly. I also found out from\\nenquiries and the foreign media that our late client\\nsiphoned a lot of money from his country while he was\\nin office as head of state.\\n\\nIt is my conviction that the consignment in our vault\\nwas part of the money that our client siphoned and now\\nthat he is dead there is no race to this money in our\\ncare.\\n\\nI am now soliciting your noble assistance to assist me\\nin transferring this money out of nigeria to your\\ncountry for immediate investment with your assistance.\\nI have also decided that you will generously be\\nentitled to 30% of the total amount. Upon my receipt\\nof your reply confirming your willingness to assist me\\nof this transaction, I will immediately arrange and\\ntransfer all the rights of ownership of this\\nconsignment to your name to facilitate your easy\\nclearance and transfer of the complete funds to your\\ncountry.\\n\\nyou have nothing to worry about, as I will  be there\\nto assist you in anyway necessary with all proper\\ndocumentation.\\n\\nThis transaction is 100% risk free.\\n\\nPlease maintain absolute confidentiality on this\\nmatter.\\n\\n\\nThanks.\\n\\nYours faithfully.\\n\\nMR. USMAN ABDUL\\n\\n\" urls=[] extra_emails=[] is_phishing=True\n",
            "url_checker_result: []\n",
            "email_data: sender_name='Tunde Dosumu' sender_email='barrister_td@lycos.com' receiver_email='' date='' subject='Urgent Assistance' body='Dear Sir,\\n\\nI am Barrister Tunde Dosumu (SAN) solicitor at law. I am the personal attorney to Mr. Eton Simon, a national of your country, who used to work with Shell Petroleum Development Company (SPDC)here in Nigeria. Here in after shall be referred to  me as my client.  On the 21st of April 2000, my client, his wife And  their three children were involved in a car accident along Sagbama Express Road. All occupants of the  vehicle unfortunately lost there lives.  Since then I  have made several enquiries to your embassy to locate  any of my clients extended relatives this has also  proved unsuccessful. \\n\\nAfter these several unsuccessful attempts, I decided  to track his last name over the Internet, to locate  any member of his family hence I contacted you.  I  have contacted you to assist in repatrating the money  and property left behind by my client before they get confisicated or declared unserviceable by the bank  where this huge deposits were lodged, particularly, the CITI TRUST BANK where the deceased had an  account valued at about US$14.7million dollars . The bank has issued me a notice to provide the next of kin or have the account confisicated within the next ten official\\nworking days. \\n\\nSince I have been unsuccesfull in locating the the relatives for over 2 years now I seek your consent to present you as the next of kin of the deceased since\\nyou have the same last name  so that the proceeds of this account valued at US$14.7 million dollars can be paid to you and then you and me can share the money. I have all necessary legal documents that can be used to back up any claim we may make.\\n\\nAll I require is your honest co-operation  to enable us see this dealthrough. I  guarantee that this will be executed under legitimate arrangement that will protect you from any breach of the law.Please get in touch with me via my private email address of barrister_tunde@lawyer.com to enable us discuss further. Or, call me on 234-80-33-432-485\\n\\nBest regards,\\n\\n\\nBarrister Tunde Dosumu (SAN).\\n\\n\\n\\n\\n\\n\\n\\n\\n\\n\\n\\n\\n\\n\\n\\n\\n\\n\\n\\n\\n__________________________________________________________\\nOutgrown your current e-mail service? Get 25MB Storage, POP3 Access,\\nAdvanced Spam protection with LYCOS MAIL PLUS.\\nhttp://login.mail.lycos.com/brandPage.shtml?pageId=plus&ref=lmtplus\\n\\n' urls=['http://login.mail.lycos.com/brandPage.shtml?pageId=plus&ref=lmtplus'] extra_emails=['barrister_tunde@lawyer.com'] is_phishing=True\n",
            "url_checker_result: [UrlCheckResult(url='http://login.mail.lycos.com/brandPage.shtml?pageId=plus&ref=lmtplus', is_malicious=False, confidence=0.5, details='Not blacklisted')]\n"
          ]
        }
      ]
    },
    {
      "cell_type": "markdown",
      "source": [
        "Format the structured email data list of string to be used in training\n"
      ],
      "metadata": {
        "id": "W1sH_2ZNNC_D"
      }
    },
    {
      "cell_type": "code",
      "source": [
        "from langchain.schema import HumanMessage, SystemMessage, AIMessage\n",
        "def get_prompt(data: EmailAndUrlData) -> List[str]:\n",
        "  # example of system message\n",
        "  system_message = \"\"\"\n",
        "    We are building a anti-phishing email service.\n",
        "    you are being exposed to data set of emails\n",
        "    Your goal is to generate confidence score (trusted_score: 0-100, where 0 is\n",
        "    highly likely phishing,is highly likely legitimate),\n",
        "    explanation: reasoning for the confidence score,\n",
        "    recommendation: actionable advice,\n",
        "    url_list: urls originally present in the dataset\n",
        "    url_check_result: if available in the data set\n",
        "    is_phishing: if the email is phishing or not base on the dataset\n",
        "\n",
        "\n",
        "    Analysis Steps for generaion confidence score, explanation and recommendations:\n",
        "      1. Examine the sender address: Doest it look authentic? Spoofed? or from\n",
        "        a suspicious domain?\n",
        "      2. Examine any additional email address if found on the email: are they legitimate.\n",
        "      3. Analyze the subject line: Urgency? Generic greetings? weird characters?\n",
        "        or Misspellings?\n",
        "      4. Read the body content: Look for urgency/pressure tactics, grammar/spelling\n",
        "        errors, requests fro sensitive information (credentials), suspicious offers,\n",
        "        mismatched links (text vs actual URL if available).\n",
        "      5. Synthesize findings: Combine evidence from sender, subject, body, and URL\n",
        "        checks. A single indicator might not be conclusive, but multiple red flags\n",
        "        increase the likelihood of phishing.\n",
        "  \"\"\"\n",
        "  # example of response from LLM that the email is phishing\n",
        "  ai_message = \"\"\"\n",
        "        {\n",
        "          'is_phishing': true,\n",
        "          'trusted_score': 80,\n",
        "          'explanation': 'Red flags: spoofed sender address, generic subject line, suspicious URL with low confidence.',\n",
        "          'recommendation': \"Do not click on the link or respond to the email. Report it as spam and block the sender's IP address if possible.\",\n",
        "          'url_list': ['http://www.microsoftware.com/login?username&password'],\n",
        "          'url_check_results': [{'url': 'http://www.microsoftware.com/login?username&password', 'is_malicious': False, 'confidence': 0.5, 'details': ' blacklisted'}],\n",
        "        }\n",
        "  \"\"\"\n",
        "  # example of a phishing email\n",
        "  human_sample_data = \"\"\"\n",
        "    EMAIL_CONTENT:\n",
        "      sender_name: John Joe\n",
        "      sender_email: john.Joe@microsoft.com\n",
        "      subject: Important Account Update Subject: Your account has been compromised\n",
        "      body: We have recently detected suspicious activity on your account. To ensure the security of your account, we need you to update your password immediately.\n",
        "      Please click on the link below to update your password: http://www.microsoftware.com/login?username&password\n",
        "      After updating your password, please log in to your account and check for any unusual activity. If you notice any suspicious transactions or unauthorized access, please contact us immediately.\n",
        "      Thank you for your cooperation in maintaining the security of your account.\n",
        "      Please send your response to this email john.joe@gmail.com\n",
        "      Best regards,\n",
        "      John Joe\n",
        "      Senior IT Support\n",
        "      Microsoft Inc.\n",
        "      date: 2023-08-01\n",
        "\n",
        "    OPTIONAL URLs ANALYSIS RESULT:\n",
        "    [{'url': ''http://www.microsoftware.com/login?username&password', 'is_malicious': True, 'confidence': 1.0, 'details': 'blacklisted'}]\n",
        "\n",
        "    ADDITIONAL EMAIL ADDRESS\n",
        "    [{john.joe@gmail.com}]\n",
        "\n",
        "    EMAIL_IS_PHISHING: True\n",
        "\n",
        "\n",
        "  \"\"\"\n",
        "\n",
        "  # real email data from a dataset\n",
        "  human_dataset = f\"\"\"\n",
        "  EMAIL_CONTENT:\n",
        "    sender_name: {data.email_data.sender_name}\n",
        "    sender_email: {data.email_data.sender_email}\n",
        "    subject: {data.email_data.subject}\n",
        "    body: {data.email_data.body} send reply to this {data.email_data.extra_emails}\n",
        "    click this link  {data.email_data.urls}\n",
        "    date: {data.email_data.date}\n",
        "\n",
        "  OPTIONAL URLs ANALYSIS RESULT:\n",
        "    {data.url_checker_results}\n",
        "\n",
        "  ADDITIONAL EMAIL ADDRESS\n",
        "    {data.email_data.extra_emails}\n",
        "\n",
        "  EMAIL_IS_PHISHING:\n",
        "    {data.email_data.is_phishing}\n",
        "\n",
        "  RESPONSE STRUCTURE:\n",
        "\n",
        "  \"\"\"\n",
        "\n",
        "  messages = [\n",
        "      SystemMessage(content=system_message),\n",
        "      HumanMessage(content=human_sample_data),\n",
        "      AIMessage(content=ai_message),\n",
        "      HumanMessage(content=human_dataset)\n",
        "  ]\n",
        "  return messages\n",
        "\n",
        "#example\n",
        "results = full_email_data(selected_dataset)\n",
        "\n",
        "for result in results:\n",
        "  input = get_prompt(result)\n",
        "  print(input)\n"
      ],
      "metadata": {
        "colab": {
          "base_uri": "https://localhost:8080/"
        },
        "id": "pKat9y1ZNClS",
        "outputId": "72c37d4b-c813-42c7-cf8c-17f9c919d098"
      },
      "execution_count": 122,
      "outputs": [
        {
          "output_type": "stream",
          "name": "stdout",
          "text": [
            "[SystemMessage(content='\\n    We are building a anti-phishing email service. \\n    you are being exposed to data set of emails\\n    Your goal is to generate confidence score (trusted_score: 0-100, where 0 is\\n    highly likely phishing,is highly likely legitimate), \\n    explanation: reasoning for the confidence score,\\n    recommendation: actionable advice,\\n    url_list: urls originally present in the dataset\\n    url_check_result: if available in the data set\\n    is_phishing: if the email is phishing or not base on the dataset\\n    \\n\\n    Analysis Steps for generaion confidence score, explanation and recommendations:\\n      1. Examine the sender address: Doest it look authentic? Spoofed? or from\\n        a suspicious domain?\\n      2. Examine any additional email address if found on the email: are they legitimate.\\n      3. Analyze the subject line: Urgency? Generic greetings? weird characters? \\n        or Misspellings?\\n      4. Read the body content: Look for urgency/pressure tactics, grammar/spelling\\n        errors, requests fro sensitive information (credentials), suspicious offers,\\n        mismatched links (text vs actual URL if available).\\n      5. Synthesize findings: Combine evidence from sender, subject, body, and URL\\n        checks. A single indicator might not be conclusive, but multiple red flags\\n        increase the likelihood of phishing. \\n  ', additional_kwargs={}, response_metadata={}), HumanMessage(content=\"\\n    EMAIL_CONTENT:\\n      sender_name: John Joe\\n      sender_email: john.Joe@microsoft.com\\n      subject: Important Account Update Subject: Your account has been compromised\\n      body: We have recently detected suspicious activity on your account. To ensure the security of your account, we need you to update your password immediately.\\n      Please click on the link below to update your password: http://www.microsoftware.com/login?username&password\\n      After updating your password, please log in to your account and check for any unusual activity. If you notice any suspicious transactions or unauthorized access, please contact us immediately.\\n      Thank you for your cooperation in maintaining the security of your account.\\n      Please send your response to this email john.joe@gmail.com\\n      Best regards, \\n      John Joe\\n      Senior IT Support \\n      Microsoft Inc.\\n      date: 2023-08-01\\n\\n    OPTIONAL URLs ANALYSIS RESULT:\\n    [{'url': ''http://www.microsoftware.com/login?username&password', 'is_malicious': True, 'confidence': 1.0, 'details': 'blacklisted'}]\\n\\n    ADDITIONAL EMAIL ADDRESS\\n    [{john.joe@gmail.com}]\\n\\n    EMAIL_IS_PHISHING: True\\n\\n\\n  \", additional_kwargs={}, response_metadata={}), AIMessage(content='\\n        {\\n          \\'is_phishing\\': true, \\n          \\'trusted_score\\': 80, \\n          \\'explanation\\': \\'Red flags: spoofed sender address, generic subject line, suspicious URL with low confidence.\\', \\n          \\'recommendation\\': \"Do not click on the link or respond to the email. Report it as spam and block the sender\\'s IP address if possible.\", \\n          \\'url_list\\': [\\'http://www.microsoftware.com/login?username&password\\'], \\n          \\'url_check_results\\': [{\\'url\\': \\'http://www.microsoftware.com/login?username&password\\', \\'is_malicious\\': False, \\'confidence\\': 0.5, \\'details\\': \\' blacklisted\\'}],\\n        }\\n  ', additional_kwargs={}, response_metadata={}), HumanMessage(content=\"\\n  EMAIL_CONTENT:\\n    sender_name: MR. JAMES NGOLA.\\n    sender_email: james_ngola2002@maktoob.com\\n    subject: URGENT BUSINESS ASSISTANCE AND PARTNERSHIP \\n    body: FROM:MR. JAMES NGOLA.\\nCONFIDENTIAL TEL: 233-27-587908.\\nE-MAIL: (james_ngola2002@maktoob.com).\\n\\nURGENT BUSINESS ASSISTANCE AND PARTNERSHIP.\\n\\n\\nDEAR FRIEND,\\n\\nI AM ( DR.) JAMES NGOLA, THE PERSONAL ASSISTANCE TO THE LATE CONGOLESE (PRESIDENT LAURENT KABILA) WHO WAS ASSASSINATED BY HIS BODY GUARD ON 16TH JAN. 2001.\\n\\n\\nTHE INCIDENT OCCURRED IN OUR PRESENCE WHILE WE WERE HOLDING MEETING WITH HIS EXCELLENCY OVER THE FINANCIAL RETURNS FROM THE DIAMOND SALES IN THE AREAS CONTROLLED BY (D.R.C.) DEMOCRATIC REPUBLIC OF CONGO FORCES AND THEIR FOREIGN ALLIES ANGOLA AND ZIMBABWE, HAVING RECEIVED THE PREVIOUS DAY (USD$100M) ONE HUNDRED MILLION UNITED STATES DOLLARS, CASH IN THREE DIPLOMATIC BOXES ROUTED THROUGH ZIMBABWE.\\n\\nMY PURPOSE OF WRITING YOU THIS LETTER IS TO SOLICIT FOR YOUR ASSISTANCE AS TO BE A COVER TO THE FUND AND ALSO COLLABORATION IN MOVING THE SAID FUND INTO YOUR BANK ACCOUNT THE SUM OF (USD$25M) TWENTY FIVE MILLION UNITED STATES DOLLARS ONLY, WHICH I DEPOSITED WITH A SECURITY COMPANY IN GHANA, IN A DIPLOMATIC BOX AS GOLDS WORTH (USD$25M) TWENTY FIVE MILLION UNITED STATES DOLLARS ONLY FOR SAFE KEEPING IN A SECURITY VAULT FOR ANY FURTHER INVESTMENT PERHAPS IN YOUR COUNTRY. \\n\\nYOU WERE INTRODUCED TO ME BY A RELIABLE FRIEND OF MINE WHO IS A TRAVELLER,AND ALSO A MEMBER OF CHAMBER OF COMMERCE AS A RELIABLE AND TRUSTWORTHY PERSON WHOM I CAN RELY ON AS FOREIGN PARTNER, EVEN THOUGH THE NATURE OF THE TRANSACTION WAS NOT REVEALED TO HIM FOR SECURITY REASONS.\\n\\n\\nTHE (USD$25M) WAS PART OF A PROCEEDS FROM DIAMOND TRADE MEANT FOR THE LATE PRESIDENT LAURENT KABILA WHICH WAS DELIVERED THROUGH ZIMBABWE IN DIPLOMATIC BOXES. THE BOXES WERE KEPT UNDER MY CUSTODY BEFORE THE SAD EVENT THAT TOOK THE LIFE OF (MR. PRESIDENT).THE CONFUSION THAT ENSUED AFTER THE ASSASSINATION AND THE SPORADIC SHOOTING AMONG THE FACTIONS, I HAVE TO RUN AWAY FROM THE COUNTRY FOR MY DEAR LIFE AS I AM NOT A SOLDIER BUT A CIVIL SERVANT I CROSSED RIVER CONGO TO OTHER SIDE OF CONGO LIBREVILLE FROM THERE I MOVED TO THE THIRD COUNTRY GHANA WHERE I AM PRESENTLY TAKING REFUGE. \\n\\nAS A MATTER OF FACT, WHAT I URGENTLY NEEDED FROM YOU IS YOUR ASSISTANCE IN MOVING THIS MONEY INTO YOUR ACCOUNT IN YOUR COUNTRY FOR INVESTMENT WITHOUT RAISING EYEBROW. FOR YOUR ASSISTANCE I WILL GIVE YOU 20% OF THE TOTAL SUM AS YOUR OWN SHARE WHEN THE MONEY GETS TO YOUR ACCOUNT, WHILE 75% WILL BE FOR ME, OF WHICH WITH YOUR KIND ADVICE I HOPE TO INVEST IN PROFITABLE VENTURE IN YOUR COUNTRY IN OTHER TO SETTLE DOWN FOR MEANINGFUL LIFE, AS I AM TIRED OF LIVING IN A WAR ENVIRONMENT. \\n\\nTHE REMAINING 5% WILL BE USED TO OFFSET ANY COST INCURRED IN THE CAUSE OF MOVING THE MONEY TO YOUR ACCOUNT. IF THE PROPOSAL IS ACCEPTABLE TO YOU PLEASE CONTACT ME IMMEDIATELY THROUGH THE ABOVE TELEPHONE AND E-MAIL, TO ENABLE ME ARRANGE FACE TO FACE MEETING WITH YOU IN GHANA FOR THE CLEARANCE OF THE FUNDS BEFORE TRANSFRING IT TO YOUR BANK ACCOUNT AS SEEING IS BELIEVING. \\n\\nFINALLY, IT IS IMPORTANT ALSO THAT I LET YOU UNDERSTAND THAT THERE IS NO RISK INVOLVED WHATSOEVER AS THE MONEY HAD NO RECORD IN KINSHASA FOR IT WAS MEANT FOR THE PERSONAL USE OF (MR. PRESIDEND ) BEFORE THE NEFARIOUS INCIDENT OCCURRED, AND ALSO I HAVE ALL THE NECESSARY DOCUMENTS AS REGARDS TO THE FUNDS INCLUDING THE (CERTIFICATE OF DEPOSIT), AS I AM THE DEPOSITOR OF THE CONSIGNMENT.\\n\\n\\nLOOKING FORWARD TO YOUR URGENT RESPONSE.\\n\\nYOUR SINCERELY,\\n\\nMR. JAMES NGOLA. \\n\\n\\n\\n\\n\\n\\n\\n\\n\\n\\n send reply to this ['james_ngola2002@maktoob.com']\\n    click this link  []\\n    date: Thu, 31 Oct 2002 02:38:20 +0000\\n\\n  OPTIONAL URLs ANALYSIS RESULT:\\n    []\\n\\n  ADDITIONAL EMAIL ADDRESS\\n    ['james_ngola2002@maktoob.com']\\n  \\n  EMAIL_IS_PHISHING:\\n    True\\n\\n  RESPONSE STRUCTURE:\\n  \\n  \", additional_kwargs={}, response_metadata={})]\n",
            "[SystemMessage(content='\\n    We are building a anti-phishing email service. \\n    you are being exposed to data set of emails\\n    Your goal is to generate confidence score (trusted_score: 0-100, where 0 is\\n    highly likely phishing,is highly likely legitimate), \\n    explanation: reasoning for the confidence score,\\n    recommendation: actionable advice,\\n    url_list: urls originally present in the dataset\\n    url_check_result: if available in the data set\\n    is_phishing: if the email is phishing or not base on the dataset\\n    \\n\\n    Analysis Steps for generaion confidence score, explanation and recommendations:\\n      1. Examine the sender address: Doest it look authentic? Spoofed? or from\\n        a suspicious domain?\\n      2. Examine any additional email address if found on the email: are they legitimate.\\n      3. Analyze the subject line: Urgency? Generic greetings? weird characters? \\n        or Misspellings?\\n      4. Read the body content: Look for urgency/pressure tactics, grammar/spelling\\n        errors, requests fro sensitive information (credentials), suspicious offers,\\n        mismatched links (text vs actual URL if available).\\n      5. Synthesize findings: Combine evidence from sender, subject, body, and URL\\n        checks. A single indicator might not be conclusive, but multiple red flags\\n        increase the likelihood of phishing. \\n  ', additional_kwargs={}, response_metadata={}), HumanMessage(content=\"\\n    EMAIL_CONTENT:\\n      sender_name: John Joe\\n      sender_email: john.Joe@microsoft.com\\n      subject: Important Account Update Subject: Your account has been compromised\\n      body: We have recently detected suspicious activity on your account. To ensure the security of your account, we need you to update your password immediately.\\n      Please click on the link below to update your password: http://www.microsoftware.com/login?username&password\\n      After updating your password, please log in to your account and check for any unusual activity. If you notice any suspicious transactions or unauthorized access, please contact us immediately.\\n      Thank you for your cooperation in maintaining the security of your account.\\n      Please send your response to this email john.joe@gmail.com\\n      Best regards, \\n      John Joe\\n      Senior IT Support \\n      Microsoft Inc.\\n      date: 2023-08-01\\n\\n    OPTIONAL URLs ANALYSIS RESULT:\\n    [{'url': ''http://www.microsoftware.com/login?username&password', 'is_malicious': True, 'confidence': 1.0, 'details': 'blacklisted'}]\\n\\n    ADDITIONAL EMAIL ADDRESS\\n    [{john.joe@gmail.com}]\\n\\n    EMAIL_IS_PHISHING: True\\n\\n\\n  \", additional_kwargs={}, response_metadata={}), AIMessage(content='\\n        {\\n          \\'is_phishing\\': true, \\n          \\'trusted_score\\': 80, \\n          \\'explanation\\': \\'Red flags: spoofed sender address, generic subject line, suspicious URL with low confidence.\\', \\n          \\'recommendation\\': \"Do not click on the link or respond to the email. Report it as spam and block the sender\\'s IP address if possible.\", \\n          \\'url_list\\': [\\'http://www.microsoftware.com/login?username&password\\'], \\n          \\'url_check_results\\': [{\\'url\\': \\'http://www.microsoftware.com/login?username&password\\', \\'is_malicious\\': False, \\'confidence\\': 0.5, \\'details\\': \\' blacklisted\\'}],\\n        }\\n  ', additional_kwargs={}, response_metadata={}), HumanMessage(content='\\n  EMAIL_CONTENT:\\n    sender_name: Mr. Ben Suleman\\n    sender_email: bensul2004nng@spinfinder.com\\n    subject: URGENT ASSISTANCE /RELATIONSHIP (P) \\n    body: Dear Friend,\\n\\nI am Mr. Ben Suleman a custom officer and work as Assistant controller of the Customs and Excise department Of the Federal Ministry of Internal Affairs stationed at the Murtala Mohammed International Airport, Ikeja, Lagos-Nigeria.\\n\\nAfter the sudden death of the former Head of state of Nigeria General Sanni Abacha on June 8th 1998 his aides and immediate members of his family were arrested while trying to escape from Nigeria in a Chartered jet to Saudi Arabia with 6 trunk boxes Marked \"Diplomatic Baggage\". Acting on a tip-off as they attempted to board the Air Craft,my officials carried out a thorough search on the air craft and discovered that the 6 trunk boxes contained foreign currencies amounting to US$197,570,000.00(One Hundred and  Ninety-Seven Million Five Hundred Seventy Thousand United States Dollars).\\n\\nI declared only (5) five boxes to the government and withheld one (1) in my custody containing the sum of (US$30,000,000.00) Thirty Million United States Dollars Only, which has been disguised to prevent their being discovered during transportation process.Due to several media reports on the late head of state about all the money him and his co-government officials stole from our government treasury amounting\\nto US$55 Billion Dollars (ref:ngrguardiannews.com) of July 2nd 1999. Even the London times of July 1998 reported that General Abacha has over US$3.Billion dollars in one account overseas. We decided to conceal this one (1)box till the situation is calm and quite on the issue. The box was thus deposited with a security company here in Nigeria and tagged as \"Precious Stones and Jewellry\" in other that its\\ncontent will not be discovered. Now that all is calm, we (myself and two of my colleagues in the operations team) are now ready to move this box out of the country through a diplomatic arrangement which is the safest means. \\n\\nHowever as government officials the Civil Service Code of Conduct does not allow us by law to operate any foreign account or own foreign investment and the amount of money that can be found in our account\\ncannot be more than our salary on the average, thus our handicapp and our need for your assistance to help collect and keep safely in your account this money.\\n\\nTherefore we want you to assist us in moving this money out of Nigeria. We shall definitely compensate you handsomely for the assistance. We can do this by instructing the Security Company here in Nigeria to\\nmove the consignment to their affiliate branch office outside Nigeria through diplomatic means and the consignment will be termed as Precious Stones and Jewelleries\" which you bought during your visit to Nigeria and is being transfered to your country from here for safe keeping. Then we can arrange to meet at the destination country to take the delivery of the consignment. You will thereafter open an account there and lodge the Money there and gradually instruct remittance to your Country. \\n\\nThis business is 100% risk free for you so please treat this matter with utmost confidentiality .If you indicate your interest to assist us please just e-mail me for more Explanation on how we plan to execute the transaction.\\n\\nExpecting your response urgently.\\n\\nBest regards,\\n\\nMr. Ben Suleman\\n\\n send reply to this []\\n    click this link  []\\n    date: Thu, 31 Oct 2002 05:10:00 -0000\\n\\n  OPTIONAL URLs ANALYSIS RESULT:\\n    []\\n\\n  ADDITIONAL EMAIL ADDRESS\\n    []\\n  \\n  EMAIL_IS_PHISHING:\\n    True\\n\\n  RESPONSE STRUCTURE:\\n  \\n  ', additional_kwargs={}, response_metadata={})]\n",
            "[SystemMessage(content='\\n    We are building a anti-phishing email service. \\n    you are being exposed to data set of emails\\n    Your goal is to generate confidence score (trusted_score: 0-100, where 0 is\\n    highly likely phishing,is highly likely legitimate), \\n    explanation: reasoning for the confidence score,\\n    recommendation: actionable advice,\\n    url_list: urls originally present in the dataset\\n    url_check_result: if available in the data set\\n    is_phishing: if the email is phishing or not base on the dataset\\n    \\n\\n    Analysis Steps for generaion confidence score, explanation and recommendations:\\n      1. Examine the sender address: Doest it look authentic? Spoofed? or from\\n        a suspicious domain?\\n      2. Examine any additional email address if found on the email: are they legitimate.\\n      3. Analyze the subject line: Urgency? Generic greetings? weird characters? \\n        or Misspellings?\\n      4. Read the body content: Look for urgency/pressure tactics, grammar/spelling\\n        errors, requests fro sensitive information (credentials), suspicious offers,\\n        mismatched links (text vs actual URL if available).\\n      5. Synthesize findings: Combine evidence from sender, subject, body, and URL\\n        checks. A single indicator might not be conclusive, but multiple red flags\\n        increase the likelihood of phishing. \\n  ', additional_kwargs={}, response_metadata={}), HumanMessage(content=\"\\n    EMAIL_CONTENT:\\n      sender_name: John Joe\\n      sender_email: john.Joe@microsoft.com\\n      subject: Important Account Update Subject: Your account has been compromised\\n      body: We have recently detected suspicious activity on your account. To ensure the security of your account, we need you to update your password immediately.\\n      Please click on the link below to update your password: http://www.microsoftware.com/login?username&password\\n      After updating your password, please log in to your account and check for any unusual activity. If you notice any suspicious transactions or unauthorized access, please contact us immediately.\\n      Thank you for your cooperation in maintaining the security of your account.\\n      Please send your response to this email john.joe@gmail.com\\n      Best regards, \\n      John Joe\\n      Senior IT Support \\n      Microsoft Inc.\\n      date: 2023-08-01\\n\\n    OPTIONAL URLs ANALYSIS RESULT:\\n    [{'url': ''http://www.microsoftware.com/login?username&password', 'is_malicious': True, 'confidence': 1.0, 'details': 'blacklisted'}]\\n\\n    ADDITIONAL EMAIL ADDRESS\\n    [{john.joe@gmail.com}]\\n\\n    EMAIL_IS_PHISHING: True\\n\\n\\n  \", additional_kwargs={}, response_metadata={}), AIMessage(content='\\n        {\\n          \\'is_phishing\\': true, \\n          \\'trusted_score\\': 80, \\n          \\'explanation\\': \\'Red flags: spoofed sender address, generic subject line, suspicious URL with low confidence.\\', \\n          \\'recommendation\\': \"Do not click on the link or respond to the email. Report it as spam and block the sender\\'s IP address if possible.\", \\n          \\'url_list\\': [\\'http://www.microsoftware.com/login?username&password\\'], \\n          \\'url_check_results\\': [{\\'url\\': \\'http://www.microsoftware.com/login?username&password\\', \\'is_malicious\\': False, \\'confidence\\': 0.5, \\'details\\': \\' blacklisted\\'}],\\n        }\\n  ', additional_kwargs={}, response_metadata={}), HumanMessage(content=\"\\n  EMAIL_CONTENT:\\n    sender_name: PRINCE OBONG ELEME\\n    sender_email: obong_715@epatra.com\\n    subject: GOOD DAY TO YOU \\n    body: FROM HIS ROYAL MAJESTY (HRM) CROWN RULER OF ELEME KINGDOM \\nCHIEF DANIEL ELEME, PHD, EZE 1 OF ELEME.E-MAIL \\nADDRESS:obong_715@epatra.com  \\n\\nATTENTION:PRESIDENT,CEO Sir/ Madam. \\n\\nThis letter might surprise you because we have met\\nneither in person nor by correspondence. But I believe\\nit is one day that you got to know somebody either in\\nphysical or through correspondence. \\n\\nI got your contact through discreet inquiry from the\\nchambers of commerce and industry of your country on\\nthe net, you and your organization were revealed as\\nbeing quite astute in private entrepreneurship, one\\nhas no doubt in your ability to handle a financialbusiness transaction. \\n\\nHowever, I am the first son of His Royal\\nmajesty,Obong.D. Eleme , and the traditional Ruler of\\nEleme Province in the oil producing area of River\\nState of Nigeria. I am making this contact to you in\\nrespect of US$60,000,000.00 (Sixty Million United\\nState Dollars), which I inherited, from my latefather. \\n\\nThis money was accumulated from royalties paid to my\\nfather as compensation by the oil firms located in our\\narea as a result of oil presence on our land, which\\nhamper agriculture, which is our major source oflivelihood. \\n\\nUnfortunately my father died from protracted\\ndiabetes.But before his death he called my attention\\nand informed me that he lodged some funds on a two\\nboxes with a security firm with an open beneficiary\\nstatus. The lodgment security code number was also\\nrevealed to me, he then advised me to look for a\\nreliable business partner abroad, that will assist me\\nin investing the money in a lucrative business as a\\nresult of economic instability in Nigeria. So this is\\nthe main reason why I am contacting you for us to move\\nthis money from the security firm to any Country of\\nyour choice for investment purpose. \\n\\nSo I will like you to be the ultimate beneficiary, so\\nthat the funds can be moved in your name and\\nparticulars to any Country of your choice where it\\nwill be claimed and invested. Hence my father have had\\nintimated the security firm personnel that the\\nbeneficiary of the box is his foreign partner whose\\nparticulars will be forwarded to the firm when due. \\n\\nBut I will guide you Accordingly. As soon as the funds\\nreach, I will then come over to meet you in person, so\\nthat we can discuss physically on investment\\npotentials. Based on this assistance my Family and I\\nhave unanimously decided to give you 30% of the total\\nmoney, 5% for Charity home, 10% for expenses, which\\nmay arise during this transaction, Fax and phone bills\\ninclusive. The balance of 55% you will invest andmanaged for my Family. \\n\\nI hereby guarantee you that this is not government\\nmoney, it is not drug money and it is not money from\\narms deal. Though you have to maintain high degree of\\nconfidentiality on this matter. I will give more\\ndetails about the proceedings of this transaction as\\nsoon as I receive your favorable reply. \\n\\nPlease reply to my Email Address:obong_715@epatra.com\\nI hope this will be the beginning of a prosperous\\nrelationship between my family and your family. \\n\\nNevertheless if you are for any reason not interested,\\nkindly inform me immediately so that I will look foranother contact. \\n\\nI am waiting for your quick response. \\n\\nYours faithfully, \\n\\nPrince Obong Abbot \\n\\n\\n send reply to this ['obong_715@epatra.com']\\n    click this link  []\\n    date: Thu, 31 Oct 2002 22:17:55 +0100\\n\\n  OPTIONAL URLs ANALYSIS RESULT:\\n    []\\n\\n  ADDITIONAL EMAIL ADDRESS\\n    ['obong_715@epatra.com']\\n  \\n  EMAIL_IS_PHISHING:\\n    True\\n\\n  RESPONSE STRUCTURE:\\n  \\n  \", additional_kwargs={}, response_metadata={})]\n",
            "[SystemMessage(content='\\n    We are building a anti-phishing email service. \\n    you are being exposed to data set of emails\\n    Your goal is to generate confidence score (trusted_score: 0-100, where 0 is\\n    highly likely phishing,is highly likely legitimate), \\n    explanation: reasoning for the confidence score,\\n    recommendation: actionable advice,\\n    url_list: urls originally present in the dataset\\n    url_check_result: if available in the data set\\n    is_phishing: if the email is phishing or not base on the dataset\\n    \\n\\n    Analysis Steps for generaion confidence score, explanation and recommendations:\\n      1. Examine the sender address: Doest it look authentic? Spoofed? or from\\n        a suspicious domain?\\n      2. Examine any additional email address if found on the email: are they legitimate.\\n      3. Analyze the subject line: Urgency? Generic greetings? weird characters? \\n        or Misspellings?\\n      4. Read the body content: Look for urgency/pressure tactics, grammar/spelling\\n        errors, requests fro sensitive information (credentials), suspicious offers,\\n        mismatched links (text vs actual URL if available).\\n      5. Synthesize findings: Combine evidence from sender, subject, body, and URL\\n        checks. A single indicator might not be conclusive, but multiple red flags\\n        increase the likelihood of phishing. \\n  ', additional_kwargs={}, response_metadata={}), HumanMessage(content=\"\\n    EMAIL_CONTENT:\\n      sender_name: John Joe\\n      sender_email: john.Joe@microsoft.com\\n      subject: Important Account Update Subject: Your account has been compromised\\n      body: We have recently detected suspicious activity on your account. To ensure the security of your account, we need you to update your password immediately.\\n      Please click on the link below to update your password: http://www.microsoftware.com/login?username&password\\n      After updating your password, please log in to your account and check for any unusual activity. If you notice any suspicious transactions or unauthorized access, please contact us immediately.\\n      Thank you for your cooperation in maintaining the security of your account.\\n      Please send your response to this email john.joe@gmail.com\\n      Best regards, \\n      John Joe\\n      Senior IT Support \\n      Microsoft Inc.\\n      date: 2023-08-01\\n\\n    OPTIONAL URLs ANALYSIS RESULT:\\n    [{'url': ''http://www.microsoftware.com/login?username&password', 'is_malicious': True, 'confidence': 1.0, 'details': 'blacklisted'}]\\n\\n    ADDITIONAL EMAIL ADDRESS\\n    [{john.joe@gmail.com}]\\n\\n    EMAIL_IS_PHISHING: True\\n\\n\\n  \", additional_kwargs={}, response_metadata={}), AIMessage(content='\\n        {\\n          \\'is_phishing\\': true, \\n          \\'trusted_score\\': 80, \\n          \\'explanation\\': \\'Red flags: spoofed sender address, generic subject line, suspicious URL with low confidence.\\', \\n          \\'recommendation\\': \"Do not click on the link or respond to the email. Report it as spam and block the sender\\'s IP address if possible.\", \\n          \\'url_list\\': [\\'http://www.microsoftware.com/login?username&password\\'], \\n          \\'url_check_results\\': [{\\'url\\': \\'http://www.microsoftware.com/login?username&password\\', \\'is_malicious\\': False, \\'confidence\\': 0.5, \\'details\\': \\' blacklisted\\'}],\\n        }\\n  ', additional_kwargs={}, response_metadata={}), HumanMessage(content=\"\\n  EMAIL_CONTENT:\\n    sender_name: PRINCE OBONG ELEME\\n    sender_email: obong_715@epatra.com\\n    subject: GOOD DAY TO YOU \\n    body: FROM HIS ROYAL MAJESTY (HRM) CROWN RULER OF ELEME KINGDOM \\nCHIEF DANIEL ELEME, PHD, EZE 1 OF ELEME.E-MAIL \\nADDRESS:obong_715@epatra.com  \\n\\nATTENTION:PRESIDENT,CEO Sir/ Madam. \\n\\nThis letter might surprise you because we have met\\nneither in person nor by correspondence. But I believe\\nit is one day that you got to know somebody either in\\nphysical or through correspondence. \\n\\nI got your contact through discreet inquiry from the\\nchambers of commerce and industry of your country on\\nthe net, you and your organization were revealed as\\nbeing quite astute in private entrepreneurship, one\\nhas no doubt in your ability to handle a financialbusiness transaction. \\n\\nHowever, I am the first son of His Royal\\nmajesty,Obong.D. Eleme , and the traditional Ruler of\\nEleme Province in the oil producing area of River\\nState of Nigeria. I am making this contact to you in\\nrespect of US$60,000,000.00 (Sixty Million United\\nState Dollars), which I inherited, from my latefather. \\n\\nThis money was accumulated from royalties paid to my\\nfather as compensation by the oil firms located in our\\narea as a result of oil presence on our land, which\\nhamper agriculture, which is our major source oflivelihood. \\n\\nUnfortunately my father died from protracted\\ndiabetes.But before his death he called my attention\\nand informed me that he lodged some funds on a two\\nboxes with a security firm with an open beneficiary\\nstatus. The lodgment security code number was also\\nrevealed to me, he then advised me to look for a\\nreliable business partner abroad, that will assist me\\nin investing the money in a lucrative business as a\\nresult of economic instability in Nigeria. So this is\\nthe main reason why I am contacting you for us to move\\nthis money from the security firm to any Country of\\nyour choice for investment purpose. \\n\\nSo I will like you to be the ultimate beneficiary, so\\nthat the funds can be moved in your name and\\nparticulars to any Country of your choice where it\\nwill be claimed and invested. Hence my father have had\\nintimated the security firm personnel that the\\nbeneficiary of the box is his foreign partner whose\\nparticulars will be forwarded to the firm when due. \\n\\nBut I will guide you Accordingly. As soon as the funds\\nreach, I will then come over to meet you in person, so\\nthat we can discuss physically on investment\\npotentials. Based on this assistance my Family and I\\nhave unanimously decided to give you 30% of the total\\nmoney, 5% for Charity home, 10% for expenses, which\\nmay arise during this transaction, Fax and phone bills\\ninclusive. The balance of 55% you will invest andmanaged for my Family. \\n\\nI hereby guarantee you that this is not government\\nmoney, it is not drug money and it is not money from\\narms deal. Though you have to maintain high degree of\\nconfidentiality on this matter. I will give more\\ndetails about the proceedings of this transaction as\\nsoon as I receive your favorable reply. \\n\\nPlease reply to my Email Address:obong_715@epatra.com\\nI hope this will be the beginning of a prosperous\\nrelationship between my family and your family. \\n\\nNevertheless if you are for any reason not interested,\\nkindly inform me immediately so that I will look foranother contact. \\n\\nI am waiting for your quick response. \\n\\nYours faithfully, \\n\\nPrince Obong Eleme\\n\\n send reply to this ['obong_715@epatra.com']\\n    click this link  []\\n    date: Thu, 31 Oct 2002 22:44:20 -0000\\n\\n  OPTIONAL URLs ANALYSIS RESULT:\\n    []\\n\\n  ADDITIONAL EMAIL ADDRESS\\n    ['obong_715@epatra.com']\\n  \\n  EMAIL_IS_PHISHING:\\n    True\\n\\n  RESPONSE STRUCTURE:\\n  \\n  \", additional_kwargs={}, response_metadata={})]\n",
            "[SystemMessage(content='\\n    We are building a anti-phishing email service. \\n    you are being exposed to data set of emails\\n    Your goal is to generate confidence score (trusted_score: 0-100, where 0 is\\n    highly likely phishing,is highly likely legitimate), \\n    explanation: reasoning for the confidence score,\\n    recommendation: actionable advice,\\n    url_list: urls originally present in the dataset\\n    url_check_result: if available in the data set\\n    is_phishing: if the email is phishing or not base on the dataset\\n    \\n\\n    Analysis Steps for generaion confidence score, explanation and recommendations:\\n      1. Examine the sender address: Doest it look authentic? Spoofed? or from\\n        a suspicious domain?\\n      2. Examine any additional email address if found on the email: are they legitimate.\\n      3. Analyze the subject line: Urgency? Generic greetings? weird characters? \\n        or Misspellings?\\n      4. Read the body content: Look for urgency/pressure tactics, grammar/spelling\\n        errors, requests fro sensitive information (credentials), suspicious offers,\\n        mismatched links (text vs actual URL if available).\\n      5. Synthesize findings: Combine evidence from sender, subject, body, and URL\\n        checks. A single indicator might not be conclusive, but multiple red flags\\n        increase the likelihood of phishing. \\n  ', additional_kwargs={}, response_metadata={}), HumanMessage(content=\"\\n    EMAIL_CONTENT:\\n      sender_name: John Joe\\n      sender_email: john.Joe@microsoft.com\\n      subject: Important Account Update Subject: Your account has been compromised\\n      body: We have recently detected suspicious activity on your account. To ensure the security of your account, we need you to update your password immediately.\\n      Please click on the link below to update your password: http://www.microsoftware.com/login?username&password\\n      After updating your password, please log in to your account and check for any unusual activity. If you notice any suspicious transactions or unauthorized access, please contact us immediately.\\n      Thank you for your cooperation in maintaining the security of your account.\\n      Please send your response to this email john.joe@gmail.com\\n      Best regards, \\n      John Joe\\n      Senior IT Support \\n      Microsoft Inc.\\n      date: 2023-08-01\\n\\n    OPTIONAL URLs ANALYSIS RESULT:\\n    [{'url': ''http://www.microsoftware.com/login?username&password', 'is_malicious': True, 'confidence': 1.0, 'details': 'blacklisted'}]\\n\\n    ADDITIONAL EMAIL ADDRESS\\n    [{john.joe@gmail.com}]\\n\\n    EMAIL_IS_PHISHING: True\\n\\n\\n  \", additional_kwargs={}, response_metadata={}), AIMessage(content='\\n        {\\n          \\'is_phishing\\': true, \\n          \\'trusted_score\\': 80, \\n          \\'explanation\\': \\'Red flags: spoofed sender address, generic subject line, suspicious URL with low confidence.\\', \\n          \\'recommendation\\': \"Do not click on the link or respond to the email. Report it as spam and block the sender\\'s IP address if possible.\", \\n          \\'url_list\\': [\\'http://www.microsoftware.com/login?username&password\\'], \\n          \\'url_check_results\\': [{\\'url\\': \\'http://www.microsoftware.com/login?username&password\\', \\'is_malicious\\': False, \\'confidence\\': 0.5, \\'details\\': \\' blacklisted\\'}],\\n        }\\n  ', additional_kwargs={}, response_metadata={}), HumanMessage(content='\\n  EMAIL_CONTENT:\\n    sender_name: Maryam Abacha\\n    sender_email: m_abacha03@www.com\\n    subject: I Need Your Assistance. \\n    body: Dear sir, \\n \\nIt is with a heart full of hope that I write to seek your help in respect of the context below. I am Mrs. Maryam Abacha the former first lady of the former Military Head of State of Nigeria General Sani Abacha whose sudden death occurred on 8th of June 1998 as a result of cardiac arrest (heart attack) while on the seat of power. \\nI have no doubt about your capability and good-will to assist me in receiving into your custody (for safety) the sum of US$25 Million willed and deposited in my favour by my late husband in a security and deposit company. Though my contact to you for this assistance is not anchored on any personal ecommendation, I pray your understanding, good will and sincere assistance to respond to this message with honest intensions and concern. \\nThis money is currently deposited here with a security company as miscellaneous awaiting collection and according to the agreement entered into at the time of deposit between my late husband and the Security Company at the time of deposit; the collection centre is in Ghana. As it is legally required, the administration of my late husband\\'s properties is under the authority of the family\\'s lawyer Tony Musa. \\n \\nMy Dear JK, since the demise of my husband, the present regime has been probing my late husband\\'s wealth and properties, the London Newsweek of 13th march 2000 referred. The investigating team led by Enrico Monfrini, the lawyer acting on behalf of the Nigerian government has so far submitted their report and presently, some liquid cash and assets, movable and immovable, have been frozen and seized both locally here and internationally and my last hope is rested on the immediate security of this fund in your custody. Also, Johnnie Cochran, the lawyer who defended OJ Simpson, has been brought in by the Abacha entourage to help them retain the disputed funds. Fortunately, our family lawyer had secretly protected the \"Personal will\" of my husband from the notice of the investigators and have strictly advised that the willed money be urgently moved into an overseas account of Trusted Foreign family friend without delay. For security reasons and f!\\nurther advise,! no relations or fr! \\niends of ours should be used; as this is a measure of security. The government had earlier placed foreign travel embargo on all our family members and seized all known local and International outfits of our business empire. \\nThe situation has been so terrible that we are virtually living on the assistance of well-wishers. In view of this plight, I expect you to be trustworthy and kind enough to respond to this \"SOS\" call to save my children and I from a hopeless future. \\nI hereby agree to compensate your sincere and candid effort, immensely, which will be discussed between you, the Attorney and I. On your immediate response, the Attorney will travel to Ghana where both of you will meet, and thereafter proceed to the deposit company for the claims. \\nThe documentations include, most importantly, Power of Attorney and Certificate of Deposit amongst few others. These documents will be sent to you by Fax, as you would have to present them for proper claims. \\nPlease, be rest assured that this transaction is completely safe and legal but must be kept strictly to yourself even after the funds have been secured into our custody. This is so because any leakage of information could ruin the whole transaction. \\nPlease all contacts must be made through my lawyer on his email: tony_m@lawyer.com This has to be so as he has been mandated to handle this matter and I have fully briefed him (my Attorney) on my contact to you. Due to my present circumstance, I have handed everything over to him to co - ordinate and finalize with you and I will communicate you as at when necessary. Please for the safety of this transaction, reply stating your phone and fax numbers to enable them contact you directly without running the risk of mail interception. \\nI look forward to your quick response. \\nBest Wishes, \\nMrs. Maryam Abacha \\n \\n\\n\\n send reply to this [\\'tony_m@lawyer.com\\']\\n    click this link  []\\n    date: Fri, 01 Nov 2002 01:45:04 +0100\\n\\n  OPTIONAL URLs ANALYSIS RESULT:\\n    []\\n\\n  ADDITIONAL EMAIL ADDRESS\\n    [\\'tony_m@lawyer.com\\']\\n  \\n  EMAIL_IS_PHISHING:\\n    True\\n\\n  RESPONSE STRUCTURE:\\n  \\n  ', additional_kwargs={}, response_metadata={})]\n",
            "[SystemMessage(content='\\n    We are building a anti-phishing email service. \\n    you are being exposed to data set of emails\\n    Your goal is to generate confidence score (trusted_score: 0-100, where 0 is\\n    highly likely phishing,is highly likely legitimate), \\n    explanation: reasoning for the confidence score,\\n    recommendation: actionable advice,\\n    url_list: urls originally present in the dataset\\n    url_check_result: if available in the data set\\n    is_phishing: if the email is phishing or not base on the dataset\\n    \\n\\n    Analysis Steps for generaion confidence score, explanation and recommendations:\\n      1. Examine the sender address: Doest it look authentic? Spoofed? or from\\n        a suspicious domain?\\n      2. Examine any additional email address if found on the email: are they legitimate.\\n      3. Analyze the subject line: Urgency? Generic greetings? weird characters? \\n        or Misspellings?\\n      4. Read the body content: Look for urgency/pressure tactics, grammar/spelling\\n        errors, requests fro sensitive information (credentials), suspicious offers,\\n        mismatched links (text vs actual URL if available).\\n      5. Synthesize findings: Combine evidence from sender, subject, body, and URL\\n        checks. A single indicator might not be conclusive, but multiple red flags\\n        increase the likelihood of phishing. \\n  ', additional_kwargs={}, response_metadata={}), HumanMessage(content=\"\\n    EMAIL_CONTENT:\\n      sender_name: John Joe\\n      sender_email: john.Joe@microsoft.com\\n      subject: Important Account Update Subject: Your account has been compromised\\n      body: We have recently detected suspicious activity on your account. To ensure the security of your account, we need you to update your password immediately.\\n      Please click on the link below to update your password: http://www.microsoftware.com/login?username&password\\n      After updating your password, please log in to your account and check for any unusual activity. If you notice any suspicious transactions or unauthorized access, please contact us immediately.\\n      Thank you for your cooperation in maintaining the security of your account.\\n      Please send your response to this email john.joe@gmail.com\\n      Best regards, \\n      John Joe\\n      Senior IT Support \\n      Microsoft Inc.\\n      date: 2023-08-01\\n\\n    OPTIONAL URLs ANALYSIS RESULT:\\n    [{'url': ''http://www.microsoftware.com/login?username&password', 'is_malicious': True, 'confidence': 1.0, 'details': 'blacklisted'}]\\n\\n    ADDITIONAL EMAIL ADDRESS\\n    [{john.joe@gmail.com}]\\n\\n    EMAIL_IS_PHISHING: True\\n\\n\\n  \", additional_kwargs={}, response_metadata={}), AIMessage(content='\\n        {\\n          \\'is_phishing\\': true, \\n          \\'trusted_score\\': 80, \\n          \\'explanation\\': \\'Red flags: spoofed sender address, generic subject line, suspicious URL with low confidence.\\', \\n          \\'recommendation\\': \"Do not click on the link or respond to the email. Report it as spam and block the sender\\'s IP address if possible.\", \\n          \\'url_list\\': [\\'http://www.microsoftware.com/login?username&password\\'], \\n          \\'url_check_results\\': [{\\'url\\': \\'http://www.microsoftware.com/login?username&password\\', \\'is_malicious\\': False, \\'confidence\\': 0.5, \\'details\\': \\' blacklisted\\'}],\\n        }\\n  ', additional_kwargs={}, response_metadata={}), HumanMessage(content=\"\\n  EMAIL_CONTENT:\\n    sender_name: Kuta David\\n    sender_email: davidkuta@postmark.net\\n    subject: Partnership \\n    body: ATTENTION:                                    \\nPRESIDENT/MANAGING DIRECTOR \\n   \\nDear Sir/Madam, \\n   \\nRequest for Urgent Business Relationship \\n   \\nWe are Top Officials of the Federal Government of \\nNigeria Contract Review Panel who are interested in \\nimportation of goods into our country and \\ninvesting abroad with funds which are presently \\ntrapped in Nigeria. \\nIn order to commence this business we solicit your \\nassistance, knowledge and expertise to enable us \\nrecieve the said trapped  funds abroad, for the \\nsubsequent purchase and inventory of the goods to be \\nImported and the investment abroad. \\n   \\nThe source of this fund is as follows: During the \\nprevious military regimes in our country, government \\nofficials set up companies and awarded themselves \\ncontracts which were grossly over-invoiced in \\nvarious ministries. The new civilian government now \\nsetup  a contract review panel which i and my \\ncolleagues are members and we have identified a lot of \\ninflated sum, due to our position  as civil servants \\nand members of this panel, we cannot aquire this money \\nin our names. \\nI have therefore, been delegated as a matter of trust \\nby my colleagues of the panel to look for an oversea \\npartner into whose account the sum of us$31,000 000,00 \\n(thirty-one million united states dollars) will be \\nPaid by telegraphic transfer. Hence we are writting \\nyou this letter. \\n\\nWe have agreed to share the money thus: \\n1.  70% for us (the officials) \\n2.  20% for the foreign patner(you) \\n3.  10% to be used in settling taxation and local and \\nForeign expenses. \\n\\nIt is this 70% that we wish to commence the \\nimportation business and the investment abroad. Please \\nnote that this transaction is 100% safe and we hope \\nthat the funds can arrive your account in latest \\nten(10) banking days from the date of reciept of the \\nfollowing information.A suitable company name and bank \\naccount(company or personel) into which the funds can \\nbe paid. \\n   \\nThe above information will enable us write letters \\nof claim and job  description respectively. This way \\nwe will use your company's name to apply for payments \\nand re-award the contract to your company name. \\n   \\nWe are looking foward to doing business with you and \\nsolicit your confidentiality  in this transaction. \\n   \\nPlease acknowledge reciept of this letter using this \\ne-mail address. \\ndavidkuta2002@yahoo.com \\nI await your urgent response. \\n\\nNOTE: ALL CORRESPONDENCE SHOULD BE  CONFIDENTIAL. \\n\\n   \\nBest Regards, \\nDavid Kuta \\n\\n\\n send reply to this ['davidkuta2002@yahoo.com']\\n    click this link  []\\n    date: Sat, 02 Nov 2002 06:23:11 +0000\\n\\n  OPTIONAL URLs ANALYSIS RESULT:\\n    []\\n\\n  ADDITIONAL EMAIL ADDRESS\\n    ['davidkuta2002@yahoo.com']\\n  \\n  EMAIL_IS_PHISHING:\\n    True\\n\\n  RESPONSE STRUCTURE:\\n  \\n  \", additional_kwargs={}, response_metadata={})]\n",
            "[SystemMessage(content='\\n    We are building a anti-phishing email service. \\n    you are being exposed to data set of emails\\n    Your goal is to generate confidence score (trusted_score: 0-100, where 0 is\\n    highly likely phishing,is highly likely legitimate), \\n    explanation: reasoning for the confidence score,\\n    recommendation: actionable advice,\\n    url_list: urls originally present in the dataset\\n    url_check_result: if available in the data set\\n    is_phishing: if the email is phishing or not base on the dataset\\n    \\n\\n    Analysis Steps for generaion confidence score, explanation and recommendations:\\n      1. Examine the sender address: Doest it look authentic? Spoofed? or from\\n        a suspicious domain?\\n      2. Examine any additional email address if found on the email: are they legitimate.\\n      3. Analyze the subject line: Urgency? Generic greetings? weird characters? \\n        or Misspellings?\\n      4. Read the body content: Look for urgency/pressure tactics, grammar/spelling\\n        errors, requests fro sensitive information (credentials), suspicious offers,\\n        mismatched links (text vs actual URL if available).\\n      5. Synthesize findings: Combine evidence from sender, subject, body, and URL\\n        checks. A single indicator might not be conclusive, but multiple red flags\\n        increase the likelihood of phishing. \\n  ', additional_kwargs={}, response_metadata={}), HumanMessage(content=\"\\n    EMAIL_CONTENT:\\n      sender_name: John Joe\\n      sender_email: john.Joe@microsoft.com\\n      subject: Important Account Update Subject: Your account has been compromised\\n      body: We have recently detected suspicious activity on your account. To ensure the security of your account, we need you to update your password immediately.\\n      Please click on the link below to update your password: http://www.microsoftware.com/login?username&password\\n      After updating your password, please log in to your account and check for any unusual activity. If you notice any suspicious transactions or unauthorized access, please contact us immediately.\\n      Thank you for your cooperation in maintaining the security of your account.\\n      Please send your response to this email john.joe@gmail.com\\n      Best regards, \\n      John Joe\\n      Senior IT Support \\n      Microsoft Inc.\\n      date: 2023-08-01\\n\\n    OPTIONAL URLs ANALYSIS RESULT:\\n    [{'url': ''http://www.microsoftware.com/login?username&password', 'is_malicious': True, 'confidence': 1.0, 'details': 'blacklisted'}]\\n\\n    ADDITIONAL EMAIL ADDRESS\\n    [{john.joe@gmail.com}]\\n\\n    EMAIL_IS_PHISHING: True\\n\\n\\n  \", additional_kwargs={}, response_metadata={}), AIMessage(content='\\n        {\\n          \\'is_phishing\\': true, \\n          \\'trusted_score\\': 80, \\n          \\'explanation\\': \\'Red flags: spoofed sender address, generic subject line, suspicious URL with low confidence.\\', \\n          \\'recommendation\\': \"Do not click on the link or respond to the email. Report it as spam and block the sender\\'s IP address if possible.\", \\n          \\'url_list\\': [\\'http://www.microsoftware.com/login?username&password\\'], \\n          \\'url_check_results\\': [{\\'url\\': \\'http://www.microsoftware.com/login?username&password\\', \\'is_malicious\\': False, \\'confidence\\': 0.5, \\'details\\': \\' blacklisted\\'}],\\n        }\\n  ', additional_kwargs={}, response_metadata={}), HumanMessage(content=\"\\n  EMAIL_CONTENT:\\n    sender_name: Barrister tunde dosumu\\n    sender_email: tunde_dosumu@lycos.com\\n    subject: Urgent Attention \\n    body: Dear Sir,\\n\\nI am Barrister Tunde Dosumu (SAN) solicitor at law. I am the personal attorney to Mr. Eton Simon, a national of your country, who used to work with Shell Petroleum Development Company (SPDC)here in Nigeria. Here in after shall be referred to  me as my client.  On the 21st of April 2000, my client, his wife And  their three children were involved in a car accident along Sagbama Express Road. All occupants of the  vehicle unfortunately lost there lives.  Since then I  have made several enquiries to your embassy to locate  any of my clients extended relatives this has also  proved unsuccessful. \\n\\nAfter these several unsuccessful attempts, I decided  to track his last name over the Internet, to locate  any member of his family hence I contacted you.  I  have contacted you to assist in repatrating the money  and property left behind by my client before they get confisicated or declared unserviceable by the bank  where this huge deposits were lodged, particularly, the CITI TRUST BANK where the deceased had an  account valued at about US$14.7million dollars . The bank has issued me a notice to provide the next of kin or have the account confisicated within the next ten official\\nworking days. \\n\\nSince I have been unsuccesfull in locating the the relatives for over 2 years now I seek your consent to present you as the next of kin of the deceased since\\nyou have the same last name  so that the proceeds of this account valued at US$14.7 million dollars can be paid to you and then you and me can share the money. I have all necessary legal documents that can be used to back up any claim we may make.\\n\\nAll I require is your honest co-operation  to enable us see this dealthrough. I  guarantee that this will be executed under legitimate arrangement that will protect you from any breach of the law.Please get in touch with me via my private email address of barrister_tunde@lawyer.com to enable us discuss further. Or, call me on 234-80-33-432-485\\n\\nBest regards,\\n\\n\\nBarrister Tunde Dosumu (SAN).\\n\\n\\n__________________________________________________________\\nOutgrown your current e-mail service? Get 25MB Storage, POP3 Access,\\nAdvanced Spam protection with LYCOS MAIL PLUS.\\nhttp://login.mail.lycos.com/brandPage.shtml?pageId=plus&ref=lmtplus\\n\\n send reply to this ['barrister_tunde@lawyer.com']\\n    click this link  ['http://login.mail.lycos.com/brandPage.shtml?pageId=plus&ref=lmtplus']\\n    date: \\n\\n  OPTIONAL URLs ANALYSIS RESULT:\\n    [UrlCheckResult(url='http://login.mail.lycos.com/brandPage.shtml?pageId=plus&ref=lmtplus', is_malicious=False, confidence=0.5, details='Not blacklisted')]\\n\\n  ADDITIONAL EMAIL ADDRESS\\n    ['barrister_tunde@lawyer.com']\\n  \\n  EMAIL_IS_PHISHING:\\n    True\\n\\n  RESPONSE STRUCTURE:\\n  \\n  \", additional_kwargs={}, response_metadata={})]\n",
            "[SystemMessage(content='\\n    We are building a anti-phishing email service. \\n    you are being exposed to data set of emails\\n    Your goal is to generate confidence score (trusted_score: 0-100, where 0 is\\n    highly likely phishing,is highly likely legitimate), \\n    explanation: reasoning for the confidence score,\\n    recommendation: actionable advice,\\n    url_list: urls originally present in the dataset\\n    url_check_result: if available in the data set\\n    is_phishing: if the email is phishing or not base on the dataset\\n    \\n\\n    Analysis Steps for generaion confidence score, explanation and recommendations:\\n      1. Examine the sender address: Doest it look authentic? Spoofed? or from\\n        a suspicious domain?\\n      2. Examine any additional email address if found on the email: are they legitimate.\\n      3. Analyze the subject line: Urgency? Generic greetings? weird characters? \\n        or Misspellings?\\n      4. Read the body content: Look for urgency/pressure tactics, grammar/spelling\\n        errors, requests fro sensitive information (credentials), suspicious offers,\\n        mismatched links (text vs actual URL if available).\\n      5. Synthesize findings: Combine evidence from sender, subject, body, and URL\\n        checks. A single indicator might not be conclusive, but multiple red flags\\n        increase the likelihood of phishing. \\n  ', additional_kwargs={}, response_metadata={}), HumanMessage(content=\"\\n    EMAIL_CONTENT:\\n      sender_name: John Joe\\n      sender_email: john.Joe@microsoft.com\\n      subject: Important Account Update Subject: Your account has been compromised\\n      body: We have recently detected suspicious activity on your account. To ensure the security of your account, we need you to update your password immediately.\\n      Please click on the link below to update your password: http://www.microsoftware.com/login?username&password\\n      After updating your password, please log in to your account and check for any unusual activity. If you notice any suspicious transactions or unauthorized access, please contact us immediately.\\n      Thank you for your cooperation in maintaining the security of your account.\\n      Please send your response to this email john.joe@gmail.com\\n      Best regards, \\n      John Joe\\n      Senior IT Support \\n      Microsoft Inc.\\n      date: 2023-08-01\\n\\n    OPTIONAL URLs ANALYSIS RESULT:\\n    [{'url': ''http://www.microsoftware.com/login?username&password', 'is_malicious': True, 'confidence': 1.0, 'details': 'blacklisted'}]\\n\\n    ADDITIONAL EMAIL ADDRESS\\n    [{john.joe@gmail.com}]\\n\\n    EMAIL_IS_PHISHING: True\\n\\n\\n  \", additional_kwargs={}, response_metadata={}), AIMessage(content='\\n        {\\n          \\'is_phishing\\': true, \\n          \\'trusted_score\\': 80, \\n          \\'explanation\\': \\'Red flags: spoofed sender address, generic subject line, suspicious URL with low confidence.\\', \\n          \\'recommendation\\': \"Do not click on the link or respond to the email. Report it as spam and block the sender\\'s IP address if possible.\", \\n          \\'url_list\\': [\\'http://www.microsoftware.com/login?username&password\\'], \\n          \\'url_check_results\\': [{\\'url\\': \\'http://www.microsoftware.com/login?username&password\\', \\'is_malicious\\': False, \\'confidence\\': 0.5, \\'details\\': \\' blacklisted\\'}],\\n        }\\n  ', additional_kwargs={}, response_metadata={}), HumanMessage(content=\"\\n  EMAIL_CONTENT:\\n    sender_name: William Drallo\\n    sender_email: william2244drallo@maktoob.com\\n    subject: URGENT BUSINESS PRPOSAL \\n    body: FROM: WILLIAM DRALLO.\\nCONFIDENTIAL TEL: 233-24-204567.\\n\\nI ascetained your contact through a reliable source,In\\nmy search for a foreign partner to assist me in my\\nbusiness. \\nI am William Drallo, the son of  late former Minister\\nOf Mines and Natural Resource during the time of Major\\nKoromah, the former Military Head of State of the\\nRepublic of  Sierra Leone, who was massacred by\\npresident Tijani Kabba force in their struggle to\\nreinstate him back to power.\\n\\nI and my brother are refugee here in Accra,Ghana since\\nthe death of our father, because of  the  condition of\\nhis death.Before the death of my  father some months\\nago he disclosed to me some money and gold he had\\ndeposited in a security company here in ghana. \\n\\nThe total amount of money which happened to\\nbe$28.3000.000.oo,US Dollars.And gold at 200Kg of\\n22Karat all in a security vault in ghana.\\n\\nThe document regarding this consignment was handed\\nover to me by my father before his death, I carefully\\nsearch and found the security Company where I\\nconfirmed that the consignment were deposited for safe\\nkeeping in their securit vault in ghana.\\n\\nThe content were deposited as a family valuable, By\\nvirtue of right as the son of my late father, the\\nsecurity company has accepted to release the\\nconsignment factually.\\n\\nI am seeking your assistance because my father has\\ndeclared the record with the security company stating\\nthat his foreign parrtner shall be the authorised\\nperson to make claim on this consignment becaues of\\nhis position in government on which no name was given\\nby my father as his foreign partner.\\n\\nTo this effect, I request to make the beneficiary of\\nhis consignment in your name as foreign partner to\\nclaim this consignment. For your assistance,I am ready\\nto give you 10%from the total sum.  This is a risk\\nfree transaction\\nas my father deposited this valuable as a personal\\nbelonging.\\nIn this situation every process to completely move\\nthis  valuable may not exceed (7) working days, if\\nyour co-operation to assist is sort.please include\\nyour phone and fax number for easy communication I\\nshall be very\\ngrateful to hear from you, all documents concerning\\nthis are intact with me, please kindly reach me as\\nsoon as possible in email address\\nwilliam22drallo@yahoo.com or william2244@maktoob.com\\n\\nBEST REGARDS\\n\\nWilliam Drallo\\n\\n\\n send reply to this ['william2244@maktoob.com', 'william22drallo@yahoo.com']\\n    click this link  []\\n    date: Sun, 03 Nov 2002 23:56:20 +0000\\n\\n  OPTIONAL URLs ANALYSIS RESULT:\\n    []\\n\\n  ADDITIONAL EMAIL ADDRESS\\n    ['william2244@maktoob.com', 'william22drallo@yahoo.com']\\n  \\n  EMAIL_IS_PHISHING:\\n    True\\n\\n  RESPONSE STRUCTURE:\\n  \\n  \", additional_kwargs={}, response_metadata={})]\n",
            "[SystemMessage(content='\\n    We are building a anti-phishing email service. \\n    you are being exposed to data set of emails\\n    Your goal is to generate confidence score (trusted_score: 0-100, where 0 is\\n    highly likely phishing,is highly likely legitimate), \\n    explanation: reasoning for the confidence score,\\n    recommendation: actionable advice,\\n    url_list: urls originally present in the dataset\\n    url_check_result: if available in the data set\\n    is_phishing: if the email is phishing or not base on the dataset\\n    \\n\\n    Analysis Steps for generaion confidence score, explanation and recommendations:\\n      1. Examine the sender address: Doest it look authentic? Spoofed? or from\\n        a suspicious domain?\\n      2. Examine any additional email address if found on the email: are they legitimate.\\n      3. Analyze the subject line: Urgency? Generic greetings? weird characters? \\n        or Misspellings?\\n      4. Read the body content: Look for urgency/pressure tactics, grammar/spelling\\n        errors, requests fro sensitive information (credentials), suspicious offers,\\n        mismatched links (text vs actual URL if available).\\n      5. Synthesize findings: Combine evidence from sender, subject, body, and URL\\n        checks. A single indicator might not be conclusive, but multiple red flags\\n        increase the likelihood of phishing. \\n  ', additional_kwargs={}, response_metadata={}), HumanMessage(content=\"\\n    EMAIL_CONTENT:\\n      sender_name: John Joe\\n      sender_email: john.Joe@microsoft.com\\n      subject: Important Account Update Subject: Your account has been compromised\\n      body: We have recently detected suspicious activity on your account. To ensure the security of your account, we need you to update your password immediately.\\n      Please click on the link below to update your password: http://www.microsoftware.com/login?username&password\\n      After updating your password, please log in to your account and check for any unusual activity. If you notice any suspicious transactions or unauthorized access, please contact us immediately.\\n      Thank you for your cooperation in maintaining the security of your account.\\n      Please send your response to this email john.joe@gmail.com\\n      Best regards, \\n      John Joe\\n      Senior IT Support \\n      Microsoft Inc.\\n      date: 2023-08-01\\n\\n    OPTIONAL URLs ANALYSIS RESULT:\\n    [{'url': ''http://www.microsoftware.com/login?username&password', 'is_malicious': True, 'confidence': 1.0, 'details': 'blacklisted'}]\\n\\n    ADDITIONAL EMAIL ADDRESS\\n    [{john.joe@gmail.com}]\\n\\n    EMAIL_IS_PHISHING: True\\n\\n\\n  \", additional_kwargs={}, response_metadata={}), AIMessage(content='\\n        {\\n          \\'is_phishing\\': true, \\n          \\'trusted_score\\': 80, \\n          \\'explanation\\': \\'Red flags: spoofed sender address, generic subject line, suspicious URL with low confidence.\\', \\n          \\'recommendation\\': \"Do not click on the link or respond to the email. Report it as spam and block the sender\\'s IP address if possible.\", \\n          \\'url_list\\': [\\'http://www.microsoftware.com/login?username&password\\'], \\n          \\'url_check_results\\': [{\\'url\\': \\'http://www.microsoftware.com/login?username&password\\', \\'is_malicious\\': False, \\'confidence\\': 0.5, \\'details\\': \\' blacklisted\\'}],\\n        }\\n  ', additional_kwargs={}, response_metadata={}), HumanMessage(content=\"\\n  EMAIL_CONTENT:\\n    sender_name: MR USMAN ABDUL\\n    sender_email: abdul_817@rediffmail.com\\n    subject: THANK YOU \\n    body: CHALLENGE SECURITIES LTD.\\nLAGOS, NIGERIA\\n\\n\\n\\nATTENTION:MADAM/SIR\\n\\nI am MR.USMAN ABACHA , the Director of Operations\\nCHALLENGE SECURITIES LTD,LAGOS NIGERIA. Here in\\nNIGERIA Our firm is a security company of high repute\\nwith years of outstanding service to the people of\\nAfrica.\\n\\nI have resolved to contact you through this medium\\nbased on business proposal that will be of mutual\\nbenefit to both of us. I got your particulars through\\na consultant company base on my research for a\\ntrustworthy and established person that understands\\ninvestment ethic for entering into a life time\\nprofitable joint partnership investment and also\\nco-operation with confidence and trust that you will\\nkeep the contents secret and divulged to any third\\nparty.\\n\\nTo be explicit and straight to the point. Some time\\nearly 1997, a reputable client of ours deposited a\\nconsignment in our company's vault for safe keeping.\\nAnd since then our client has failed to come forward\\nto claim his consignment, which has accumulated a\\nconsiderable amount of money in demurrage.\\n\\nConsequently, in our bide to contact this client to\\nredeem the demurrage which his consignment had\\naccumulated we discovered that our client was the\\nformer president of the Federal Republic of Zaire, who\\ndied of illness after he was de-throwed in the same\\nyear the consignment was entrusted into our care.\\n\\nSince the death of our client President Mobutou\\nSeseseko, none of his benefactors has come forward to\\nclaim the consignment with us, which means that non of\\nhis relatives or aids had any knowledge of this\\nconsignment. Hence out of curiosity I decided to\\nsecretly open the two boxes that our client deposited\\nin our vault. And to my surprise I discovered that the\\ntwo boxes that were registered as treasurer by our\\nclient actually contained a considerable amount of\\nmoney in United States Dollars amounting to about\\nUS$30 million Dollar. Since this development I have\\nbeen nursing plans secretly. I also found out from\\nenquiries and the foreign media that our late client\\nsiphoned a lot of money from his country while he was\\nin office as head of state.\\n\\nIt is my conviction that the consignment in our vault\\nwas part of the money that our client siphoned and now\\nthat he is dead there is no race to this money in our\\ncare.\\n\\nI am now soliciting your noble assistance to assist me\\nin transferring this money out of nigeria to your\\ncountry for immediate investment with your assistance.\\nI have also decided that you will generously be\\nentitled to 30% of the total amount. Upon my receipt\\nof your reply confirming your willingness to assist me\\nof this transaction, I will immediately arrange and\\ntransfer all the rights of ownership of this\\nconsignment to your name to facilitate your easy\\nclearance and transfer of the complete funds to your\\ncountry.\\n\\nyou have nothing to worry about, as I will  be there\\nto assist you in anyway necessary with all proper\\ndocumentation.\\n\\nThis transaction is 100% risk free.\\n\\nPlease maintain absolute confidentiality on this\\nmatter.\\n\\n\\nThanks.\\n\\nYours faithfully.\\n\\nMR. USMAN ABDUL\\n\\n send reply to this []\\n    click this link  []\\n    date: Mon, 04 Nov 2002 23:41:26 -0000\\n\\n  OPTIONAL URLs ANALYSIS RESULT:\\n    []\\n\\n  ADDITIONAL EMAIL ADDRESS\\n    []\\n  \\n  EMAIL_IS_PHISHING:\\n    True\\n\\n  RESPONSE STRUCTURE:\\n  \\n  \", additional_kwargs={}, response_metadata={})]\n",
            "[SystemMessage(content='\\n    We are building a anti-phishing email service. \\n    you are being exposed to data set of emails\\n    Your goal is to generate confidence score (trusted_score: 0-100, where 0 is\\n    highly likely phishing,is highly likely legitimate), \\n    explanation: reasoning for the confidence score,\\n    recommendation: actionable advice,\\n    url_list: urls originally present in the dataset\\n    url_check_result: if available in the data set\\n    is_phishing: if the email is phishing or not base on the dataset\\n    \\n\\n    Analysis Steps for generaion confidence score, explanation and recommendations:\\n      1. Examine the sender address: Doest it look authentic? Spoofed? or from\\n        a suspicious domain?\\n      2. Examine any additional email address if found on the email: are they legitimate.\\n      3. Analyze the subject line: Urgency? Generic greetings? weird characters? \\n        or Misspellings?\\n      4. Read the body content: Look for urgency/pressure tactics, grammar/spelling\\n        errors, requests fro sensitive information (credentials), suspicious offers,\\n        mismatched links (text vs actual URL if available).\\n      5. Synthesize findings: Combine evidence from sender, subject, body, and URL\\n        checks. A single indicator might not be conclusive, but multiple red flags\\n        increase the likelihood of phishing. \\n  ', additional_kwargs={}, response_metadata={}), HumanMessage(content=\"\\n    EMAIL_CONTENT:\\n      sender_name: John Joe\\n      sender_email: john.Joe@microsoft.com\\n      subject: Important Account Update Subject: Your account has been compromised\\n      body: We have recently detected suspicious activity on your account. To ensure the security of your account, we need you to update your password immediately.\\n      Please click on the link below to update your password: http://www.microsoftware.com/login?username&password\\n      After updating your password, please log in to your account and check for any unusual activity. If you notice any suspicious transactions or unauthorized access, please contact us immediately.\\n      Thank you for your cooperation in maintaining the security of your account.\\n      Please send your response to this email john.joe@gmail.com\\n      Best regards, \\n      John Joe\\n      Senior IT Support \\n      Microsoft Inc.\\n      date: 2023-08-01\\n\\n    OPTIONAL URLs ANALYSIS RESULT:\\n    [{'url': ''http://www.microsoftware.com/login?username&password', 'is_malicious': True, 'confidence': 1.0, 'details': 'blacklisted'}]\\n\\n    ADDITIONAL EMAIL ADDRESS\\n    [{john.joe@gmail.com}]\\n\\n    EMAIL_IS_PHISHING: True\\n\\n\\n  \", additional_kwargs={}, response_metadata={}), AIMessage(content='\\n        {\\n          \\'is_phishing\\': true, \\n          \\'trusted_score\\': 80, \\n          \\'explanation\\': \\'Red flags: spoofed sender address, generic subject line, suspicious URL with low confidence.\\', \\n          \\'recommendation\\': \"Do not click on the link or respond to the email. Report it as spam and block the sender\\'s IP address if possible.\", \\n          \\'url_list\\': [\\'http://www.microsoftware.com/login?username&password\\'], \\n          \\'url_check_results\\': [{\\'url\\': \\'http://www.microsoftware.com/login?username&password\\', \\'is_malicious\\': False, \\'confidence\\': 0.5, \\'details\\': \\' blacklisted\\'}],\\n        }\\n  ', additional_kwargs={}, response_metadata={}), HumanMessage(content=\"\\n  EMAIL_CONTENT:\\n    sender_name: Tunde Dosumu\\n    sender_email: barrister_td@lycos.com\\n    subject: Urgent Assistance \\n    body: Dear Sir,\\n\\nI am Barrister Tunde Dosumu (SAN) solicitor at law. I am the personal attorney to Mr. Eton Simon, a national of your country, who used to work with Shell Petroleum Development Company (SPDC)here in Nigeria. Here in after shall be referred to  me as my client.  On the 21st of April 2000, my client, his wife And  their three children were involved in a car accident along Sagbama Express Road. All occupants of the  vehicle unfortunately lost there lives.  Since then I  have made several enquiries to your embassy to locate  any of my clients extended relatives this has also  proved unsuccessful. \\n\\nAfter these several unsuccessful attempts, I decided  to track his last name over the Internet, to locate  any member of his family hence I contacted you.  I  have contacted you to assist in repatrating the money  and property left behind by my client before they get confisicated or declared unserviceable by the bank  where this huge deposits were lodged, particularly, the CITI TRUST BANK where the deceased had an  account valued at about US$14.7million dollars . The bank has issued me a notice to provide the next of kin or have the account confisicated within the next ten official\\nworking days. \\n\\nSince I have been unsuccesfull in locating the the relatives for over 2 years now I seek your consent to present you as the next of kin of the deceased since\\nyou have the same last name  so that the proceeds of this account valued at US$14.7 million dollars can be paid to you and then you and me can share the money. I have all necessary legal documents that can be used to back up any claim we may make.\\n\\nAll I require is your honest co-operation  to enable us see this dealthrough. I  guarantee that this will be executed under legitimate arrangement that will protect you from any breach of the law.Please get in touch with me via my private email address of barrister_tunde@lawyer.com to enable us discuss further. Or, call me on 234-80-33-432-485\\n\\nBest regards,\\n\\n\\nBarrister Tunde Dosumu (SAN).\\n\\n\\n\\n\\n\\n\\n\\n\\n\\n\\n\\n\\n\\n\\n\\n\\n\\n\\n\\n\\n__________________________________________________________\\nOutgrown your current e-mail service? Get 25MB Storage, POP3 Access,\\nAdvanced Spam protection with LYCOS MAIL PLUS.\\nhttp://login.mail.lycos.com/brandPage.shtml?pageId=plus&ref=lmtplus\\n\\n send reply to this ['barrister_tunde@lawyer.com']\\n    click this link  ['http://login.mail.lycos.com/brandPage.shtml?pageId=plus&ref=lmtplus']\\n    date: \\n\\n  OPTIONAL URLs ANALYSIS RESULT:\\n    [UrlCheckResult(url='http://login.mail.lycos.com/brandPage.shtml?pageId=plus&ref=lmtplus', is_malicious=False, confidence=0.5, details='Not blacklisted')]\\n\\n  ADDITIONAL EMAIL ADDRESS\\n    ['barrister_tunde@lawyer.com']\\n  \\n  EMAIL_IS_PHISHING:\\n    True\\n\\n  RESPONSE STRUCTURE:\\n  \\n  \", additional_kwargs={}, response_metadata={})]\n"
          ]
        }
      ]
    },
    {
      "cell_type": "markdown",
      "source": [
        "use llm to generate the response"
      ],
      "metadata": {
        "id": "3LeT3dymzNbQ"
      }
    },
    {
      "cell_type": "code",
      "source": [
        "from langgraph.prebuilt import create_react_agent\n",
        "def create_agent(llm):\n",
        "  try:\n",
        "    agent = create_react_agent(model=llm, tools=[])\n",
        "    return agent\n",
        "  except Exception as e:\n",
        "    print(f\"Error creating agent: {e}\")\n",
        "    return None\n"
      ],
      "metadata": {
        "id": "szhPVhWHzXue"
      },
      "execution_count": 123,
      "outputs": []
    },
    {
      "cell_type": "code",
      "source": [
        "#run agent\n",
        "llm = get_llm('gemini')\n",
        "agent = create_agent(llm)\n",
        "ai_response_data = []\n",
        "if agent:\n",
        "  results = full_email_data(selected_dataset)\n",
        "  for result in results:\n",
        "    messages = get_prompt(result)\n",
        "    response = agent.invoke({\"messages\":messages})\n",
        "    input_data = response['messages'][1].content\n",
        "    ai_output = response['messages'][2].content\n",
        "\n",
        "    ai_response_data.append({\n",
        "      'user_input': input_data.content,\n",
        "      'ai_output': ai_output.content\n",
        "    })\n",
        "\n",
        "print(f\"training_data => {ai_response_data}\")\n",
        "\n"
      ],
      "metadata": {
        "colab": {
          "base_uri": "https://localhost:8080/",
          "height": 1000
        },
        "id": "d9FvkY7i0DAX",
        "outputId": "8fe695f8-3b45-4a10-8669-6007d86caafe"
      },
      "execution_count": 125,
      "outputs": [
        {
          "output_type": "stream",
          "name": "stderr",
          "text": [
            "WARNING:langchain_google_genai.chat_models:Retrying langchain_google_genai.chat_models._chat_with_retry.<locals>._chat_with_retry in 2.0 seconds as it raised ResourceExhausted: 429 You exceeded your current quota, please check your plan and billing details. For more information on this error, head to: https://ai.google.dev/gemini-api/docs/rate-limits. [violations {\n",
            "  quota_metric: \"generativelanguage.googleapis.com/generate_content_free_tier_requests\"\n",
            "  quota_id: \"GenerateRequestsPerDayPerProjectPerModel-FreeTier\"\n",
            "  quota_dimensions {\n",
            "    key: \"model\"\n",
            "    value: \"gemini-1.5-flash\"\n",
            "  }\n",
            "  quota_dimensions {\n",
            "    key: \"location\"\n",
            "    value: \"global\"\n",
            "  }\n",
            "  quota_value: 50\n",
            "}\n",
            ", links {\n",
            "  description: \"Learn more about Gemini API quotas\"\n",
            "  url: \"https://ai.google.dev/gemini-api/docs/rate-limits\"\n",
            "}\n",
            ", retry_delay {\n",
            "  seconds: 10\n",
            "}\n",
            "].\n"
          ]
        },
        {
          "output_type": "error",
          "ename": "ResourceExhausted",
          "evalue": "429 You exceeded your current quota, please check your plan and billing details. For more information on this error, head to: https://ai.google.dev/gemini-api/docs/rate-limits. [violations {\n  quota_metric: \"generativelanguage.googleapis.com/generate_content_free_tier_requests\"\n  quota_id: \"GenerateRequestsPerDayPerProjectPerModel-FreeTier\"\n  quota_dimensions {\n    key: \"model\"\n    value: \"gemini-1.5-flash\"\n  }\n  quota_dimensions {\n    key: \"location\"\n    value: \"global\"\n  }\n  quota_value: 50\n}\n, links {\n  description: \"Learn more about Gemini API quotas\"\n  url: \"https://ai.google.dev/gemini-api/docs/rate-limits\"\n}\n, retry_delay {\n  seconds: 8\n}\n]",
          "traceback": [
            "\u001b[0;31m---------------------------------------------------------------------------\u001b[0m",
            "\u001b[0;31mResourceExhausted\u001b[0m                         Traceback (most recent call last)",
            "\u001b[0;32m/tmp/ipython-input-125-985153193.py\u001b[0m in \u001b[0;36m<cell line: 0>\u001b[0;34m()\u001b[0m\n\u001b[1;32m      7\u001b[0m   \u001b[0;32mfor\u001b[0m \u001b[0mresult\u001b[0m \u001b[0;32min\u001b[0m \u001b[0mresults\u001b[0m\u001b[0;34m:\u001b[0m\u001b[0;34m\u001b[0m\u001b[0;34m\u001b[0m\u001b[0m\n\u001b[1;32m      8\u001b[0m     \u001b[0mmessages\u001b[0m \u001b[0;34m=\u001b[0m \u001b[0mget_prompt\u001b[0m\u001b[0;34m(\u001b[0m\u001b[0mresult\u001b[0m\u001b[0;34m)\u001b[0m\u001b[0;34m\u001b[0m\u001b[0;34m\u001b[0m\u001b[0m\n\u001b[0;32m----> 9\u001b[0;31m     \u001b[0mresponse\u001b[0m \u001b[0;34m=\u001b[0m \u001b[0magent\u001b[0m\u001b[0;34m.\u001b[0m\u001b[0minvoke\u001b[0m\u001b[0;34m(\u001b[0m\u001b[0;34m{\u001b[0m\u001b[0;34m\"messages\"\u001b[0m\u001b[0;34m:\u001b[0m\u001b[0mmessages\u001b[0m\u001b[0;34m}\u001b[0m\u001b[0;34m)\u001b[0m\u001b[0;34m\u001b[0m\u001b[0;34m\u001b[0m\u001b[0m\n\u001b[0m\u001b[1;32m     10\u001b[0m     \u001b[0minput_data\u001b[0m \u001b[0;34m=\u001b[0m \u001b[0mresponse\u001b[0m\u001b[0;34m[\u001b[0m\u001b[0;34m'messages'\u001b[0m\u001b[0;34m]\u001b[0m\u001b[0;34m[\u001b[0m\u001b[0;36m1\u001b[0m\u001b[0;34m]\u001b[0m\u001b[0;34m\u001b[0m\u001b[0;34m\u001b[0m\u001b[0m\n\u001b[1;32m     11\u001b[0m     \u001b[0moutput_data\u001b[0m \u001b[0;34m=\u001b[0m \u001b[0mresponse\u001b[0m\u001b[0;34m[\u001b[0m\u001b[0;34m'messages'\u001b[0m\u001b[0;34m]\u001b[0m\u001b[0;34m[\u001b[0m\u001b[0;36m2\u001b[0m\u001b[0;34m]\u001b[0m\u001b[0;34m\u001b[0m\u001b[0;34m\u001b[0m\u001b[0m\n",
            "\u001b[0;32m/usr/local/lib/python3.11/dist-packages/langgraph/pregel/__init__.py\u001b[0m in \u001b[0;36minvoke\u001b[0;34m(self, input, config, stream_mode, print_mode, output_keys, interrupt_before, interrupt_after, **kwargs)\u001b[0m\n\u001b[1;32m   2842\u001b[0m         \u001b[0minterrupts\u001b[0m\u001b[0;34m:\u001b[0m \u001b[0mlist\u001b[0m\u001b[0;34m[\u001b[0m\u001b[0mInterrupt\u001b[0m\u001b[0;34m]\u001b[0m \u001b[0;34m=\u001b[0m \u001b[0;34m[\u001b[0m\u001b[0;34m]\u001b[0m\u001b[0;34m\u001b[0m\u001b[0;34m\u001b[0m\u001b[0m\n\u001b[1;32m   2843\u001b[0m \u001b[0;34m\u001b[0m\u001b[0m\n\u001b[0;32m-> 2844\u001b[0;31m         for chunk in self.stream(\n\u001b[0m\u001b[1;32m   2845\u001b[0m             \u001b[0minput\u001b[0m\u001b[0;34m,\u001b[0m\u001b[0;34m\u001b[0m\u001b[0;34m\u001b[0m\u001b[0m\n\u001b[1;32m   2846\u001b[0m             \u001b[0mconfig\u001b[0m\u001b[0;34m,\u001b[0m\u001b[0;34m\u001b[0m\u001b[0;34m\u001b[0m\u001b[0m\n",
            "\u001b[0;32m/usr/local/lib/python3.11/dist-packages/langgraph/pregel/__init__.py\u001b[0m in \u001b[0;36mstream\u001b[0;34m(self, input, config, stream_mode, print_mode, output_keys, interrupt_before, interrupt_after, checkpoint_during, debug, subgraphs)\u001b[0m\n\u001b[1;32m   2532\u001b[0m                     \u001b[0;32mfor\u001b[0m \u001b[0mtask\u001b[0m \u001b[0;32min\u001b[0m \u001b[0mloop\u001b[0m\u001b[0;34m.\u001b[0m\u001b[0mmatch_cached_writes\u001b[0m\u001b[0;34m(\u001b[0m\u001b[0;34m)\u001b[0m\u001b[0;34m:\u001b[0m\u001b[0;34m\u001b[0m\u001b[0;34m\u001b[0m\u001b[0m\n\u001b[1;32m   2533\u001b[0m                         \u001b[0mloop\u001b[0m\u001b[0;34m.\u001b[0m\u001b[0moutput_writes\u001b[0m\u001b[0;34m(\u001b[0m\u001b[0mtask\u001b[0m\u001b[0;34m.\u001b[0m\u001b[0mid\u001b[0m\u001b[0;34m,\u001b[0m \u001b[0mtask\u001b[0m\u001b[0;34m.\u001b[0m\u001b[0mwrites\u001b[0m\u001b[0;34m,\u001b[0m \u001b[0mcached\u001b[0m\u001b[0;34m=\u001b[0m\u001b[0;32mTrue\u001b[0m\u001b[0;34m)\u001b[0m\u001b[0;34m\u001b[0m\u001b[0;34m\u001b[0m\u001b[0m\n\u001b[0;32m-> 2534\u001b[0;31m                     for _ in runner.tick(\n\u001b[0m\u001b[1;32m   2535\u001b[0m                         \u001b[0;34m[\u001b[0m\u001b[0mt\u001b[0m \u001b[0;32mfor\u001b[0m \u001b[0mt\u001b[0m \u001b[0;32min\u001b[0m \u001b[0mloop\u001b[0m\u001b[0;34m.\u001b[0m\u001b[0mtasks\u001b[0m\u001b[0;34m.\u001b[0m\u001b[0mvalues\u001b[0m\u001b[0;34m(\u001b[0m\u001b[0;34m)\u001b[0m \u001b[0;32mif\u001b[0m \u001b[0;32mnot\u001b[0m \u001b[0mt\u001b[0m\u001b[0;34m.\u001b[0m\u001b[0mwrites\u001b[0m\u001b[0;34m]\u001b[0m\u001b[0;34m,\u001b[0m\u001b[0;34m\u001b[0m\u001b[0;34m\u001b[0m\u001b[0m\n\u001b[1;32m   2536\u001b[0m                         \u001b[0mtimeout\u001b[0m\u001b[0;34m=\u001b[0m\u001b[0mself\u001b[0m\u001b[0;34m.\u001b[0m\u001b[0mstep_timeout\u001b[0m\u001b[0;34m,\u001b[0m\u001b[0;34m\u001b[0m\u001b[0;34m\u001b[0m\u001b[0m\n",
            "\u001b[0;32m/usr/local/lib/python3.11/dist-packages/langgraph/prebuilt/chat_agent_executor.py\u001b[0m in \u001b[0;36mcall_model\u001b[0;34m(state, config)\u001b[0m\n\u001b[1;32m    505\u001b[0m     \u001b[0;32mdef\u001b[0m \u001b[0mcall_model\u001b[0m\u001b[0;34m(\u001b[0m\u001b[0mstate\u001b[0m\u001b[0;34m:\u001b[0m \u001b[0mStateSchema\u001b[0m\u001b[0;34m,\u001b[0m \u001b[0mconfig\u001b[0m\u001b[0;34m:\u001b[0m \u001b[0mRunnableConfig\u001b[0m\u001b[0;34m)\u001b[0m \u001b[0;34m->\u001b[0m \u001b[0mStateSchema\u001b[0m\u001b[0;34m:\u001b[0m\u001b[0;34m\u001b[0m\u001b[0;34m\u001b[0m\u001b[0m\n\u001b[1;32m    506\u001b[0m         \u001b[0mstate\u001b[0m \u001b[0;34m=\u001b[0m \u001b[0m_get_model_input_state\u001b[0m\u001b[0;34m(\u001b[0m\u001b[0mstate\u001b[0m\u001b[0;34m)\u001b[0m\u001b[0;34m\u001b[0m\u001b[0;34m\u001b[0m\u001b[0m\n\u001b[0;32m--> 507\u001b[0;31m         \u001b[0mresponse\u001b[0m \u001b[0;34m=\u001b[0m \u001b[0mcast\u001b[0m\u001b[0;34m(\u001b[0m\u001b[0mAIMessage\u001b[0m\u001b[0;34m,\u001b[0m \u001b[0mmodel_runnable\u001b[0m\u001b[0;34m.\u001b[0m\u001b[0minvoke\u001b[0m\u001b[0;34m(\u001b[0m\u001b[0mstate\u001b[0m\u001b[0;34m,\u001b[0m \u001b[0mconfig\u001b[0m\u001b[0;34m)\u001b[0m\u001b[0;34m)\u001b[0m\u001b[0;34m\u001b[0m\u001b[0;34m\u001b[0m\u001b[0m\n\u001b[0m\u001b[1;32m    508\u001b[0m         \u001b[0;31m# add agent name to the AIMessage\u001b[0m\u001b[0;34m\u001b[0m\u001b[0;34m\u001b[0m\u001b[0m\n\u001b[1;32m    509\u001b[0m         \u001b[0mresponse\u001b[0m\u001b[0;34m.\u001b[0m\u001b[0mname\u001b[0m \u001b[0;34m=\u001b[0m \u001b[0mname\u001b[0m\u001b[0;34m\u001b[0m\u001b[0;34m\u001b[0m\u001b[0m\n",
            "\u001b[0;32m/usr/local/lib/python3.11/dist-packages/langchain_core/runnables/base.py\u001b[0m in \u001b[0;36minvoke\u001b[0;34m(self, input, config, **kwargs)\u001b[0m\n\u001b[1;32m   3044\u001b[0m                         \u001b[0minput_\u001b[0m \u001b[0;34m=\u001b[0m \u001b[0mcontext\u001b[0m\u001b[0;34m.\u001b[0m\u001b[0mrun\u001b[0m\u001b[0;34m(\u001b[0m\u001b[0mstep\u001b[0m\u001b[0;34m.\u001b[0m\u001b[0minvoke\u001b[0m\u001b[0;34m,\u001b[0m \u001b[0minput_\u001b[0m\u001b[0;34m,\u001b[0m \u001b[0mconfig\u001b[0m\u001b[0;34m,\u001b[0m \u001b[0;34m**\u001b[0m\u001b[0mkwargs\u001b[0m\u001b[0;34m)\u001b[0m\u001b[0;34m\u001b[0m\u001b[0;34m\u001b[0m\u001b[0m\n\u001b[1;32m   3045\u001b[0m                     \u001b[0;32melse\u001b[0m\u001b[0;34m:\u001b[0m\u001b[0;34m\u001b[0m\u001b[0;34m\u001b[0m\u001b[0m\n\u001b[0;32m-> 3046\u001b[0;31m                         \u001b[0minput_\u001b[0m \u001b[0;34m=\u001b[0m \u001b[0mcontext\u001b[0m\u001b[0;34m.\u001b[0m\u001b[0mrun\u001b[0m\u001b[0;34m(\u001b[0m\u001b[0mstep\u001b[0m\u001b[0;34m.\u001b[0m\u001b[0minvoke\u001b[0m\u001b[0;34m,\u001b[0m \u001b[0minput_\u001b[0m\u001b[0;34m,\u001b[0m \u001b[0mconfig\u001b[0m\u001b[0;34m)\u001b[0m\u001b[0;34m\u001b[0m\u001b[0;34m\u001b[0m\u001b[0m\n\u001b[0m\u001b[1;32m   3047\u001b[0m         \u001b[0;31m# finish the root run\u001b[0m\u001b[0;34m\u001b[0m\u001b[0;34m\u001b[0m\u001b[0m\n\u001b[1;32m   3048\u001b[0m         \u001b[0;32mexcept\u001b[0m \u001b[0mBaseException\u001b[0m \u001b[0;32mas\u001b[0m \u001b[0me\u001b[0m\u001b[0;34m:\u001b[0m\u001b[0;34m\u001b[0m\u001b[0;34m\u001b[0m\u001b[0m\n",
            "\u001b[0;32m/usr/local/lib/python3.11/dist-packages/langchain_google_genai/chat_models.py\u001b[0m in \u001b[0;36minvoke\u001b[0;34m(self, input, config, code_execution, stop, **kwargs)\u001b[0m\n\u001b[1;32m   1332\u001b[0m                 )\n\u001b[1;32m   1333\u001b[0m \u001b[0;34m\u001b[0m\u001b[0m\n\u001b[0;32m-> 1334\u001b[0;31m         \u001b[0;32mreturn\u001b[0m \u001b[0msuper\u001b[0m\u001b[0;34m(\u001b[0m\u001b[0;34m)\u001b[0m\u001b[0;34m.\u001b[0m\u001b[0minvoke\u001b[0m\u001b[0;34m(\u001b[0m\u001b[0minput\u001b[0m\u001b[0;34m,\u001b[0m \u001b[0mconfig\u001b[0m\u001b[0;34m,\u001b[0m \u001b[0mstop\u001b[0m\u001b[0;34m=\u001b[0m\u001b[0mstop\u001b[0m\u001b[0;34m,\u001b[0m \u001b[0;34m**\u001b[0m\u001b[0mkwargs\u001b[0m\u001b[0;34m)\u001b[0m\u001b[0;34m\u001b[0m\u001b[0;34m\u001b[0m\u001b[0m\n\u001b[0m\u001b[1;32m   1335\u001b[0m \u001b[0;34m\u001b[0m\u001b[0m\n\u001b[1;32m   1336\u001b[0m     def _get_ls_params(\n",
            "\u001b[0;32m/usr/local/lib/python3.11/dist-packages/langchain_core/language_models/chat_models.py\u001b[0m in \u001b[0;36minvoke\u001b[0;34m(self, input, config, stop, **kwargs)\u001b[0m\n\u001b[1;32m    376\u001b[0m         return cast(\n\u001b[1;32m    377\u001b[0m             \u001b[0;34m\"ChatGeneration\"\u001b[0m\u001b[0;34m,\u001b[0m\u001b[0;34m\u001b[0m\u001b[0;34m\u001b[0m\u001b[0m\n\u001b[0;32m--> 378\u001b[0;31m             self.generate_prompt(\n\u001b[0m\u001b[1;32m    379\u001b[0m                 \u001b[0;34m[\u001b[0m\u001b[0mself\u001b[0m\u001b[0;34m.\u001b[0m\u001b[0m_convert_input\u001b[0m\u001b[0;34m(\u001b[0m\u001b[0minput\u001b[0m\u001b[0;34m)\u001b[0m\u001b[0;34m]\u001b[0m\u001b[0;34m,\u001b[0m\u001b[0;34m\u001b[0m\u001b[0;34m\u001b[0m\u001b[0m\n\u001b[1;32m    380\u001b[0m                 \u001b[0mstop\u001b[0m\u001b[0;34m=\u001b[0m\u001b[0mstop\u001b[0m\u001b[0;34m,\u001b[0m\u001b[0;34m\u001b[0m\u001b[0;34m\u001b[0m\u001b[0m\n",
            "\u001b[0;32m/usr/local/lib/python3.11/dist-packages/langchain_core/language_models/chat_models.py\u001b[0m in \u001b[0;36mgenerate_prompt\u001b[0;34m(self, prompts, stop, callbacks, **kwargs)\u001b[0m\n\u001b[1;32m    961\u001b[0m     ) -> LLMResult:\n\u001b[1;32m    962\u001b[0m         \u001b[0mprompt_messages\u001b[0m \u001b[0;34m=\u001b[0m \u001b[0;34m[\u001b[0m\u001b[0mp\u001b[0m\u001b[0;34m.\u001b[0m\u001b[0mto_messages\u001b[0m\u001b[0;34m(\u001b[0m\u001b[0;34m)\u001b[0m \u001b[0;32mfor\u001b[0m \u001b[0mp\u001b[0m \u001b[0;32min\u001b[0m \u001b[0mprompts\u001b[0m\u001b[0;34m]\u001b[0m\u001b[0;34m\u001b[0m\u001b[0;34m\u001b[0m\u001b[0m\n\u001b[0;32m--> 963\u001b[0;31m         \u001b[0;32mreturn\u001b[0m \u001b[0mself\u001b[0m\u001b[0;34m.\u001b[0m\u001b[0mgenerate\u001b[0m\u001b[0;34m(\u001b[0m\u001b[0mprompt_messages\u001b[0m\u001b[0;34m,\u001b[0m \u001b[0mstop\u001b[0m\u001b[0;34m=\u001b[0m\u001b[0mstop\u001b[0m\u001b[0;34m,\u001b[0m \u001b[0mcallbacks\u001b[0m\u001b[0;34m=\u001b[0m\u001b[0mcallbacks\u001b[0m\u001b[0;34m,\u001b[0m \u001b[0;34m**\u001b[0m\u001b[0mkwargs\u001b[0m\u001b[0;34m)\u001b[0m\u001b[0;34m\u001b[0m\u001b[0;34m\u001b[0m\u001b[0m\n\u001b[0m\u001b[1;32m    964\u001b[0m \u001b[0;34m\u001b[0m\u001b[0m\n\u001b[1;32m    965\u001b[0m     \u001b[0;34m@\u001b[0m\u001b[0moverride\u001b[0m\u001b[0;34m\u001b[0m\u001b[0;34m\u001b[0m\u001b[0m\n",
            "\u001b[0;32m/usr/local/lib/python3.11/dist-packages/langchain_core/language_models/chat_models.py\u001b[0m in \u001b[0;36mgenerate\u001b[0;34m(self, messages, stop, callbacks, tags, metadata, run_name, run_id, **kwargs)\u001b[0m\n\u001b[1;32m    780\u001b[0m             \u001b[0;32mtry\u001b[0m\u001b[0;34m:\u001b[0m\u001b[0;34m\u001b[0m\u001b[0;34m\u001b[0m\u001b[0m\n\u001b[1;32m    781\u001b[0m                 results.append(\n\u001b[0;32m--> 782\u001b[0;31m                     self._generate_with_cache(\n\u001b[0m\u001b[1;32m    783\u001b[0m                         \u001b[0mm\u001b[0m\u001b[0;34m,\u001b[0m\u001b[0;34m\u001b[0m\u001b[0;34m\u001b[0m\u001b[0m\n\u001b[1;32m    784\u001b[0m                         \u001b[0mstop\u001b[0m\u001b[0;34m=\u001b[0m\u001b[0mstop\u001b[0m\u001b[0;34m,\u001b[0m\u001b[0;34m\u001b[0m\u001b[0;34m\u001b[0m\u001b[0m\n",
            "\u001b[0;32m/usr/local/lib/python3.11/dist-packages/langchain_core/language_models/chat_models.py\u001b[0m in \u001b[0;36m_generate_with_cache\u001b[0;34m(self, messages, stop, run_manager, **kwargs)\u001b[0m\n\u001b[1;32m   1026\u001b[0m             \u001b[0mresult\u001b[0m \u001b[0;34m=\u001b[0m \u001b[0mgenerate_from_stream\u001b[0m\u001b[0;34m(\u001b[0m\u001b[0miter\u001b[0m\u001b[0;34m(\u001b[0m\u001b[0mchunks\u001b[0m\u001b[0;34m)\u001b[0m\u001b[0;34m)\u001b[0m\u001b[0;34m\u001b[0m\u001b[0;34m\u001b[0m\u001b[0m\n\u001b[1;32m   1027\u001b[0m         \u001b[0;32melif\u001b[0m \u001b[0minspect\u001b[0m\u001b[0;34m.\u001b[0m\u001b[0msignature\u001b[0m\u001b[0;34m(\u001b[0m\u001b[0mself\u001b[0m\u001b[0;34m.\u001b[0m\u001b[0m_generate\u001b[0m\u001b[0;34m)\u001b[0m\u001b[0;34m.\u001b[0m\u001b[0mparameters\u001b[0m\u001b[0;34m.\u001b[0m\u001b[0mget\u001b[0m\u001b[0;34m(\u001b[0m\u001b[0;34m\"run_manager\"\u001b[0m\u001b[0;34m)\u001b[0m\u001b[0;34m:\u001b[0m\u001b[0;34m\u001b[0m\u001b[0;34m\u001b[0m\u001b[0m\n\u001b[0;32m-> 1028\u001b[0;31m             result = self._generate(\n\u001b[0m\u001b[1;32m   1029\u001b[0m                 \u001b[0mmessages\u001b[0m\u001b[0;34m,\u001b[0m \u001b[0mstop\u001b[0m\u001b[0;34m=\u001b[0m\u001b[0mstop\u001b[0m\u001b[0;34m,\u001b[0m \u001b[0mrun_manager\u001b[0m\u001b[0;34m=\u001b[0m\u001b[0mrun_manager\u001b[0m\u001b[0;34m,\u001b[0m \u001b[0;34m**\u001b[0m\u001b[0mkwargs\u001b[0m\u001b[0;34m\u001b[0m\u001b[0;34m\u001b[0m\u001b[0m\n\u001b[1;32m   1030\u001b[0m             )\n",
            "\u001b[0;32m/usr/local/lib/python3.11/dist-packages/langchain_google_genai/chat_models.py\u001b[0m in \u001b[0;36m_generate\u001b[0;34m(self, messages, stop, run_manager, tools, functions, safety_settings, tool_config, generation_config, cached_content, tool_choice, **kwargs)\u001b[0m\n\u001b[1;32m   1439\u001b[0m             \u001b[0;34m**\u001b[0m\u001b[0mkwargs\u001b[0m\u001b[0;34m,\u001b[0m\u001b[0;34m\u001b[0m\u001b[0;34m\u001b[0m\u001b[0m\n\u001b[1;32m   1440\u001b[0m         )\n\u001b[0;32m-> 1441\u001b[0;31m         response: GenerateContentResponse = _chat_with_retry(\n\u001b[0m\u001b[1;32m   1442\u001b[0m             \u001b[0mrequest\u001b[0m\u001b[0;34m=\u001b[0m\u001b[0mrequest\u001b[0m\u001b[0;34m,\u001b[0m\u001b[0;34m\u001b[0m\u001b[0;34m\u001b[0m\u001b[0m\n\u001b[1;32m   1443\u001b[0m             \u001b[0;34m**\u001b[0m\u001b[0mkwargs\u001b[0m\u001b[0;34m,\u001b[0m\u001b[0;34m\u001b[0m\u001b[0;34m\u001b[0m\u001b[0m\n",
            "\u001b[0;32m/usr/local/lib/python3.11/dist-packages/langchain_google_genai/chat_models.py\u001b[0m in \u001b[0;36m_chat_with_retry\u001b[0;34m(generation_method, **kwargs)\u001b[0m\n\u001b[1;32m    229\u001b[0m         \u001b[0;32melse\u001b[0m \u001b[0mkwargs\u001b[0m\u001b[0;34m\u001b[0m\u001b[0;34m\u001b[0m\u001b[0m\n\u001b[1;32m    230\u001b[0m     )\n\u001b[0;32m--> 231\u001b[0;31m     \u001b[0;32mreturn\u001b[0m \u001b[0m_chat_with_retry\u001b[0m\u001b[0;34m(\u001b[0m\u001b[0;34m**\u001b[0m\u001b[0mparams\u001b[0m\u001b[0;34m)\u001b[0m\u001b[0;34m\u001b[0m\u001b[0;34m\u001b[0m\u001b[0m\n\u001b[0m\u001b[1;32m    232\u001b[0m \u001b[0;34m\u001b[0m\u001b[0m\n\u001b[1;32m    233\u001b[0m \u001b[0;34m\u001b[0m\u001b[0m\n",
            "\u001b[0;32m/usr/local/lib/python3.11/dist-packages/tenacity/__init__.py\u001b[0m in \u001b[0;36mwrapped_f\u001b[0;34m(*args, **kw)\u001b[0m\n\u001b[1;32m    334\u001b[0m             \u001b[0mcopy\u001b[0m \u001b[0;34m=\u001b[0m \u001b[0mself\u001b[0m\u001b[0;34m.\u001b[0m\u001b[0mcopy\u001b[0m\u001b[0;34m(\u001b[0m\u001b[0;34m)\u001b[0m\u001b[0;34m\u001b[0m\u001b[0;34m\u001b[0m\u001b[0m\n\u001b[1;32m    335\u001b[0m             \u001b[0mwrapped_f\u001b[0m\u001b[0;34m.\u001b[0m\u001b[0mstatistics\u001b[0m \u001b[0;34m=\u001b[0m \u001b[0mcopy\u001b[0m\u001b[0;34m.\u001b[0m\u001b[0mstatistics\u001b[0m  \u001b[0;31m# type: ignore[attr-defined]\u001b[0m\u001b[0;34m\u001b[0m\u001b[0;34m\u001b[0m\u001b[0m\n\u001b[0;32m--> 336\u001b[0;31m             \u001b[0;32mreturn\u001b[0m \u001b[0mcopy\u001b[0m\u001b[0;34m(\u001b[0m\u001b[0mf\u001b[0m\u001b[0;34m,\u001b[0m \u001b[0;34m*\u001b[0m\u001b[0margs\u001b[0m\u001b[0;34m,\u001b[0m \u001b[0;34m**\u001b[0m\u001b[0mkw\u001b[0m\u001b[0;34m)\u001b[0m\u001b[0;34m\u001b[0m\u001b[0;34m\u001b[0m\u001b[0m\n\u001b[0m\u001b[1;32m    337\u001b[0m \u001b[0;34m\u001b[0m\u001b[0m\n\u001b[1;32m    338\u001b[0m         \u001b[0;32mdef\u001b[0m \u001b[0mretry_with\u001b[0m\u001b[0;34m(\u001b[0m\u001b[0;34m*\u001b[0m\u001b[0margs\u001b[0m\u001b[0;34m:\u001b[0m \u001b[0mt\u001b[0m\u001b[0;34m.\u001b[0m\u001b[0mAny\u001b[0m\u001b[0;34m,\u001b[0m \u001b[0;34m**\u001b[0m\u001b[0mkwargs\u001b[0m\u001b[0;34m:\u001b[0m \u001b[0mt\u001b[0m\u001b[0;34m.\u001b[0m\u001b[0mAny\u001b[0m\u001b[0;34m)\u001b[0m \u001b[0;34m->\u001b[0m \u001b[0mWrappedFn\u001b[0m\u001b[0;34m:\u001b[0m\u001b[0;34m\u001b[0m\u001b[0;34m\u001b[0m\u001b[0m\n",
            "\u001b[0;32m/usr/local/lib/python3.11/dist-packages/tenacity/__init__.py\u001b[0m in \u001b[0;36m__call__\u001b[0;34m(self, fn, *args, **kwargs)\u001b[0m\n\u001b[1;32m    473\u001b[0m         \u001b[0mretry_state\u001b[0m \u001b[0;34m=\u001b[0m \u001b[0mRetryCallState\u001b[0m\u001b[0;34m(\u001b[0m\u001b[0mretry_object\u001b[0m\u001b[0;34m=\u001b[0m\u001b[0mself\u001b[0m\u001b[0;34m,\u001b[0m \u001b[0mfn\u001b[0m\u001b[0;34m=\u001b[0m\u001b[0mfn\u001b[0m\u001b[0;34m,\u001b[0m \u001b[0margs\u001b[0m\u001b[0;34m=\u001b[0m\u001b[0margs\u001b[0m\u001b[0;34m,\u001b[0m \u001b[0mkwargs\u001b[0m\u001b[0;34m=\u001b[0m\u001b[0mkwargs\u001b[0m\u001b[0;34m)\u001b[0m\u001b[0;34m\u001b[0m\u001b[0;34m\u001b[0m\u001b[0m\n\u001b[1;32m    474\u001b[0m         \u001b[0;32mwhile\u001b[0m \u001b[0;32mTrue\u001b[0m\u001b[0;34m:\u001b[0m\u001b[0;34m\u001b[0m\u001b[0;34m\u001b[0m\u001b[0m\n\u001b[0;32m--> 475\u001b[0;31m             \u001b[0mdo\u001b[0m \u001b[0;34m=\u001b[0m \u001b[0mself\u001b[0m\u001b[0;34m.\u001b[0m\u001b[0miter\u001b[0m\u001b[0;34m(\u001b[0m\u001b[0mretry_state\u001b[0m\u001b[0;34m=\u001b[0m\u001b[0mretry_state\u001b[0m\u001b[0;34m)\u001b[0m\u001b[0;34m\u001b[0m\u001b[0;34m\u001b[0m\u001b[0m\n\u001b[0m\u001b[1;32m    476\u001b[0m             \u001b[0;32mif\u001b[0m \u001b[0misinstance\u001b[0m\u001b[0;34m(\u001b[0m\u001b[0mdo\u001b[0m\u001b[0;34m,\u001b[0m \u001b[0mDoAttempt\u001b[0m\u001b[0;34m)\u001b[0m\u001b[0;34m:\u001b[0m\u001b[0;34m\u001b[0m\u001b[0;34m\u001b[0m\u001b[0m\n\u001b[1;32m    477\u001b[0m                 \u001b[0;32mtry\u001b[0m\u001b[0;34m:\u001b[0m\u001b[0;34m\u001b[0m\u001b[0;34m\u001b[0m\u001b[0m\n",
            "\u001b[0;32m/usr/local/lib/python3.11/dist-packages/tenacity/__init__.py\u001b[0m in \u001b[0;36miter\u001b[0;34m(self, retry_state)\u001b[0m\n\u001b[1;32m    374\u001b[0m         \u001b[0mresult\u001b[0m \u001b[0;34m=\u001b[0m \u001b[0;32mNone\u001b[0m\u001b[0;34m\u001b[0m\u001b[0;34m\u001b[0m\u001b[0m\n\u001b[1;32m    375\u001b[0m         \u001b[0;32mfor\u001b[0m \u001b[0maction\u001b[0m \u001b[0;32min\u001b[0m \u001b[0mself\u001b[0m\u001b[0;34m.\u001b[0m\u001b[0miter_state\u001b[0m\u001b[0;34m.\u001b[0m\u001b[0mactions\u001b[0m\u001b[0;34m:\u001b[0m\u001b[0;34m\u001b[0m\u001b[0;34m\u001b[0m\u001b[0m\n\u001b[0;32m--> 376\u001b[0;31m             \u001b[0mresult\u001b[0m \u001b[0;34m=\u001b[0m \u001b[0maction\u001b[0m\u001b[0;34m(\u001b[0m\u001b[0mretry_state\u001b[0m\u001b[0;34m)\u001b[0m\u001b[0;34m\u001b[0m\u001b[0;34m\u001b[0m\u001b[0m\n\u001b[0m\u001b[1;32m    377\u001b[0m         \u001b[0;32mreturn\u001b[0m \u001b[0mresult\u001b[0m\u001b[0;34m\u001b[0m\u001b[0;34m\u001b[0m\u001b[0m\n\u001b[1;32m    378\u001b[0m \u001b[0;34m\u001b[0m\u001b[0m\n",
            "\u001b[0;32m/usr/local/lib/python3.11/dist-packages/tenacity/__init__.py\u001b[0m in \u001b[0;36mexc_check\u001b[0;34m(rs)\u001b[0m\n\u001b[1;32m    416\u001b[0m                 \u001b[0mretry_exc\u001b[0m \u001b[0;34m=\u001b[0m \u001b[0mself\u001b[0m\u001b[0;34m.\u001b[0m\u001b[0mretry_error_cls\u001b[0m\u001b[0;34m(\u001b[0m\u001b[0mfut\u001b[0m\u001b[0;34m)\u001b[0m\u001b[0;34m\u001b[0m\u001b[0;34m\u001b[0m\u001b[0m\n\u001b[1;32m    417\u001b[0m                 \u001b[0;32mif\u001b[0m \u001b[0mself\u001b[0m\u001b[0;34m.\u001b[0m\u001b[0mreraise\u001b[0m\u001b[0;34m:\u001b[0m\u001b[0;34m\u001b[0m\u001b[0;34m\u001b[0m\u001b[0m\n\u001b[0;32m--> 418\u001b[0;31m                     \u001b[0;32mraise\u001b[0m \u001b[0mretry_exc\u001b[0m\u001b[0;34m.\u001b[0m\u001b[0mreraise\u001b[0m\u001b[0;34m(\u001b[0m\u001b[0;34m)\u001b[0m\u001b[0;34m\u001b[0m\u001b[0;34m\u001b[0m\u001b[0m\n\u001b[0m\u001b[1;32m    419\u001b[0m                 \u001b[0;32mraise\u001b[0m \u001b[0mretry_exc\u001b[0m \u001b[0;32mfrom\u001b[0m \u001b[0mfut\u001b[0m\u001b[0;34m.\u001b[0m\u001b[0mexception\u001b[0m\u001b[0;34m(\u001b[0m\u001b[0;34m)\u001b[0m\u001b[0;34m\u001b[0m\u001b[0;34m\u001b[0m\u001b[0m\n\u001b[1;32m    420\u001b[0m \u001b[0;34m\u001b[0m\u001b[0m\n",
            "\u001b[0;32m/usr/local/lib/python3.11/dist-packages/tenacity/__init__.py\u001b[0m in \u001b[0;36mreraise\u001b[0;34m(self)\u001b[0m\n\u001b[1;32m    183\u001b[0m     \u001b[0;32mdef\u001b[0m \u001b[0mreraise\u001b[0m\u001b[0;34m(\u001b[0m\u001b[0mself\u001b[0m\u001b[0;34m)\u001b[0m \u001b[0;34m->\u001b[0m \u001b[0mt\u001b[0m\u001b[0;34m.\u001b[0m\u001b[0mNoReturn\u001b[0m\u001b[0;34m:\u001b[0m\u001b[0;34m\u001b[0m\u001b[0;34m\u001b[0m\u001b[0m\n\u001b[1;32m    184\u001b[0m         \u001b[0;32mif\u001b[0m \u001b[0mself\u001b[0m\u001b[0;34m.\u001b[0m\u001b[0mlast_attempt\u001b[0m\u001b[0;34m.\u001b[0m\u001b[0mfailed\u001b[0m\u001b[0;34m:\u001b[0m\u001b[0;34m\u001b[0m\u001b[0;34m\u001b[0m\u001b[0m\n\u001b[0;32m--> 185\u001b[0;31m             \u001b[0;32mraise\u001b[0m \u001b[0mself\u001b[0m\u001b[0;34m.\u001b[0m\u001b[0mlast_attempt\u001b[0m\u001b[0;34m.\u001b[0m\u001b[0mresult\u001b[0m\u001b[0;34m(\u001b[0m\u001b[0;34m)\u001b[0m\u001b[0;34m\u001b[0m\u001b[0;34m\u001b[0m\u001b[0m\n\u001b[0m\u001b[1;32m    186\u001b[0m         \u001b[0;32mraise\u001b[0m \u001b[0mself\u001b[0m\u001b[0;34m\u001b[0m\u001b[0;34m\u001b[0m\u001b[0m\n\u001b[1;32m    187\u001b[0m \u001b[0;34m\u001b[0m\u001b[0m\n",
            "\u001b[0;32m/usr/lib/python3.11/concurrent/futures/_base.py\u001b[0m in \u001b[0;36mresult\u001b[0;34m(self, timeout)\u001b[0m\n\u001b[1;32m    447\u001b[0m                     \u001b[0;32mraise\u001b[0m \u001b[0mCancelledError\u001b[0m\u001b[0;34m(\u001b[0m\u001b[0;34m)\u001b[0m\u001b[0;34m\u001b[0m\u001b[0;34m\u001b[0m\u001b[0m\n\u001b[1;32m    448\u001b[0m                 \u001b[0;32melif\u001b[0m \u001b[0mself\u001b[0m\u001b[0;34m.\u001b[0m\u001b[0m_state\u001b[0m \u001b[0;34m==\u001b[0m \u001b[0mFINISHED\u001b[0m\u001b[0;34m:\u001b[0m\u001b[0;34m\u001b[0m\u001b[0;34m\u001b[0m\u001b[0m\n\u001b[0;32m--> 449\u001b[0;31m                     \u001b[0;32mreturn\u001b[0m \u001b[0mself\u001b[0m\u001b[0;34m.\u001b[0m\u001b[0m__get_result\u001b[0m\u001b[0;34m(\u001b[0m\u001b[0;34m)\u001b[0m\u001b[0;34m\u001b[0m\u001b[0;34m\u001b[0m\u001b[0m\n\u001b[0m\u001b[1;32m    450\u001b[0m \u001b[0;34m\u001b[0m\u001b[0m\n\u001b[1;32m    451\u001b[0m                 \u001b[0mself\u001b[0m\u001b[0;34m.\u001b[0m\u001b[0m_condition\u001b[0m\u001b[0;34m.\u001b[0m\u001b[0mwait\u001b[0m\u001b[0;34m(\u001b[0m\u001b[0mtimeout\u001b[0m\u001b[0;34m)\u001b[0m\u001b[0;34m\u001b[0m\u001b[0;34m\u001b[0m\u001b[0m\n",
            "\u001b[0;32m/usr/lib/python3.11/concurrent/futures/_base.py\u001b[0m in \u001b[0;36m__get_result\u001b[0;34m(self)\u001b[0m\n\u001b[1;32m    399\u001b[0m         \u001b[0;32mif\u001b[0m \u001b[0mself\u001b[0m\u001b[0;34m.\u001b[0m\u001b[0m_exception\u001b[0m\u001b[0;34m:\u001b[0m\u001b[0;34m\u001b[0m\u001b[0;34m\u001b[0m\u001b[0m\n\u001b[1;32m    400\u001b[0m             \u001b[0;32mtry\u001b[0m\u001b[0;34m:\u001b[0m\u001b[0;34m\u001b[0m\u001b[0;34m\u001b[0m\u001b[0m\n\u001b[0;32m--> 401\u001b[0;31m                 \u001b[0;32mraise\u001b[0m \u001b[0mself\u001b[0m\u001b[0;34m.\u001b[0m\u001b[0m_exception\u001b[0m\u001b[0;34m\u001b[0m\u001b[0;34m\u001b[0m\u001b[0m\n\u001b[0m\u001b[1;32m    402\u001b[0m             \u001b[0;32mfinally\u001b[0m\u001b[0;34m:\u001b[0m\u001b[0;34m\u001b[0m\u001b[0;34m\u001b[0m\u001b[0m\n\u001b[1;32m    403\u001b[0m                 \u001b[0;31m# Break a reference cycle with the exception in self._exception\u001b[0m\u001b[0;34m\u001b[0m\u001b[0;34m\u001b[0m\u001b[0m\n",
            "\u001b[0;32m/usr/local/lib/python3.11/dist-packages/tenacity/__init__.py\u001b[0m in \u001b[0;36m__call__\u001b[0;34m(self, fn, *args, **kwargs)\u001b[0m\n\u001b[1;32m    476\u001b[0m             \u001b[0;32mif\u001b[0m \u001b[0misinstance\u001b[0m\u001b[0;34m(\u001b[0m\u001b[0mdo\u001b[0m\u001b[0;34m,\u001b[0m \u001b[0mDoAttempt\u001b[0m\u001b[0;34m)\u001b[0m\u001b[0;34m:\u001b[0m\u001b[0;34m\u001b[0m\u001b[0;34m\u001b[0m\u001b[0m\n\u001b[1;32m    477\u001b[0m                 \u001b[0;32mtry\u001b[0m\u001b[0;34m:\u001b[0m\u001b[0;34m\u001b[0m\u001b[0;34m\u001b[0m\u001b[0m\n\u001b[0;32m--> 478\u001b[0;31m                     \u001b[0mresult\u001b[0m \u001b[0;34m=\u001b[0m \u001b[0mfn\u001b[0m\u001b[0;34m(\u001b[0m\u001b[0;34m*\u001b[0m\u001b[0margs\u001b[0m\u001b[0;34m,\u001b[0m \u001b[0;34m**\u001b[0m\u001b[0mkwargs\u001b[0m\u001b[0;34m)\u001b[0m\u001b[0;34m\u001b[0m\u001b[0;34m\u001b[0m\u001b[0m\n\u001b[0m\u001b[1;32m    479\u001b[0m                 \u001b[0;32mexcept\u001b[0m \u001b[0mBaseException\u001b[0m\u001b[0;34m:\u001b[0m  \u001b[0;31m# noqa: B902\u001b[0m\u001b[0;34m\u001b[0m\u001b[0;34m\u001b[0m\u001b[0m\n\u001b[1;32m    480\u001b[0m                     \u001b[0mretry_state\u001b[0m\u001b[0;34m.\u001b[0m\u001b[0mset_exception\u001b[0m\u001b[0;34m(\u001b[0m\u001b[0msys\u001b[0m\u001b[0;34m.\u001b[0m\u001b[0mexc_info\u001b[0m\u001b[0;34m(\u001b[0m\u001b[0;34m)\u001b[0m\u001b[0;34m)\u001b[0m  \u001b[0;31m# type: ignore[arg-type]\u001b[0m\u001b[0;34m\u001b[0m\u001b[0;34m\u001b[0m\u001b[0m\n",
            "\u001b[0;32m/usr/local/lib/python3.11/dist-packages/langchain_google_genai/chat_models.py\u001b[0m in \u001b[0;36m_chat_with_retry\u001b[0;34m(**kwargs)\u001b[0m\n\u001b[1;32m    220\u001b[0m             ) from e\n\u001b[1;32m    221\u001b[0m         \u001b[0;32mexcept\u001b[0m \u001b[0mException\u001b[0m \u001b[0;32mas\u001b[0m \u001b[0me\u001b[0m\u001b[0;34m:\u001b[0m\u001b[0;34m\u001b[0m\u001b[0;34m\u001b[0m\u001b[0m\n\u001b[0;32m--> 222\u001b[0;31m             \u001b[0;32mraise\u001b[0m \u001b[0me\u001b[0m\u001b[0;34m\u001b[0m\u001b[0;34m\u001b[0m\u001b[0m\n\u001b[0m\u001b[1;32m    223\u001b[0m \u001b[0;34m\u001b[0m\u001b[0m\n\u001b[1;32m    224\u001b[0m     params = (\n",
            "\u001b[0;32m/usr/local/lib/python3.11/dist-packages/langchain_google_genai/chat_models.py\u001b[0m in \u001b[0;36m_chat_with_retry\u001b[0;34m(**kwargs)\u001b[0m\n\u001b[1;32m    204\u001b[0m     \u001b[0;32mdef\u001b[0m \u001b[0m_chat_with_retry\u001b[0m\u001b[0;34m(\u001b[0m\u001b[0;34m**\u001b[0m\u001b[0mkwargs\u001b[0m\u001b[0;34m:\u001b[0m \u001b[0mAny\u001b[0m\u001b[0;34m)\u001b[0m \u001b[0;34m->\u001b[0m \u001b[0mAny\u001b[0m\u001b[0;34m:\u001b[0m\u001b[0;34m\u001b[0m\u001b[0;34m\u001b[0m\u001b[0m\n\u001b[1;32m    205\u001b[0m         \u001b[0;32mtry\u001b[0m\u001b[0;34m:\u001b[0m\u001b[0;34m\u001b[0m\u001b[0;34m\u001b[0m\u001b[0m\n\u001b[0;32m--> 206\u001b[0;31m             \u001b[0;32mreturn\u001b[0m \u001b[0mgeneration_method\u001b[0m\u001b[0;34m(\u001b[0m\u001b[0;34m**\u001b[0m\u001b[0mkwargs\u001b[0m\u001b[0;34m)\u001b[0m\u001b[0;34m\u001b[0m\u001b[0;34m\u001b[0m\u001b[0m\n\u001b[0m\u001b[1;32m    207\u001b[0m         \u001b[0;31m# Do not retry for these errors.\u001b[0m\u001b[0;34m\u001b[0m\u001b[0;34m\u001b[0m\u001b[0m\n\u001b[1;32m    208\u001b[0m         \u001b[0;32mexcept\u001b[0m \u001b[0mgoogle\u001b[0m\u001b[0;34m.\u001b[0m\u001b[0mapi_core\u001b[0m\u001b[0;34m.\u001b[0m\u001b[0mexceptions\u001b[0m\u001b[0;34m.\u001b[0m\u001b[0mFailedPrecondition\u001b[0m \u001b[0;32mas\u001b[0m \u001b[0mexc\u001b[0m\u001b[0;34m:\u001b[0m\u001b[0;34m\u001b[0m\u001b[0;34m\u001b[0m\u001b[0m\n",
            "\u001b[0;32m/usr/local/lib/python3.11/dist-packages/google/ai/generativelanguage_v1beta/services/generative_service/client.py\u001b[0m in \u001b[0;36mgenerate_content\u001b[0;34m(self, request, model, contents, retry, timeout, metadata)\u001b[0m\n\u001b[1;32m    866\u001b[0m \u001b[0;34m\u001b[0m\u001b[0m\n\u001b[1;32m    867\u001b[0m         \u001b[0;31m# Send the request.\u001b[0m\u001b[0;34m\u001b[0m\u001b[0;34m\u001b[0m\u001b[0m\n\u001b[0;32m--> 868\u001b[0;31m         response = rpc(\n\u001b[0m\u001b[1;32m    869\u001b[0m             \u001b[0mrequest\u001b[0m\u001b[0;34m,\u001b[0m\u001b[0;34m\u001b[0m\u001b[0;34m\u001b[0m\u001b[0m\n\u001b[1;32m    870\u001b[0m             \u001b[0mretry\u001b[0m\u001b[0;34m=\u001b[0m\u001b[0mretry\u001b[0m\u001b[0;34m,\u001b[0m\u001b[0;34m\u001b[0m\u001b[0;34m\u001b[0m\u001b[0m\n",
            "\u001b[0;32m/usr/local/lib/python3.11/dist-packages/google/api_core/gapic_v1/method.py\u001b[0m in \u001b[0;36m__call__\u001b[0;34m(self, timeout, retry, compression, *args, **kwargs)\u001b[0m\n\u001b[1;32m    129\u001b[0m             \u001b[0mkwargs\u001b[0m\u001b[0;34m[\u001b[0m\u001b[0;34m\"compression\"\u001b[0m\u001b[0;34m]\u001b[0m \u001b[0;34m=\u001b[0m \u001b[0mcompression\u001b[0m\u001b[0;34m\u001b[0m\u001b[0;34m\u001b[0m\u001b[0m\n\u001b[1;32m    130\u001b[0m \u001b[0;34m\u001b[0m\u001b[0m\n\u001b[0;32m--> 131\u001b[0;31m         \u001b[0;32mreturn\u001b[0m \u001b[0mwrapped_func\u001b[0m\u001b[0;34m(\u001b[0m\u001b[0;34m*\u001b[0m\u001b[0margs\u001b[0m\u001b[0;34m,\u001b[0m \u001b[0;34m**\u001b[0m\u001b[0mkwargs\u001b[0m\u001b[0;34m)\u001b[0m\u001b[0;34m\u001b[0m\u001b[0;34m\u001b[0m\u001b[0m\n\u001b[0m\u001b[1;32m    132\u001b[0m \u001b[0;34m\u001b[0m\u001b[0m\n\u001b[1;32m    133\u001b[0m \u001b[0;34m\u001b[0m\u001b[0m\n",
            "\u001b[0;32m/usr/local/lib/python3.11/dist-packages/google/api_core/retry/retry_unary.py\u001b[0m in \u001b[0;36mretry_wrapped_func\u001b[0;34m(*args, **kwargs)\u001b[0m\n\u001b[1;32m    292\u001b[0m                 \u001b[0mself\u001b[0m\u001b[0;34m.\u001b[0m\u001b[0m_initial\u001b[0m\u001b[0;34m,\u001b[0m \u001b[0mself\u001b[0m\u001b[0;34m.\u001b[0m\u001b[0m_maximum\u001b[0m\u001b[0;34m,\u001b[0m \u001b[0mmultiplier\u001b[0m\u001b[0;34m=\u001b[0m\u001b[0mself\u001b[0m\u001b[0;34m.\u001b[0m\u001b[0m_multiplier\u001b[0m\u001b[0;34m\u001b[0m\u001b[0;34m\u001b[0m\u001b[0m\n\u001b[1;32m    293\u001b[0m             )\n\u001b[0;32m--> 294\u001b[0;31m             return retry_target(\n\u001b[0m\u001b[1;32m    295\u001b[0m                 \u001b[0mtarget\u001b[0m\u001b[0;34m,\u001b[0m\u001b[0;34m\u001b[0m\u001b[0;34m\u001b[0m\u001b[0m\n\u001b[1;32m    296\u001b[0m                 \u001b[0mself\u001b[0m\u001b[0;34m.\u001b[0m\u001b[0m_predicate\u001b[0m\u001b[0;34m,\u001b[0m\u001b[0;34m\u001b[0m\u001b[0;34m\u001b[0m\u001b[0m\n",
            "\u001b[0;32m/usr/local/lib/python3.11/dist-packages/google/api_core/retry/retry_unary.py\u001b[0m in \u001b[0;36mretry_target\u001b[0;34m(target, predicate, sleep_generator, timeout, on_error, exception_factory, **kwargs)\u001b[0m\n\u001b[1;32m    154\u001b[0m         \u001b[0;32mexcept\u001b[0m \u001b[0mException\u001b[0m \u001b[0;32mas\u001b[0m \u001b[0mexc\u001b[0m\u001b[0;34m:\u001b[0m\u001b[0;34m\u001b[0m\u001b[0;34m\u001b[0m\u001b[0m\n\u001b[1;32m    155\u001b[0m             \u001b[0;31m# defer to shared logic for handling errors\u001b[0m\u001b[0;34m\u001b[0m\u001b[0;34m\u001b[0m\u001b[0m\n\u001b[0;32m--> 156\u001b[0;31m             next_sleep = _retry_error_helper(\n\u001b[0m\u001b[1;32m    157\u001b[0m                 \u001b[0mexc\u001b[0m\u001b[0;34m,\u001b[0m\u001b[0;34m\u001b[0m\u001b[0;34m\u001b[0m\u001b[0m\n\u001b[1;32m    158\u001b[0m                 \u001b[0mdeadline\u001b[0m\u001b[0;34m,\u001b[0m\u001b[0;34m\u001b[0m\u001b[0;34m\u001b[0m\u001b[0m\n",
            "\u001b[0;32m/usr/local/lib/python3.11/dist-packages/google/api_core/retry/retry_base.py\u001b[0m in \u001b[0;36m_retry_error_helper\u001b[0;34m(exc, deadline, sleep_iterator, error_list, predicate_fn, on_error_fn, exc_factory_fn, original_timeout)\u001b[0m\n\u001b[1;32m    212\u001b[0m             \u001b[0moriginal_timeout\u001b[0m\u001b[0;34m,\u001b[0m\u001b[0;34m\u001b[0m\u001b[0;34m\u001b[0m\u001b[0m\n\u001b[1;32m    213\u001b[0m         )\n\u001b[0;32m--> 214\u001b[0;31m         \u001b[0;32mraise\u001b[0m \u001b[0mfinal_exc\u001b[0m \u001b[0;32mfrom\u001b[0m \u001b[0msource_exc\u001b[0m\u001b[0;34m\u001b[0m\u001b[0;34m\u001b[0m\u001b[0m\n\u001b[0m\u001b[1;32m    215\u001b[0m     \u001b[0;32mif\u001b[0m \u001b[0mon_error_fn\u001b[0m \u001b[0;32mis\u001b[0m \u001b[0;32mnot\u001b[0m \u001b[0;32mNone\u001b[0m\u001b[0;34m:\u001b[0m\u001b[0;34m\u001b[0m\u001b[0;34m\u001b[0m\u001b[0m\n\u001b[1;32m    216\u001b[0m         \u001b[0mon_error_fn\u001b[0m\u001b[0;34m(\u001b[0m\u001b[0mexc\u001b[0m\u001b[0;34m)\u001b[0m\u001b[0;34m\u001b[0m\u001b[0;34m\u001b[0m\u001b[0m\n",
            "\u001b[0;32m/usr/local/lib/python3.11/dist-packages/google/api_core/retry/retry_unary.py\u001b[0m in \u001b[0;36mretry_target\u001b[0;34m(target, predicate, sleep_generator, timeout, on_error, exception_factory, **kwargs)\u001b[0m\n\u001b[1;32m    145\u001b[0m     \u001b[0;32mwhile\u001b[0m \u001b[0;32mTrue\u001b[0m\u001b[0;34m:\u001b[0m\u001b[0;34m\u001b[0m\u001b[0;34m\u001b[0m\u001b[0m\n\u001b[1;32m    146\u001b[0m         \u001b[0;32mtry\u001b[0m\u001b[0;34m:\u001b[0m\u001b[0;34m\u001b[0m\u001b[0;34m\u001b[0m\u001b[0m\n\u001b[0;32m--> 147\u001b[0;31m             \u001b[0mresult\u001b[0m \u001b[0;34m=\u001b[0m \u001b[0mtarget\u001b[0m\u001b[0;34m(\u001b[0m\u001b[0;34m)\u001b[0m\u001b[0;34m\u001b[0m\u001b[0;34m\u001b[0m\u001b[0m\n\u001b[0m\u001b[1;32m    148\u001b[0m             \u001b[0;32mif\u001b[0m \u001b[0minspect\u001b[0m\u001b[0;34m.\u001b[0m\u001b[0misawaitable\u001b[0m\u001b[0;34m(\u001b[0m\u001b[0mresult\u001b[0m\u001b[0;34m)\u001b[0m\u001b[0;34m:\u001b[0m\u001b[0;34m\u001b[0m\u001b[0;34m\u001b[0m\u001b[0m\n\u001b[1;32m    149\u001b[0m                 \u001b[0mwarnings\u001b[0m\u001b[0;34m.\u001b[0m\u001b[0mwarn\u001b[0m\u001b[0;34m(\u001b[0m\u001b[0m_ASYNC_RETRY_WARNING\u001b[0m\u001b[0;34m)\u001b[0m\u001b[0;34m\u001b[0m\u001b[0;34m\u001b[0m\u001b[0m\n",
            "\u001b[0;32m/usr/local/lib/python3.11/dist-packages/google/api_core/timeout.py\u001b[0m in \u001b[0;36mfunc_with_timeout\u001b[0;34m(*args, **kwargs)\u001b[0m\n\u001b[1;32m    128\u001b[0m                 \u001b[0mkwargs\u001b[0m\u001b[0;34m[\u001b[0m\u001b[0;34m\"timeout\"\u001b[0m\u001b[0;34m]\u001b[0m \u001b[0;34m=\u001b[0m \u001b[0mremaining_timeout\u001b[0m\u001b[0;34m\u001b[0m\u001b[0;34m\u001b[0m\u001b[0m\n\u001b[1;32m    129\u001b[0m \u001b[0;34m\u001b[0m\u001b[0m\n\u001b[0;32m--> 130\u001b[0;31m             \u001b[0;32mreturn\u001b[0m \u001b[0mfunc\u001b[0m\u001b[0;34m(\u001b[0m\u001b[0;34m*\u001b[0m\u001b[0margs\u001b[0m\u001b[0;34m,\u001b[0m \u001b[0;34m**\u001b[0m\u001b[0mkwargs\u001b[0m\u001b[0;34m)\u001b[0m\u001b[0;34m\u001b[0m\u001b[0;34m\u001b[0m\u001b[0m\n\u001b[0m\u001b[1;32m    131\u001b[0m \u001b[0;34m\u001b[0m\u001b[0m\n\u001b[1;32m    132\u001b[0m         \u001b[0;32mreturn\u001b[0m \u001b[0mfunc_with_timeout\u001b[0m\u001b[0;34m\u001b[0m\u001b[0;34m\u001b[0m\u001b[0m\n",
            "\u001b[0;32m/usr/local/lib/python3.11/dist-packages/google/api_core/grpc_helpers.py\u001b[0m in \u001b[0;36merror_remapped_callable\u001b[0;34m(*args, **kwargs)\u001b[0m\n\u001b[1;32m     76\u001b[0m             \u001b[0;32mreturn\u001b[0m \u001b[0mcallable_\u001b[0m\u001b[0;34m(\u001b[0m\u001b[0;34m*\u001b[0m\u001b[0margs\u001b[0m\u001b[0;34m,\u001b[0m \u001b[0;34m**\u001b[0m\u001b[0mkwargs\u001b[0m\u001b[0;34m)\u001b[0m\u001b[0;34m\u001b[0m\u001b[0;34m\u001b[0m\u001b[0m\n\u001b[1;32m     77\u001b[0m         \u001b[0;32mexcept\u001b[0m \u001b[0mgrpc\u001b[0m\u001b[0;34m.\u001b[0m\u001b[0mRpcError\u001b[0m \u001b[0;32mas\u001b[0m \u001b[0mexc\u001b[0m\u001b[0;34m:\u001b[0m\u001b[0;34m\u001b[0m\u001b[0;34m\u001b[0m\u001b[0m\n\u001b[0;32m---> 78\u001b[0;31m             \u001b[0;32mraise\u001b[0m \u001b[0mexceptions\u001b[0m\u001b[0;34m.\u001b[0m\u001b[0mfrom_grpc_error\u001b[0m\u001b[0;34m(\u001b[0m\u001b[0mexc\u001b[0m\u001b[0;34m)\u001b[0m \u001b[0;32mfrom\u001b[0m \u001b[0mexc\u001b[0m\u001b[0;34m\u001b[0m\u001b[0;34m\u001b[0m\u001b[0m\n\u001b[0m\u001b[1;32m     79\u001b[0m \u001b[0;34m\u001b[0m\u001b[0m\n\u001b[1;32m     80\u001b[0m     \u001b[0;32mreturn\u001b[0m \u001b[0merror_remapped_callable\u001b[0m\u001b[0;34m\u001b[0m\u001b[0;34m\u001b[0m\u001b[0m\n",
            "\u001b[0;31mResourceExhausted\u001b[0m: 429 You exceeded your current quota, please check your plan and billing details. For more information on this error, head to: https://ai.google.dev/gemini-api/docs/rate-limits. [violations {\n  quota_metric: \"generativelanguage.googleapis.com/generate_content_free_tier_requests\"\n  quota_id: \"GenerateRequestsPerDayPerProjectPerModel-FreeTier\"\n  quota_dimensions {\n    key: \"model\"\n    value: \"gemini-1.5-flash\"\n  }\n  quota_dimensions {\n    key: \"location\"\n    value: \"global\"\n  }\n  quota_value: 50\n}\n, links {\n  description: \"Learn more about Gemini API quotas\"\n  url: \"https://ai.google.dev/gemini-api/docs/rate-limits\"\n}\n, retry_delay {\n  seconds: 8\n}\n]"
          ]
        }
      ]
    },
    {
      "cell_type": "code",
      "source": [
        "#save training data\n",
        "import json\n",
        "from typing import List, Dict\n",
        "\n",
        "def save_training_data(data: List[Dict], filename: str = \"training_data.jsonl\") -> None:\n",
        "  \"\"\"\n",
        "  Save training data to a JSONL file.\n",
        "\n",
        "  Args:\n",
        "    data: A list of dictionaries representing the training data.\n",
        "    filename: The name of the JSONL file to save the data to. Default is \"training_data.jsonl\".\n",
        "  \"\"\"\n",
        "  try:\n",
        "    # Open the file in append mode ('a') to  add data without overwriting\n",
        "    with open(filename, 'a') as file:\n",
        "      # iterate through the data and write each item as a separate JSON line\n",
        "      for item in data:\n",
        "        json.dump(item, file)\n",
        "        file.write('\\n') # Add a newline to separate JSON objects\n",
        "    print(f\"Training data saved to {filename}\")\n",
        "  except Exception as e:\n",
        "    print(f\"Error saving training data: {e}\")\n",
        "\n",
        "# usage\n",
        "with open(f'training_data.jsonl', 'w') as file:\n",
        "   for data in ai_response_data:\n",
        "      save_training_data([data], file)\n",
        "\n",
        ""
      ],
      "metadata": {
        "id": "dHlZ5u5MoTwI"
      },
      "execution_count": 1,
      "outputs": []
    },
    {
      "cell_type": "markdown",
      "source": [],
      "metadata": {
        "id": "z-SydkdHq7ak"
      }
    }
  ]
}